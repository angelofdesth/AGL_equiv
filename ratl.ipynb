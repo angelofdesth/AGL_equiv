{
 "cells": [
  {
   "cell_type": "code",
   "execution_count": null,
   "id": "9450c1ab",
   "metadata": {
    "vscode": {
     "languageId": "sage"
    }
   },
   "outputs": [],
   "source": [
    "from pprint import pprint\n",
    "from tqdm import tqdm"
   ]
  },
  {
   "cell_type": "code",
   "execution_count": null,
   "id": "21953332",
   "metadata": {
    "vscode": {
     "languageId": "sage"
    }
   },
   "outputs": [],
   "source": [
    "q = 5\n",
    "F.<a> = GF(q)\n",
    "d = 3\n",
    "\n",
    "R.<x> = PolynomialRing(F)\n",
    "p = F.characteristic()\n",
    "r = F.degree()"
   ]
  },
  {
   "cell_type": "code",
   "execution_count": null,
   "id": "14baffb5",
   "metadata": {
    "vscode": {
     "languageId": "sage"
    }
   },
   "outputs": [],
   "source": [
    "def numRatlEquivClasses(p, q,n): \n",
    "    def A(q, n): \n",
    "        a = sum([euler_phi(d) * (q^(2*n/d-2) + (d-1)*(q^(2*n/d)-1)/(q+1)) for d in divisors(gcd(q-1, n)) if d > 1])\n",
    "        b = sum([euler_phi(d) * (q^(2*floor(n/d)+1) + 1)/(q+1) for d in divisors(q-1) if (d not in divisors(n))])\n",
    "        return a + b \n",
    "\n",
    "    def B(q, n):\n",
    "        a = sum([euler_phi(d) * (q^(2*n/d-2) + (q+1) * (q^(2*n/d) - (-1)^(n/d))/(q^2 + 1)) for d in divisors(gcd((q+1), n)) if d % 2 == 0])\n",
    "        b = sum([euler_phi(d) * q^(2*n/d-2) for d in divisors(gcd((q+1), n)) if (d % 2 == 1 and d > 1)])\n",
    "        c = 1/((q+1)*(q^2+1)) * sum([euler_phi(d) * ((1+(-1)^(n//d))/2 * (1+q)^2 + q*(q^(2 * n//d + 2) -1)) for d in divisors(q+1) if d not in divisors(n)])\n",
    "        d = 1/(q^2 + 1) * sum([euler_phi(d) * ((-1)^(n//d) * (1+q) + q^(2 * (n//d) + 1) * (q-1)) for d in divisors(q+1) if d in divisors(q+1) if d not in divisors(n)])\n",
    "        # print(\"B terms are\", a, b, c, d)\n",
    "        return a + b + d\n",
    "\n",
    "    def C(q, n):\n",
    "        if n % p == 0:\n",
    "            return q^(2*n/p-1) \n",
    "        elif n == 1: \n",
    "            return 1 \n",
    "        elif n % p == 1: \n",
    "            return q^(2*(n-1)/p-1) * (q-1) \n",
    "        else: \n",
    "            return 0\n",
    "\n",
    "    # print(\"Each components is\", A(q, n), B(q, n), C(q, n))\n",
    "    \n",
    "    return (q^(2*n-3))/(q^2-1) + 1/(2*(q-1)) * A(q, n) + 1/(2*(q+1)) * B(q, n) + 1/q * C(q,n)"
   ]
  },
  {
   "cell_type": "code",
   "execution_count": null,
   "id": "8186656f",
   "metadata": {
    "vscode": {
     "languageId": "sage"
    }
   },
   "outputs": [],
   "source": [
    "print(numRatlEquivClasses(5, 5, 3))"
   ]
  },
  {
   "cell_type": "code",
   "execution_count": 65,
   "id": "e00fb856",
   "metadata": {
    "vscode": {
     "languageId": "sage"
    }
   },
   "outputs": [],
   "source": [
    "# very slow code; pls scratch this later on but I needed some data for very small case \n",
    "PGL = [(a*x + b)/(c*x + d) for a in F for b in F for c in F for d in F if a*d-b*c != 0]\n",
    "\n",
    "def ratlEquiv(f, g):\n",
    "    \"\"\"returns whether or not f is PGL-equiv to g\"\"\" \n",
    "    for alpha in PGL: \n",
    "        for beta in PGL: \n",
    "            if alpha(f(beta)) == g: \n",
    "                return (true, alpha, beta)\n",
    "    return false\n",
    "\n",
    "deg3ratls = [(a*x^2 + b * x + c)/(d*x^3 + e * x^2 + f * x + g) for a in F for b in F for c in F for d in F if d != 0 for e in F for f in F for g in F]\n",
    "\n",
    "\n",
    "def reallyslowRatlEquivClasses(): \n",
    "    classes = set()\n",
    "    for f in deg3ratls: \n",
    "        for alpha in PGL: \n",
    "            for beta in PGL: \n",
    "                if alpha(f(beta)) in classes: \n",
    "                    continue \n",
    "        classes.add(f)\n",
    "    return classes\n",
    "\n",
    "def valueFreq(f): \n",
    "    \"\"\"given a rational function f, compute the value frequency of it\"\"\"\n",
    "    frequencies = defaultdict(int)\n",
    "    for a in list(F):\n",
    "        try: \n",
    "            value = f(a)\n",
    "        except ZeroDivisionError: \n",
    "            value = \"infinity\" \n",
    "        frequencies[value] += 1\n",
    "    return sorted(frequencies.values()) \n",
    "\n"
   ]
  },
  {
   "cell_type": "code",
   "execution_count": 66,
   "id": "d71f0e00",
   "metadata": {
    "vscode": {
     "languageId": "sage"
    }
   },
   "outputs": [
    {
     "ename": "ZeroDivisionError",
     "evalue": "",
     "output_type": "error",
     "traceback": [
      "\u001b[0;31m---------------------------------------------------------------------------\u001b[0m",
      "\u001b[0;31mZeroDivisionError\u001b[0m                         Traceback (most recent call last)",
      "Cell \u001b[0;32mIn[66], line 1\u001b[0m\n\u001b[0;32m----> 1\u001b[0m classes \u001b[38;5;241m=\u001b[39m \u001b[43mreallyslowRatlEquivClasses\u001b[49m\u001b[43m(\u001b[49m\u001b[43m)\u001b[49m\n\u001b[1;32m      3\u001b[0m \u001b[38;5;28;01mfor\u001b[39;00m f \u001b[38;5;129;01min\u001b[39;00m classes: \n\u001b[1;32m      4\u001b[0m     \u001b[38;5;28mprint\u001b[39m(f, valueFreq(f))\n",
      "Cell \u001b[0;32mIn[65], line 20\u001b[0m, in \u001b[0;36mreallyslowRatlEquivClasses\u001b[0;34m()\u001b[0m\n\u001b[1;32m     18\u001b[0m \u001b[38;5;28;01mfor\u001b[39;00m alpha \u001b[38;5;129;01min\u001b[39;00m PGL: \n\u001b[1;32m     19\u001b[0m     \u001b[38;5;28;01mfor\u001b[39;00m beta \u001b[38;5;129;01min\u001b[39;00m PGL: \n\u001b[0;32m---> 20\u001b[0m         \u001b[38;5;28;01mif\u001b[39;00m \u001b[43malpha\u001b[49m\u001b[43m(\u001b[49m\u001b[43mf\u001b[49m\u001b[43m(\u001b[49m\u001b[43mbeta\u001b[49m\u001b[43m)\u001b[49m\u001b[43m)\u001b[49m \u001b[38;5;129;01min\u001b[39;00m classes: \n\u001b[1;32m     21\u001b[0m             \u001b[38;5;28;01mcontinue\u001b[39;00m \n\u001b[1;32m     22\u001b[0m classes\u001b[38;5;241m.\u001b[39madd(f)\n",
      "File \u001b[0;32m~/anaconda3/envs/sage/lib/python3.12/site-packages/sage/rings/fraction_field_FpT.pyx:284\u001b[0m, in \u001b[0;36msage.rings.fraction_field_FpT.FpTElement.__call__ (build/cythonized/sage/rings/fraction_field_FpT.cpp:11309)\u001b[0;34m()\u001b[0m\n\u001b[1;32m    282\u001b[0m         (t^2 + 2*t + 1)/(t^6 + 4*t^4 + 4*t^3)\n\u001b[1;32m    283\u001b[0m     \"\"\"\n\u001b[0;32m--> 284\u001b[0m     return self.numer()(*args, **kwds) / self.denom()(*args, **kwds)\n\u001b[1;32m    285\u001b[0m \n\u001b[1;32m    286\u001b[0m def subs(self, in_dict=None, *args, **kwds):\n",
      "File \u001b[0;32m~/anaconda3/envs/sage/lib/python3.12/site-packages/sage/structure/element.pyx:1728\u001b[0m, in \u001b[0;36msage.structure.element.Element.__truediv__ (build/cythonized/sage/structure/element.c:21224)\u001b[0;34m()\u001b[0m\n\u001b[1;32m   1726\u001b[0m cdef int cl = classify_elements(left, right)\n\u001b[1;32m   1727\u001b[0m if HAVE_SAME_PARENT(cl):\n\u001b[0;32m-> 1728\u001b[0m     return (<Element>left)._div_(right)\n\u001b[1;32m   1729\u001b[0m if BOTH_ARE_ELEMENT(cl):\n\u001b[1;32m   1730\u001b[0m     return coercion_model.bin_op(left, right, truediv)\n",
      "File \u001b[0;32m~/anaconda3/envs/sage/lib/python3.12/site-packages/sage/rings/fraction_field_FpT.pyx:568\u001b[0m, in \u001b[0;36msage.rings.fraction_field_FpT.FpTElement._div_ (build/cythonized/sage/rings/fraction_field_FpT.cpp:14494)\u001b[0;34m()\u001b[0m\n\u001b[1;32m    566\u001b[0m cdef FpTElement other = <FpTElement>_other\n\u001b[1;32m    567\u001b[0m if nmod_poly_degree(other._numer) == -1:\n\u001b[0;32m--> 568\u001b[0m     raise ZeroDivisionError\n\u001b[1;32m    569\u001b[0m cdef FpTElement x = self._new_c()\n\u001b[1;32m    570\u001b[0m nmod_poly_mul(x._numer, self._numer, other._denom)\n",
      "\u001b[0;31mZeroDivisionError\u001b[0m: "
     ]
    }
   ],
   "source": [
    "classes = reallyslowRatlEquivClasses()\n",
    "\n",
    "for f in classes: \n",
    "    print(f, valueFreq(f))"
   ]
  }
 ],
 "metadata": {
  "kernelspec": {
   "display_name": "SageMath 10.6",
   "language": "sage",
   "name": "sagemath"
  },
  "language_info": {
   "codemirror_mode": {
    "name": "ipython",
    "version": 3
   },
   "file_extension": ".py",
   "mimetype": "text/x-python",
   "name": "python",
   "nbconvert_exporter": "python",
   "pygments_lexer": "ipython3",
   "version": "3.12.10"
  }
 },
 "nbformat": 4,
 "nbformat_minor": 5
}
