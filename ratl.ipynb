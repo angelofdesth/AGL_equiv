{
 "cells": [
  {
   "cell_type": "code",
   "execution_count": 17,
   "id": "9450c1ab",
   "metadata": {
    "vscode": {
     "languageId": "sage"
    }
   },
   "outputs": [],
   "source": [
    "from collections import defaultdict\n",
    "from copy import deepcopy\n",
    "from pprint import pprint\n",
    "from tqdm import tqdm"
   ]
  },
  {
   "cell_type": "code",
   "execution_count": null,
   "id": "21953332",
   "metadata": {
    "vscode": {
     "languageId": "sage"
    }
   },
   "outputs": [],
   "source": [
    "q = 7\n",
    "F.<a> = GF(q)\n",
    "d = 3\n",
    "\n",
    "R.<x> = PolynomialRing(F)\n",
    "p = F.characteristic()\n",
    "r = F.degree()\n",
    "\n",
    "# PGL = [(x + b)/(c*x + d) for b in F for c in F for d in F if d - b*c != 0] + [1 / (c*x + d) for c in F for d in F if c != 0]\n",
    "\n",
    "def check(s, t):\n",
    "    poly = x^4 - 2*x^3 - s*x^2 - 2*t*x + t\n",
    "    return not any(root[0]^3 != -t for root in poly.roots())\n",
    "\n",
    "# deg3ratls = set(f / (x^3 + g) for f in R.polynomials(max_degree=2) for g in R.polynomials(max_degree=2) if gcd(f, x^3 + g) == 1)\n",
    "deg3ratls = set((x^3 + s*x + t) / (x * (x - 1)) for s in F for t in F if t != 0 and 1 + s + t != 0 and check(s, t))"
   ]
  },
  {
   "cell_type": "code",
   "execution_count": 19,
   "id": "14baffb5",
   "metadata": {
    "vscode": {
     "languageId": "sage"
    }
   },
   "outputs": [],
   "source": [
    "def numRatlEquivClasses(p, q, n): \n",
    "    def A(q, n): \n",
    "        a = sum([euler_phi(d) * (q^(2*n/d-2) + (d-1)*(q^(2*n/d)-1)/(q+1)) for d in divisors(gcd(q-1, n)) if d > 1])\n",
    "        b = sum([euler_phi(d) * (q^(2*floor(n/d)+1) + 1)/(q+1) for d in divisors(q-1) if (d not in divisors(n))])\n",
    "        return a + b \n",
    "\n",
    "    def B(q, n):\n",
    "        a = sum([euler_phi(d) * (q^(2*n/d-2) + (q+1) * (q^(2*n/d) - (-1)^(n/d))/(q^2 + 1)) for d in divisors(gcd((q+1), n)) if d % 2 == 0])\n",
    "        b = sum([euler_phi(d) * q^(2*n/d-2) for d in divisors(gcd((q+1), n)) if (d % 2 == 1 and d > 1)])\n",
    "        c = 1/((q+1)*(q^2+1)) * sum([euler_phi(d) * ((1+(-1)^(n//d))/2 * (1+q)^2 + q*(q^(2 * n//d + 2) -1)) for d in divisors(q+1) if d not in divisors(n)])\n",
    "        d = 1/(q^2 + 1) * sum([euler_phi(d) * ((-1)^(n//d) * (1+q) + q^(2 * (n//d) + 1) * (q-1)) for d in divisors(q+1) if d in divisors(q+1) if d not in divisors(n)])\n",
    "        # print(\"B terms are\", a, b, c, d)\n",
    "        return a + b + d\n",
    "\n",
    "    def C(q, n):\n",
    "        if n % p == 0:\n",
    "            return q^(2*n/p-1) \n",
    "        elif n == 1: \n",
    "            return 1 \n",
    "        elif n % p == 1: \n",
    "            return q^(2*(n-1)/p-1) * (q-1) \n",
    "        else: \n",
    "            return 0\n",
    "\n",
    "    # print(\"Each components is\", A(q, n), B(q, n), C(q, n))\n",
    "    \n",
    "    return (q^(2*n-3))/(q^2-1) + 1/(2*(q-1)) * A(q, n) + 1/(2*(q+1)) * B(q, n) + 1/q * C(q,n)"
   ]
  },
  {
   "cell_type": "code",
   "execution_count": 32,
   "id": "8186656f",
   "metadata": {
    "vscode": {
     "languageId": "sage"
    }
   },
   "outputs": [
    {
     "name": "stdout",
     "output_type": "stream",
     "text": [
      "16\n"
     ]
    }
   ],
   "source": [
    "print(numRatlEquivClasses(7, 7, d))"
   ]
  },
  {
   "cell_type": "code",
   "execution_count": null,
   "id": "e00fb856",
   "metadata": {
    "vscode": {
     "languageId": "sage"
    }
   },
   "outputs": [],
   "source": [
    "# very slow code; pls scratch this later on but I needed some data for very small case \n",
    "def ratlEquiv(f, g):\n",
    "    \"\"\"returns whether or not f is PGL-equiv to g\"\"\" \n",
    "    for alpha in PGL: \n",
    "        for beta in PGL: \n",
    "            try: \n",
    "                if alpha(f(beta)) == g: \n",
    "                    return (true, alpha, beta)\n",
    "            except ZeroDivisionError: \n",
    "                continue\n",
    "    return False\n",
    "\n",
    "def valueFreq(f): \n",
    "    \"\"\"given a rational function f, compute the value frequency of it\"\"\"\n",
    "    frequencies = defaultdict(int)\n",
    "    for a in F:\n",
    "        try: \n",
    "            value = f(a)\n",
    "        except ZeroDivisionError: \n",
    "            value = \"infinity\" \n",
    "        frequencies[value] += 1\n",
    "    return sorted(frequencies.values()) "
   ]
  },
  {
   "cell_type": "code",
   "execution_count": 99,
   "id": "5520f3f4",
   "metadata": {
    "vscode": {
     "languageId": "sagemath"
    }
   },
   "outputs": [],
   "source": [
    "def reallyslowRatlEquivClasses(print_progress=False): \n",
    "    classes = defaultdict(set)\n",
    "    total = len(deg3ratls)\n",
    "    candidates = deepcopy(deg3ratls)\n",
    "    if print_progress:\n",
    "        print(f\"{total - len(candidates)} out of {total} done\", end=\"\\r\")\n",
    "    while candidates:\n",
    "        f = candidates.pop()\n",
    "        classes[f].add(f)\n",
    "        for alpha in PGL: \n",
    "            for beta in PGL: \n",
    "                try: \n",
    "                    g = alpha(f(beta))\n",
    "                    if g in candidates:\n",
    "                        classes[f].add(g)\n",
    "                        candidates.discard(g)\n",
    "                except ZeroDivisionError: \n",
    "                    continue\n",
    "        # classes.add(f)\n",
    "        if print_progress:\n",
    "            print(f\"{total - len(candidates)} out of {total} done\", end=\"\\r\")\n",
    "    if print_progress:\n",
    "        print()\n",
    "    return classes"
   ]
  },
  {
   "cell_type": "code",
   "execution_count": 22,
   "id": "d71f0e00",
   "metadata": {
    "vscode": {
     "languageId": "sage"
    }
   },
   "outputs": [
    {
     "name": "stdout",
     "output_type": "stream",
     "text": [
      "100842 out of 100842 done\n",
      "16\n",
      "dict_keys([(5*x^2 + 6*x + 5)/(x^3 + 3*x + 6), (6*x^2 + 5*x + 2)/(x^3 + x^2 + 4*x), (5*x^2 + 6*x + 4)/(x^3 + x^2 + 4*x), (5*x^2 + 6*x + 4)/(x^3 + 4*x^2 + x + 2), (6*x^2 + 5*x + 2)/(x^3 + 4*x^2 + x + 2), (5*x^2 + x)/(x^3 + 4*x^2 + 3*x + 5), (2*x^2 + 5*x + 2)/(x^3 + 4*x^2 + 3*x + 1), (3*x^2 + 2*x + 4)/(x^3 + 5*x^2 + 5*x), (6*x^2 + 4*x + 2)/(x^3 + 5*x^2 + x), (5*x^2 + 6*x + 1)/(x^3 + 5*x^2 + 6*x + 1), (4*x + 3)/(x^3 + 6*x^2 + 6*x + 4), (4*x^2 + 6)/(x^3 + 6*x^2 + 6*x + 4), (4*x^2 + 6*x + 1)/(x^3 + x^2 + 5*x + 6), (6*x^2 + 4*x)/(x^3 + 4), (3*x^2 + 3*x + 6)/(x^3 + 3*x^2 + 4*x + 1), (5*x^2 + 5*x + 1)/(x^3 + x^2 + 4*x + 4)])\n"
     ]
    }
   ],
   "source": [
    "classes = reallyslowRatlEquivClasses(print_progress=True)\n",
    "print(len(classes))\n",
    "pprint(classes.keys())\n",
    "\n",
    "# value_freqs = []\n",
    "# for f in tqdm(classes):\n",
    "#     value_freqs.append((f, valueFreq(f)))\n",
    "# pprint(value_freqs)"
   ]
  },
  {
   "cell_type": "code",
   "execution_count": 101,
   "id": "06783113",
   "metadata": {
    "vscode": {
     "languageId": "sagemath"
    }
   },
   "outputs": [],
   "source": [
    "def getOrbit(f):\n",
    "    s = f.numerator()[1]\n",
    "    t = f.numerator()[0]\n",
    "\n",
    "    preimages = defaultdict(set)\n",
    "    for a in F:\n",
    "        if a != 0 and a != 1:\n",
    "            preimages[f(a)].add(a)\n",
    "    \n",
    "    pairs = { (s, t) }\n",
    "    for preimage in preimages.values():\n",
    "        if len(preimage) == 3:\n",
    "            u, v, w = preimage\n",
    "            s_prime = (u^2*(-1 + v)*v*(u - w) - u*(-1 + v)*v^2*(u - w) + u*(u - v)*v^2*(-1 + w) + (1 - v)*v^2*(u - w)*w + (-1 + v)*v^2*(u - w)*w - u^2*(u - v)*(-1 + w)*w + v^2*(-u + v)*(-1 + w)*w - u*(-1 + v)*(u - w)*w^2 + (-1 + v)*v*(u - w)*w^2 + u*(u - v)*(-1 + w)*w^2 + (u - v)*v*(-1 + w)*w^2 + v*(-u + v)*(-1 + w)*w^2) / (u^2*(u - v)*(-1 + w)*w - 2*u*(u - v)*v*(-1 + w)*w + (u - v)*v^2*(-1 + w)*w)\n",
    "            t_prime = (-(u^2*(-1 + v)*v*(u - w)) + 2*u*(-1 + v)*v*(u - w)*w - (-1 + v)*v*(u - w)*w^2)/(u^2*(u - v)*(-1 + w)*w - 2*u*(u - v)*v*(-1 + w)*w + (u - v)*v^2*(-1 + w)*w)\n",
    "            pairs.add((s_prime, t_prime))\n",
    "\n",
    "    # print(pairs)\n",
    "    \n",
    "    def get(s, t):\n",
    "        return {\n",
    "            (s, t),\n",
    "            (s / t, 1 / t),\n",
    "            (s, -1 - s - t),\n",
    "            (s / t, -(1 + s + t) / t),\n",
    "            (-s / (1 + s + t), -1 / (1 + s + t)),\n",
    "            (-s / (1 + s + t), -t / (1 + s + t))\n",
    "        }\n",
    "    \n",
    "    pairs = set.union(*(get(s, t) for s, t in pairs))\n",
    "    return set((x^3 + s*x + t) / (x^2 - x) for s, t in pairs)\n",
    "\n",
    "def ratlEquivClassesCase3(print_progress=False):\n",
    "    classes = defaultdict(set)\n",
    "    total = len(deg3ratls)\n",
    "    candidates = deepcopy(deg3ratls)\n",
    "    if print_progress:\n",
    "        print(f\"{total - len(candidates)} out of {total} done\", end=\"\\r\")\n",
    "    while candidates:\n",
    "        f = candidates.pop()\n",
    "        orbit = getOrbit(f)\n",
    "        classes[f] = orbit\n",
    "        candidates -= orbit\n",
    "        if print_progress:\n",
    "            print(f\"{total - len(candidates)} out of {total} done\", end=\"\\r\")\n",
    "    if print_progress:\n",
    "        print()\n",
    "    return classes"
   ]
  },
  {
   "cell_type": "code",
   "execution_count": 68,
   "id": "12925564",
   "metadata": {
    "vscode": {
     "languageId": "sagemath"
    }
   },
   "outputs": [
    {
     "name": "stdout",
     "output_type": "stream",
     "text": [
      "{(3, 4), (3, 6)}\n"
     ]
    },
    {
     "data": {
      "text/plain": [
       "{(x^3 + 6*x + 2)/(x^2 + 6*x),\n",
       " (x^3 + 4*x + 3)/(x^2 + 6*x),\n",
       " (x^3 + 3*x + 4)/(x^2 + 6*x),\n",
       " (x^3 + 6*x + 5)/(x^2 + 6*x),\n",
       " (x^3 + 3*x + 6)/(x^2 + 6*x),\n",
       " (x^3 + 4*x + 6)/(x^2 + 6*x)}"
      ]
     },
     "execution_count": 68,
     "metadata": {},
     "output_type": "execute_result"
    }
   ],
   "source": [
    "getOrbit((x^3 + 3*x + 6) / (x^2 - x))"
   ]
  },
  {
   "cell_type": "code",
   "execution_count": 102,
   "id": "b7c629a2",
   "metadata": {
    "vscode": {
     "languageId": "sagemath"
    }
   },
   "outputs": [
    {
     "name": "stdout",
     "output_type": "stream",
     "text": [
      "19 out of 19 done\n",
      "6\n",
      "defaultdict(<class 'set'>,\n",
      "            {(x^3 + 1)/(x^2 + 6*x): {(x^3 + 1)/(x^2 + 6*x),\n",
      "                                     (x^3 + 3)/(x^2 + 6*x),\n",
      "                                     (x^3 + 5)/(x^2 + 6*x)},\n",
      "             (x^3 + 3*x + 1)/(x^2 + 6*x): {(x^3 + 3*x + 1)/(x^2 + 6*x),\n",
      "                                           (x^3 + 3*x + 2)/(x^2 + 6*x),\n",
      "                                           (x^3 + 5*x + 4)/(x^2 + 6*x)},\n",
      "             (x^3 + 4*x + 1)/(x^2 + 6*x): {(x^3 + 4*x + 1)/(x^2 + 6*x)},\n",
      "             (x^3 + 6*x + 2)/(x^2 + 6*x): {(x^3 + 6*x + 2)/(x^2 + 6*x),\n",
      "                                           (x^3 + 4*x + 3)/(x^2 + 6*x),\n",
      "                                           (x^3 + 3*x + 4)/(x^2 + 6*x),\n",
      "                                           (x^3 + 6*x + 5)/(x^2 + 6*x),\n",
      "                                           (x^3 + 3*x + 6)/(x^2 + 6*x),\n",
      "                                           (x^3 + 4*x + 6)/(x^2 + 6*x)},\n",
      "             (x^3 + 3*x + 5)/(x^2 + 6*x): {(x^3 + 2*x + 1)/(x^2 + 6*x),\n",
      "                                           (x^3 + 2*x + 3)/(x^2 + 6*x),\n",
      "                                           (x^3 + 3*x + 5)/(x^2 + 6*x)},\n",
      "             (x^3 + 6*x + 6)/(x^2 + 6*x): {(x^3 + 6*x + 1)/(x^2 + 6*x),\n",
      "                                           (x^3 + x + 6)/(x^2 + 6*x),\n",
      "                                           (x^3 + 6*x + 6)/(x^2 + 6*x)}})\n"
     ]
    }
   ],
   "source": [
    "classes = ratlEquivClassesCase3(print_progress=True)\n",
    "print(len(classes))\n",
    "pprint(classes)"
   ]
  },
  {
   "cell_type": "code",
   "execution_count": 58,
   "id": "6f56dfee",
   "metadata": {
    "vscode": {
     "languageId": "sagemath"
    }
   },
   "outputs": [
    {
     "data": {
      "text/plain": [
       "(True, x, x)"
      ]
     },
     "execution_count": 58,
     "metadata": {},
     "output_type": "execute_result"
    }
   ],
   "source": [
    "s, t = F(2), F(3)\n",
    "ratlEquiv((x^3 + (-s / (1 + s + t))*x + (-t / (1 + s + t)))/(x^2 - x), (x^3 + s*x + t)/(x^2 - x))"
    "sigma = 3\n",
    "for f in classes.keys():\n",
    "    if ratlEquiv(x^3, f): \n",
    "        print(f, \"x^3\")\n",
    "    elif ratlEquiv((x^3+3*sigma*x)/(3*x^2+sigma), f):\n",
    "        print(f, \"x^3 + 3 sigma\")\n",
    "    elif ratlEquiv(x^3-3*x, f): \n",
    "        print(f, \"x^3 - 3x\")\n",
    "    elif ratlEquiv(x^3 - 3 * sigma * x, f): \n",
    "        print(f, \"x^3 - 3 sigma x \")\n",
    "    "
   ]
  },
  {
   "cell_type": "code",
   "execution_count": 30,
   "id": "cba634b3",
   "metadata": {
    "vscode": {
     "languageId": "sagemath"
    }
   },
   "outputs": [
    {
     "name": "stdout",
     "output_type": "stream",
     "text": [
      "(6*x^2 + 4*x + 2)/(x^3 + 5*x^2 + x) x^3 - 3x\n",
      "(5*x^2 + 6*x + 1)/(x^3 + 5*x^2 + 6*x + 1) x^3\n",
      "(4*x^2 + 6*x + 1)/(x^3 + x^2 + 5*x + 6) x^3 - 3 sigma x \n",
      "(5*x^2 + 5*x + 1)/(x^3 + x^2 + 4*x + 4) x^3 + 3 sigma\n"
     ]
    }
   ],
   "source": [
    "sigma = 3\n",
    "for f in classes.keys():\n",
    "    if ratlEquiv(x^3, f): \n",
    "        print(f, \"x^3\")\n",
    "    elif ratlEquiv((x^3+3*sigma*x)/(3*x^2+sigma), f):\n",
    "        print(f, \"x^3 + 3 sigma\")\n",
    "    elif ratlEquiv(x^3-3*x, f): \n",
    "        print(f, \"x^3 - 3x\")\n",
    "    elif ratlEquiv(x^3 - 3 * sigma * x, f): \n",
    "        print(f, \"x^3 - 3 sigma x \")\n",
    "    "
   ]
  },
  {
   "cell_type": "code",
   "execution_count": 30,
   "id": "cba634b3",
   "metadata": {
    "vscode": {
     "languageId": "sage"
    }
   },
   "outputs": [
    {
     "name": "stdout",
     "output_type": "stream",
     "text": [
      "1\n",
      "3\n",
      "2\n",
      "6\n",
      "4\n",
      "5\n"
     ]
    }
   ],
   "source": [
    "a = 3\n",
    "for i in range(6):\n",
    "    print(a^i % 7)"
   ]
  }
 ],
 "metadata": {
  "kernelspec": {
   "display_name": "SageMath 10.6",
   "language": "sage",
   "name": "sagemath"
  },
  "language_info": {
   "codemirror_mode": {
    "name": "ipython",
    "version": 3
   },
   "file_extension": ".py",
   "mimetype": "text/x-python",
   "name": "python",
   "nbconvert_exporter": "python",
   "pygments_lexer": "ipython3",
   "version": "3.12.10"
  }
 },
 "nbformat": 4,
 "nbformat_minor": 5
}
