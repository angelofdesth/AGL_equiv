{
 "cells": [
  {
   "cell_type": "code",
   "execution_count": 4,
   "id": "9450c1ab",
   "metadata": {
    "vscode": {
     "languageId": "sage"
    }
   },
   "outputs": [],
   "source": [
    "from collections import defaultdict\n",
    "from copy import deepcopy\n",
    "from pprint import pprint\n",
    "from tqdm import tqdm"
   ]
  },
  {
   "cell_type": "code",
   "execution_count": 20,
   "id": "21953332",
   "metadata": {
    "vscode": {
     "languageId": "sage"
    }
   },
   "outputs": [
    {
     "name": "stdout",
     "output_type": "stream",
     "text": [
      "5 {1: 0, 2: 2, 3: 2, 4: 0, 5: 2}\n",
      "7 {1: 1, 2: 3, 3: 4, 4: 0, 5: 4}\n",
      "11 {1: 1, 2: 5, 3: 4, 4: 3, 5: 5}\n",
      "13 {1: 2, 2: 6, 3: 6, 4: 4, 5: 6}\n",
      "17 {1: 2, 2: 8, 3: 6, 4: 6, 5: 8}\n",
      "19 {1: 3, 2: 10, 3: 8, 4: 6, 5: 9}\n",
      "23 {1: 3, 2: 11, 3: 8, 4: 9, 5: 11}\n",
      "29 {1: 4, 2: 14, 3: 10, 4: 12, 5: 14}\n",
      "31 {1: 5, 2: 16, 3: 12, 4: 12, 5: 15}\n",
      "37 {1: 6, 2: 18, 3: 14, 4: 16, 5: 18}\n",
      "41 {1: 6, 2: 20, 3: 14, 4: 18, 5: 20}\n",
      "43 {1: 7, 2: 21, 3: 16, 4: 18, 5: 22}\n",
      "47 {1: 7, 2: 23, 3: 16, 4: 21, 5: 23}\n",
      "53 {1: 8, 2: 26, 3: 18, 4: 24, 5: 26}\n",
      "59 {1: 9, 2: 29, 3: 20, 4: 27, 5: 29}\n",
      "61 {1: 11, 2: 30, 3: 22, 4: 27, 5: 30}\n",
      "67 {1: 11, 2: 33, 3: 24, 4: 30, 5: 34}\n",
      "71 {1: 11, 2: 35, 3: 24, 4: 33, 5: 35}\n",
      "73 {1: 12, 2: 36, 3: 26, 4: 34, 5: 36}\n",
      "79 {1: 13, 2: 40, 3: 28, 4: 36, 5: 39}\n"
     ]
    },
    {
     "ename": "KeyboardInterrupt",
     "evalue": "",
     "output_type": "error",
     "traceback": [
      "\u001b[0;31m---------------------------------------------------------------------------\u001b[0m",
      "\u001b[0;31mKeyboardInterrupt\u001b[0m                         Traceback (most recent call last)",
      "Cell \u001b[0;32mIn[20], line 18\u001b[0m\n\u001b[1;32m     14\u001b[0m     \u001b[38;5;28;01mreturn\u001b[39;00m \u001b[38;5;129;01mnot\u001b[39;00m \u001b[38;5;28many\u001b[39m(root[Integer(\u001b[38;5;241m0\u001b[39m)]\u001b[38;5;241m*\u001b[39m\u001b[38;5;241m*\u001b[39mInteger(\u001b[38;5;241m3\u001b[39m) \u001b[38;5;241m!=\u001b[39m \u001b[38;5;241m-\u001b[39mt \u001b[38;5;28;01mfor\u001b[39;00m root \u001b[38;5;129;01min\u001b[39;00m poly\u001b[38;5;241m.\u001b[39mroots())\n\u001b[1;32m     16\u001b[0m \u001b[38;5;66;03m# deg3ratls = set(f / (x^3 + g) for f in R.polynomials(max_degree=2) for g in R.polynomials(max_degree=2) if gcd(f, x^3 + g) == 1)\u001b[39;00m\n\u001b[0;32m---> 18\u001b[0m deg3ratls \u001b[38;5;241m=\u001b[39m \u001b[38;5;28;43mset\u001b[39;49m\u001b[43m(\u001b[49m\u001b[43m(\u001b[49m\u001b[43mx\u001b[49m\u001b[38;5;241;43m*\u001b[39;49m\u001b[38;5;241;43m*\u001b[39;49m\u001b[43mInteger\u001b[49m\u001b[43m(\u001b[49m\u001b[38;5;241;43m3\u001b[39;49m\u001b[43m)\u001b[49m\u001b[43m \u001b[49m\u001b[38;5;241;43m+\u001b[39;49m\u001b[43m \u001b[49m\u001b[43ms\u001b[49m\u001b[38;5;241;43m*\u001b[39;49m\u001b[43mx\u001b[49m\u001b[43m \u001b[49m\u001b[38;5;241;43m+\u001b[39;49m\u001b[43m \u001b[49m\u001b[43mt\u001b[49m\u001b[43m)\u001b[49m\u001b[43m \u001b[49m\u001b[38;5;241;43m/\u001b[39;49m\u001b[43m \u001b[49m\u001b[43m(\u001b[49m\u001b[43mx\u001b[49m\u001b[43m \u001b[49m\u001b[38;5;241;43m*\u001b[39;49m\u001b[43m \u001b[49m\u001b[43m(\u001b[49m\u001b[43mx\u001b[49m\u001b[43m \u001b[49m\u001b[38;5;241;43m-\u001b[39;49m\u001b[43m \u001b[49m\u001b[43mInteger\u001b[49m\u001b[43m(\u001b[49m\u001b[38;5;241;43m1\u001b[39;49m\u001b[43m)\u001b[49m\u001b[43m)\u001b[49m\u001b[43m)\u001b[49m\u001b[43m \u001b[49m\u001b[38;5;28;43;01mfor\u001b[39;49;00m\u001b[43m \u001b[49m\u001b[43ms\u001b[49m\u001b[43m \u001b[49m\u001b[38;5;129;43;01min\u001b[39;49;00m\u001b[43m \u001b[49m\u001b[43mF\u001b[49m\u001b[43m \u001b[49m\u001b[38;5;28;43;01mfor\u001b[39;49;00m\u001b[43m \u001b[49m\u001b[43mt\u001b[49m\u001b[43m \u001b[49m\u001b[38;5;129;43;01min\u001b[39;49;00m\u001b[43m \u001b[49m\u001b[43mF\u001b[49m\u001b[43m \u001b[49m\u001b[38;5;28;43;01mif\u001b[39;49;00m\u001b[43m \u001b[49m\u001b[43mt\u001b[49m\u001b[43m \u001b[49m\u001b[38;5;241;43m!=\u001b[39;49m\u001b[43m \u001b[49m\u001b[43mInteger\u001b[49m\u001b[43m(\u001b[49m\u001b[38;5;241;43m0\u001b[39;49m\u001b[43m)\u001b[49m\u001b[43m \u001b[49m\u001b[38;5;129;43;01mand\u001b[39;49;00m\u001b[43m \u001b[49m\u001b[43mInteger\u001b[49m\u001b[43m(\u001b[49m\u001b[38;5;241;43m1\u001b[39;49m\u001b[43m)\u001b[49m\u001b[43m \u001b[49m\u001b[38;5;241;43m+\u001b[39;49m\u001b[43m \u001b[49m\u001b[43ms\u001b[49m\u001b[43m \u001b[49m\u001b[38;5;241;43m+\u001b[39;49m\u001b[43m \u001b[49m\u001b[43mt\u001b[49m\u001b[43m \u001b[49m\u001b[38;5;241;43m!=\u001b[39;49m\u001b[43m \u001b[49m\u001b[43mInteger\u001b[49m\u001b[43m(\u001b[49m\u001b[38;5;241;43m0\u001b[39;49m\u001b[43m)\u001b[49m\u001b[43m \u001b[49m\u001b[38;5;129;43;01mand\u001b[39;49;00m\u001b[43m \u001b[49m\u001b[43mcheck\u001b[49m\u001b[43m(\u001b[49m\u001b[43ms\u001b[49m\u001b[43m,\u001b[49m\u001b[43m \u001b[49m\u001b[43mt\u001b[49m\u001b[43m)\u001b[49m\u001b[43m)\u001b[49m\n\u001b[1;32m     20\u001b[0m \u001b[38;5;28mprint\u001b[39m(q, ram4Classes())\n",
      "Cell \u001b[0;32mIn[20], line 18\u001b[0m, in \u001b[0;36m<genexpr>\u001b[0;34m(.0)\u001b[0m\n\u001b[1;32m     14\u001b[0m     \u001b[38;5;28;01mreturn\u001b[39;00m \u001b[38;5;129;01mnot\u001b[39;00m \u001b[38;5;28many\u001b[39m(root[Integer(\u001b[38;5;241m0\u001b[39m)]\u001b[38;5;241m*\u001b[39m\u001b[38;5;241m*\u001b[39mInteger(\u001b[38;5;241m3\u001b[39m) \u001b[38;5;241m!=\u001b[39m \u001b[38;5;241m-\u001b[39mt \u001b[38;5;28;01mfor\u001b[39;00m root \u001b[38;5;129;01min\u001b[39;00m poly\u001b[38;5;241m.\u001b[39mroots())\n\u001b[1;32m     16\u001b[0m \u001b[38;5;66;03m# deg3ratls = set(f / (x^3 + g) for f in R.polynomials(max_degree=2) for g in R.polynomials(max_degree=2) if gcd(f, x^3 + g) == 1)\u001b[39;00m\n\u001b[0;32m---> 18\u001b[0m deg3ratls \u001b[38;5;241m=\u001b[39m \u001b[38;5;28mset\u001b[39m((x\u001b[38;5;241m*\u001b[39m\u001b[38;5;241m*\u001b[39mInteger(\u001b[38;5;241m3\u001b[39m) \u001b[38;5;241m+\u001b[39m s\u001b[38;5;241m*\u001b[39mx \u001b[38;5;241m+\u001b[39m t) \u001b[38;5;241m/\u001b[39m (x \u001b[38;5;241m*\u001b[39m (x \u001b[38;5;241m-\u001b[39m Integer(\u001b[38;5;241m1\u001b[39m))) \u001b[38;5;28;01mfor\u001b[39;00m s \u001b[38;5;129;01min\u001b[39;00m F \u001b[38;5;28;01mfor\u001b[39;00m t \u001b[38;5;129;01min\u001b[39;00m F \u001b[38;5;28;01mif\u001b[39;00m t \u001b[38;5;241m!=\u001b[39m Integer(\u001b[38;5;241m0\u001b[39m) \u001b[38;5;129;01mand\u001b[39;00m Integer(\u001b[38;5;241m1\u001b[39m) \u001b[38;5;241m+\u001b[39m s \u001b[38;5;241m+\u001b[39m t \u001b[38;5;241m!=\u001b[39m Integer(\u001b[38;5;241m0\u001b[39m) \u001b[38;5;129;01mand\u001b[39;00m \u001b[43mcheck\u001b[49m\u001b[43m(\u001b[49m\u001b[43ms\u001b[49m\u001b[43m,\u001b[49m\u001b[43m \u001b[49m\u001b[43mt\u001b[49m\u001b[43m)\u001b[49m)\n\u001b[1;32m     20\u001b[0m \u001b[38;5;28mprint\u001b[39m(q, ram4Classes())\n",
      "Cell \u001b[0;32mIn[20], line 13\u001b[0m, in \u001b[0;36mcheck\u001b[0;34m(s, t)\u001b[0m\n\u001b[1;32m     12\u001b[0m \u001b[38;5;28;01mdef\u001b[39;00m\u001b[38;5;250m \u001b[39m\u001b[38;5;21mcheck\u001b[39m(s, t):\n\u001b[0;32m---> 13\u001b[0m     poly \u001b[38;5;241m=\u001b[39m \u001b[43mx\u001b[49m\u001b[38;5;241;43m*\u001b[39;49m\u001b[38;5;241;43m*\u001b[39;49m\u001b[43mInteger\u001b[49m\u001b[43m(\u001b[49m\u001b[38;5;241;43m4\u001b[39;49m\u001b[43m)\u001b[49m \u001b[38;5;241m-\u001b[39m Integer(\u001b[38;5;241m2\u001b[39m)\u001b[38;5;241m*\u001b[39mx\u001b[38;5;241m*\u001b[39m\u001b[38;5;241m*\u001b[39mInteger(\u001b[38;5;241m3\u001b[39m) \u001b[38;5;241m-\u001b[39m s\u001b[38;5;241m*\u001b[39mx\u001b[38;5;241m*\u001b[39m\u001b[38;5;241m*\u001b[39mInteger(\u001b[38;5;241m2\u001b[39m) \u001b[38;5;241m-\u001b[39m Integer(\u001b[38;5;241m2\u001b[39m)\u001b[38;5;241m*\u001b[39mt\u001b[38;5;241m*\u001b[39mx \u001b[38;5;241m+\u001b[39m t\n\u001b[1;32m     14\u001b[0m     \u001b[38;5;28;01mreturn\u001b[39;00m \u001b[38;5;129;01mnot\u001b[39;00m \u001b[38;5;28many\u001b[39m(root[Integer(\u001b[38;5;241m0\u001b[39m)]\u001b[38;5;241m*\u001b[39m\u001b[38;5;241m*\u001b[39mInteger(\u001b[38;5;241m3\u001b[39m) \u001b[38;5;241m!=\u001b[39m \u001b[38;5;241m-\u001b[39mt \u001b[38;5;28;01mfor\u001b[39;00m root \u001b[38;5;129;01min\u001b[39;00m poly\u001b[38;5;241m.\u001b[39mroots())\n",
      "File \u001b[0;32m~/anaconda3/envs/sage/lib/python3.12/site-packages/sage/rings/polynomial/polynomial_zmod_flint.pyx:535\u001b[0m, in \u001b[0;36msage.rings.polynomial.polynomial_zmod_flint.Polynomial_zmod_flint.__pow__ (build/cythonized/sage/rings/polynomial/polynomial_zmod_flint.cpp:24974)\u001b[0;34m()\u001b[0m\n\u001b[1;32m    533\u001b[0m             return (<Polynomial_zmod_flint>self)._powmod_bigexp(exp, modulus)\n\u001b[1;32m    534\u001b[0m \n\u001b[0;32m--> 535\u001b[0m     return Polynomial_template.__pow__(self, exp, modulus)\n\u001b[1;32m    536\u001b[0m \n\u001b[1;32m    537\u001b[0m cdef Polynomial _powmod_bigexp(Polynomial_zmod_flint self, Integer exp, Polynomial_zmod_flint m):\n",
      "File \u001b[0;32m~/anaconda3/envs/sage/lib/python3.12/site-packages/sage/rings/polynomial/polynomial_template.pxi:658\u001b[0m, in \u001b[0;36msage.rings.polynomial.polynomial_zmod_flint.Polynomial_template.__pow__ (build/cythonized/sage/rings/polynomial/polynomial_zmod_flint.cpp:18876)\u001b[0;34m()\u001b[0m\n\u001b[1;32m    656\u001b[0m \n\u001b[1;32m    657\u001b[0m         if modulus is None:\n\u001b[0;32m--> 658\u001b[0m             celement_pow(&r.x, &(<Polynomial_template>self).x, e, NULL, (<Polynomial_template>self)._cparent)\n\u001b[1;32m    659\u001b[0m         else:\n\u001b[1;32m    660\u001b[0m             if parent is not (<Polynomial_template>modulus)._parent and parent != (<Polynomial_template>modulus)._parent:\n",
      "File \u001b[0;32m~/anaconda3/envs/sage/lib/python3.12/site-packages/sage/libs/flint/nmod_poly_linkage.pxi:547\u001b[0m, in \u001b[0;36msage.rings.polynomial.polynomial_zmod_flint.celement_pow (build/cythonized/sage/rings/polynomial/polynomial_zmod_flint.cpp:11040)\u001b[0;34m()\u001b[0m\n\u001b[1;32m    545\u001b[0m     sig_off()\n\u001b[1;32m    546\u001b[0m else:\n\u001b[0;32m--> 547\u001b[0m     sig_on()\n\u001b[1;32m    548\u001b[0m     nmod_poly_pow(res, x, e)\n\u001b[1;32m    549\u001b[0m     sig_off()\n",
      "\u001b[0;31mKeyboardInterrupt\u001b[0m: "
     ]
    }
   ],
   "source": [
    "for p in primes(4, 104): \n",
    "    q = p\n",
    "    F.<a> = GF(q)\n",
    "    d = 3\n",
    "\n",
    "    R.<x> = PolynomialRing(F)\n",
    "    p = F.characteristic()\n",
    "    r = F.degree()\n",
    "\n",
    "    # PGL = [(x + b)/(c*x + d) for b in F for c in F for d in F if d - b*c != 0] + [1 / (c*x + d) for c in F for d in F if c != 0]\n",
    "\n",
    "    def check(s, t):\n",
    "        poly = x^4 - 2*x^3 - s*x^2 - 2*t*x + t\n",
    "        return not any(root[0]^3 != -t for root in poly.roots())\n",
    "\n",
    "    # deg3ratls = set(f / (x^3 + g) for f in R.polynomials(max_degree=2) for g in R.polynomials(max_degree=2) if gcd(f, x^3 + g) == 1)\n",
    "\n",
    "    deg3ratls = set((x^3 + s*x + t) / (x * (x - 1)) for s in F for t in F if t != 0 and 1 + s + t != 0 and check(s, t))\n",
    "\n",
    "    print(q, ram4Classes())"
   ]
  },
  {
   "cell_type": "code",
   "execution_count": 6,
   "id": "14baffb5",
   "metadata": {
    "vscode": {
     "languageId": "sage"
    }
   },
   "outputs": [],
   "source": [
    "def numRatlEquivClasses(p, q, n): \n",
    "    def A(q, n): \n",
    "        a = sum([euler_phi(d) * (q^(2*n/d-2) + (d-1)*(q^(2*n/d)-1)/(q+1)) for d in divisors(gcd(q-1, n)) if d > 1])\n",
    "        b = sum([euler_phi(d) * (q^(2*floor(n/d)+1) + 1)/(q+1) for d in divisors(q-1) if (d not in divisors(n))])\n",
    "        return a + b \n",
    "\n",
    "    def B(q, n):\n",
    "        a = sum([euler_phi(d) * (q^(2*n/d-2) + (q+1) * (q^(2*n/d) - (-1)^(n/d))/(q^2 + 1)) for d in divisors(gcd((q+1), n)) if d % 2 == 0])\n",
    "        b = sum([euler_phi(d) * q^(2*n/d-2) for d in divisors(gcd((q+1), n)) if (d % 2 == 1 and d > 1)])\n",
    "        c = 1/((q+1)*(q^2+1)) * sum([euler_phi(d) * ((1+(-1)^(n//d))/2 * (1+q)^2 + q*(q^(2 * n//d + 2) -1)) for d in divisors(q+1) if d not in divisors(n)])\n",
    "        d = 1/(q^2 + 1) * sum([euler_phi(d) * ((-1)^(n//d) * (1+q) + q^(2 * (n//d) + 1) * (q-1)) for d in divisors(q+1) if d in divisors(q+1) if d not in divisors(n)])\n",
    "        # print(\"B terms are\", a, b, c, d)\n",
    "        return a + b + d\n",
    "\n",
    "    def C(q, n):\n",
    "        if n % p == 0:\n",
    "            return q^(2*n/p-1) \n",
    "        elif n == 1: \n",
    "            return 1 \n",
    "        elif n % p == 1: \n",
    "            return q^(2*(n-1)/p-1) * (q-1) \n",
    "        else: \n",
    "            return 0\n",
    "\n",
    "    # print(\"Each components is\", A(q, n), B(q, n), C(q, n))\n",
    "    \n",
    "    return (q^(2*n-3))/(q^2-1) + 1/(2*(q-1)) * A(q, n) + 1/(2*(q+1)) * B(q, n) + 1/q * C(q,n)"
   ]
  },
  {
   "cell_type": "code",
   "execution_count": 13,
   "id": "8186656f",
   "metadata": {
    "vscode": {
     "languageId": "sage"
    }
   },
   "outputs": [
    {
     "name": "stdout",
     "output_type": "stream",
     "text": [
      "34\n"
     ]
    }
   ],
   "source": [
    "print(numRatlEquivClasses(p, q, d))"
   ]
  },
  {
   "cell_type": "code",
   "execution_count": 7,
   "id": "e00fb856",
   "metadata": {
    "vscode": {
     "languageId": "sage"
    }
   },
   "outputs": [],
   "source": [
    "# very slow code; pls scratch this later on but I needed some data for very small case \n",
    "PGL = [(x + b)/(c*x + d) for b in F for c in F for d in F if d - b*c != 0] + [1 / (c*x + d) for c in F for d in F if c != 0]\n",
    "\n",
    "def valueFreq(f): \n",
    "    \"\"\"given a rational function f, compute the value frequency of it\"\"\"\n",
    "    frequencies = defaultdict(int)\n",
    "    for a in F:\n",
    "        try: \n",
    "            value = f(a)\n",
    "        except ZeroDivisionError: \n",
    "            value = \"infinity\" \n",
    "        frequencies[value] += 1\n",
    "    return sorted(frequencies.values()) \n",
    "\n",
    "def ratlEquiv(f, g):\n",
    "    \"\"\"returns whether or not f is PGL-equiv to g\"\"\" \n",
    "    if valueFreq(f) != valueFreq(g): \n",
    "        return (False,) \n",
    "    for alpha in PGL: \n",
    "        for beta in PGL: \n",
    "            try:\n",
    "                if alpha(f(beta)) == g: \n",
    "                    return (True, alpha, beta)\n",
    "            except ZeroDivisionError: \n",
    "                continue\n",
    "    return (False,)"
   ]
  },
  {
   "cell_type": "code",
   "execution_count": 8,
   "id": "5520f3f4",
   "metadata": {
    "vscode": {
     "languageId": "sage"
    }
   },
   "outputs": [],
   "source": [
    "def reallyslowRatlEquivClasses(print_progress=False): \n",
    "    classes = defaultdict(set)\n",
    "    total = len(deg3ratls)\n",
    "    candidates = deepcopy(deg3ratls)\n",
    "    if print_progress:\n",
    "        print(f\"{total - len(candidates)} out of {total} done\", end=\"\\r\")\n",
    "    while candidates:\n",
    "        f = candidates.pop()\n",
    "        classes[f].add(f)\n",
    "        for alpha in PGL: \n",
    "            for beta in PGL: \n",
    "                try: \n",
    "                    g = alpha(f(beta))\n",
    "                    if g in candidates:\n",
    "                        classes[f].add(g)\n",
    "                        candidates.discard(g)\n",
    "                except ZeroDivisionError: \n",
    "                    continue\n",
    "        # classes.add(f)\n",
    "        if print_progress:\n",
    "            print(f\"{total - len(candidates)} out of {total} done\", end=\"\\r\")\n",
    "    if print_progress:\n",
    "        print()\n",
    "    return classes"
   ]
  },
  {
   "cell_type": "code",
   "execution_count": 9,
   "id": "d71f0e00",
   "metadata": {
    "vscode": {
     "languageId": "sage"
    }
   },
   "outputs": [
    {
     "name": "stdout",
     "output_type": "stream",
     "text": [
      "0 out of 19 done\r"
     ]
    },
    {
     "ename": "KeyboardInterrupt",
     "evalue": "",
     "output_type": "error",
     "traceback": [
      "\u001b[0;31m---------------------------------------------------------------------------\u001b[0m",
      "\u001b[0;31mKeyboardInterrupt\u001b[0m                         Traceback (most recent call last)",
      "Cell \u001b[0;32mIn[9], line 1\u001b[0m\n\u001b[0;32m----> 1\u001b[0m classes \u001b[38;5;241m=\u001b[39m \u001b[43mreallyslowRatlEquivClasses\u001b[49m\u001b[43m(\u001b[49m\u001b[43mprint_progress\u001b[49m\u001b[38;5;241;43m=\u001b[39;49m\u001b[38;5;28;43;01mTrue\u001b[39;49;00m\u001b[43m)\u001b[49m\n\u001b[1;32m      2\u001b[0m \u001b[38;5;28mprint\u001b[39m(\u001b[38;5;28mlen\u001b[39m(classes))\n\u001b[1;32m      3\u001b[0m pprint(classes\u001b[38;5;241m.\u001b[39mkeys())\n",
      "Cell \u001b[0;32mIn[8], line 13\u001b[0m, in \u001b[0;36mreallyslowRatlEquivClasses\u001b[0;34m(print_progress)\u001b[0m\n\u001b[1;32m     11\u001b[0m \u001b[38;5;28;01mfor\u001b[39;00m beta \u001b[38;5;129;01min\u001b[39;00m PGL: \n\u001b[1;32m     12\u001b[0m     \u001b[38;5;28;01mtry\u001b[39;00m: \n\u001b[0;32m---> 13\u001b[0m         g \u001b[38;5;241m=\u001b[39m alpha(\u001b[43mf\u001b[49m\u001b[43m(\u001b[49m\u001b[43mbeta\u001b[49m\u001b[43m)\u001b[49m)\n\u001b[1;32m     14\u001b[0m         \u001b[38;5;28;01mif\u001b[39;00m g \u001b[38;5;129;01min\u001b[39;00m candidates:\n\u001b[1;32m     15\u001b[0m             classes[f]\u001b[38;5;241m.\u001b[39madd(g)\n",
      "File \u001b[0;32m~/anaconda3/envs/sage/lib/python3.12/site-packages/sage/rings/fraction_field_FpT.pyx:284\u001b[0m, in \u001b[0;36msage.rings.fraction_field_FpT.FpTElement.__call__ (build/cythonized/sage/rings/fraction_field_FpT.cpp:11305)\u001b[0;34m()\u001b[0m\n\u001b[1;32m    282\u001b[0m         (t^2 + 2*t + 1)/(t^6 + 4*t^4 + 4*t^3)\n\u001b[1;32m    283\u001b[0m     \"\"\"\n\u001b[0;32m--> 284\u001b[0m     return self.numer()(*args, **kwds) / self.denom()(*args, **kwds)\n\u001b[1;32m    285\u001b[0m \n\u001b[1;32m    286\u001b[0m def subs(self, in_dict=None, *args, **kwds):\n",
      "File \u001b[0;32m~/anaconda3/envs/sage/lib/python3.12/site-packages/sage/rings/polynomial/polynomial_zmod_flint.pyx:309\u001b[0m, in \u001b[0;36msage.rings.polynomial.polynomial_zmod_flint.Polynomial_zmod_flint.__call__ (build/cythonized/sage/rings/polynomial/polynomial_zmod_flint.cpp:22810)\u001b[0;34m()\u001b[0m\n\u001b[1;32m    307\u001b[0m if not kwds and len(x) == 1:\n\u001b[1;32m    308\u001b[0m     P = parent(x[0])\n\u001b[0;32m--> 309\u001b[0m     if K.has_coerce_map_from(P):\n\u001b[1;32m    310\u001b[0m         x = K(x[0])\n\u001b[1;32m    311\u001b[0m         return K(nmod_poly_evaluate_nmod(&self.x, x))\n",
      "File \u001b[0;32m~/anaconda3/envs/sage/lib/python3.12/site-packages/sage/structure/parent.pyx:2066\u001b[0m, in \u001b[0;36msage.structure.parent.Parent.has_coerce_map_from (build/cythonized/sage/structure/parent.c:21925)\u001b[0;34m()\u001b[0m\n\u001b[1;32m   2064\u001b[0m             return self._internal_coerce_map_from(R) * connecting\n\u001b[1;32m   2065\u001b[0m \n\u001b[0;32m-> 2066\u001b[0m cpdef bint has_coerce_map_from(self, S) except -2:\n\u001b[1;32m   2067\u001b[0m     \"\"\"\n\u001b[1;32m   2068\u001b[0m     Return ``True`` if there is a natural map from ``S`` to ``self``.\n",
      "File \u001b[0;32m~/anaconda3/envs/sage/lib/python3.12/site-packages/sage/structure/parent.pyx:2084\u001b[0m, in \u001b[0;36msage.structure.parent.Parent.has_coerce_map_from (build/cythonized/sage/structure/parent.c:21728)\u001b[0;34m()\u001b[0m\n\u001b[1;32m   2082\u001b[0m if S is self:\n\u001b[1;32m   2083\u001b[0m     return True\n\u001b[0;32m-> 2084\u001b[0m elif S == self:\n\u001b[1;32m   2085\u001b[0m     if debug.unique_parent_warnings:\n\u001b[1;32m   2086\u001b[0m         print(\"Warning: non-unique parents %s\" % (type(S)))\n",
      "File \u001b[0;32m~/anaconda3/envs/sage/lib/python3.12/site-packages/sage/rings/fraction_field.py:872\u001b[0m, in \u001b[0;36mFractionField_generic.__eq__\u001b[0;34m(self, other)\u001b[0m\n\u001b[1;32m    869\u001b[0m     \u001b[38;5;28;01mfrom\u001b[39;00m\u001b[38;5;250m \u001b[39m\u001b[38;5;21;01msage\u001b[39;00m\u001b[38;5;21;01m.\u001b[39;00m\u001b[38;5;21;01mcategories\u001b[39;00m\u001b[38;5;21;01m.\u001b[39;00m\u001b[38;5;21;01mpushout\u001b[39;00m\u001b[38;5;250m \u001b[39m\u001b[38;5;28;01mimport\u001b[39;00m FractionField\n\u001b[1;32m    870\u001b[0m     \u001b[38;5;28;01mreturn\u001b[39;00m FractionField(), \u001b[38;5;28mself\u001b[39m\u001b[38;5;241m.\u001b[39mring()\n\u001b[0;32m--> 872\u001b[0m \u001b[38;5;28;01mdef\u001b[39;00m\u001b[38;5;250m \u001b[39m\u001b[38;5;21m__eq__\u001b[39m(\u001b[38;5;28mself\u001b[39m, other):\n\u001b[1;32m    873\u001b[0m \u001b[38;5;250m    \u001b[39m\u001b[38;5;124;03m\"\"\"\u001b[39;00m\n\u001b[1;32m    874\u001b[0m \u001b[38;5;124;03m    Check whether ``self`` is equal to ``other``.\u001b[39;00m\n\u001b[1;32m    875\u001b[0m \n\u001b[0;32m   (...)\u001b[0m\n\u001b[1;32m    885\u001b[0m \u001b[38;5;124;03m        False\u001b[39;00m\n\u001b[1;32m    886\u001b[0m \u001b[38;5;124;03m    \"\"\"\u001b[39;00m\n\u001b[1;32m    887\u001b[0m     \u001b[38;5;28;01mif\u001b[39;00m \u001b[38;5;129;01mnot\u001b[39;00m \u001b[38;5;28misinstance\u001b[39m(other, FractionField_generic):\n",
      "File \u001b[0;32msignals.pyx:355\u001b[0m, in \u001b[0;36mcysignals.signals.python_check_interrupt\u001b[0;34m()\u001b[0m\n",
      "\u001b[0;31mKeyboardInterrupt\u001b[0m: "
     ]
    }
   ],
   "source": [
    "classes = reallyslowRatlEquivClasses(print_progress=True)\n",
    "print(len(classes))\n",
    "pprint(classes.keys())\n",
    "\n",
    "# value_freqs = []\n",
    "# for f in tqdm(classes):\n",
    "#     value_freqs.append((f, valueFreq(f)))\n",
    "# pprint(value_freqs)"
   ]
  },
  {
   "cell_type": "code",
   "execution_count": 10,
   "id": "06783113",
   "metadata": {
    "vscode": {
     "languageId": "sage"
    }
   },
   "outputs": [],
   "source": [
    "def getOrbit(f):\n",
    "    s = f.numerator()[1]\n",
    "    t = f.numerator()[0]\n",
    "\n",
    "    preimages = defaultdict(set)\n",
    "    for a in F:\n",
    "        if a != 0 and a != 1:\n",
    "            preimages[f(a)].add(a)\n",
    "    \n",
    "    pairs = { (s, t) }\n",
    "    for preimage in preimages.values():\n",
    "        if len(preimage) == 3:\n",
    "            u, v, w = preimage\n",
    "            s_prime = (u^2*(-1 + v)*v*(u - w) - u*(-1 + v)*v^2*(u - w) + u*(u - v)*v^2*(-1 + w) + (1 - v)*v^2*(u - w)*w + (-1 + v)*v^2*(u - w)*w - u^2*(u - v)*(-1 + w)*w + v^2*(-u + v)*(-1 + w)*w - u*(-1 + v)*(u - w)*w^2 + (-1 + v)*v*(u - w)*w^2 + u*(u - v)*(-1 + w)*w^2 + (u - v)*v*(-1 + w)*w^2 + v*(-u + v)*(-1 + w)*w^2) / (u^2*(u - v)*(-1 + w)*w - 2*u*(u - v)*v*(-1 + w)*w + (u - v)*v^2*(-1 + w)*w)\n",
    "            t_prime = (-(u^2*(-1 + v)*v*(u - w)) + 2*u*(-1 + v)*v*(u - w)*w - (-1 + v)*v*(u - w)*w^2)/(u^2*(u - v)*(-1 + w)*w - 2*u*(u - v)*v*(-1 + w)*w + (u - v)*v^2*(-1 + w)*w)\n",
    "            pairs.add((s_prime, t_prime))\n",
    "\n",
    "    # print(pairs)\n",
    "    \n",
    "    def get(s, t):\n",
    "        return {\n",
    "            (s, t),\n",
    "            (s / t, 1 / t),\n",
    "            (s, -1 - s - t),\n",
    "            (s / t, -(1 + s + t) / t),\n",
    "            (-s / (1 + s + t), -1 / (1 + s + t)),\n",
    "            (-s / (1 + s + t), -t / (1 + s + t))\n",
    "        }\n",
    "    \n",
    "    pairs = set.union(*(get(s, t) for s, t in pairs))\n",
    "    return set((x^3 + s*x + t) / (x^2 - x) for s, t in pairs)\n",
    "\n",
    "def ratlEquivClassesCase3(print_progress=False):\n",
    "    classes = defaultdict(set)\n",
    "    total = len(deg3ratls)\n",
    "    candidates = deepcopy(deg3ratls)\n",
    "    if print_progress:\n",
    "        print(f\"{total - len(candidates)} out of {total} done\", end=\"\\r\")\n",
    "    while candidates:\n",
    "        f = candidates.pop()\n",
    "        orbit = getOrbit(f)\n",
    "        classes[f] = orbit\n",
    "        candidates -= orbit\n",
    "        if print_progress:\n",
    "            print(f\"{total - len(candidates)} out of {total} done\", end=\"\\r\")\n",
    "    if print_progress:\n",
    "        print()\n",
    "    return classes"
   ]
  },
  {
   "cell_type": "code",
   "execution_count": null,
   "id": "12925564",
   "metadata": {
    "vscode": {
     "languageId": "sage"
    }
   },
   "outputs": [
    {
     "name": "stdout",
     "output_type": "stream",
     "text": [
      "{(3, 4), (3, 6)}\n"
     ]
    },
    {
     "data": {
      "text/plain": [
       "{(x^3 + 6*x + 2)/(x^2 + 6*x),\n",
       " (x^3 + 4*x + 3)/(x^2 + 6*x),\n",
       " (x^3 + 3*x + 4)/(x^2 + 6*x),\n",
       " (x^3 + 6*x + 5)/(x^2 + 6*x),\n",
       " (x^3 + 3*x + 6)/(x^2 + 6*x),\n",
       " (x^3 + 4*x + 6)/(x^2 + 6*x)}"
      ]
     },
     "execution_count": 68,
     "metadata": {},
     "output_type": "execute_result"
    }
   ],
   "source": [
    "getOrbit((x^3 + 3*x + 6) / (x^2 - x))"
   ]
  },
  {
   "cell_type": "code",
   "execution_count": 14,
   "id": "b7c629a2",
   "metadata": {
    "vscode": {
     "languageId": "sage"
    }
   },
   "outputs": [
    {
     "name": "stdout",
     "output_type": "stream",
     "text": [
      "109 out of 109 done\n",
      "16\n",
      "dict_keys([(x^3 + 7*x + 4)/(x^2 + 16*x), (x^3 + 14*x + 7)/(x^2 + 16*x), (x^3 + 5*x + 14)/(x^2 + 16*x), (x^3 + x + 13)/(x^2 + 16*x), (x^3 + 9*x + 8)/(x^2 + 16*x), (x^3 + 11*x + 11)/(x^2 + 16*x), (x^3 + 10*x + 3)/(x^2 + 16*x), (x^3 + 10*x + 7)/(x^2 + 16*x), (x^3 + 8*x + 4)/(x^2 + 16*x), (x^3 + 15*x + 6)/(x^2 + 16*x), (x^3 + 1)/(x^2 + 16*x), (x^3 + 6*x + 1)/(x^2 + 16*x), (x^3 + 9*x + 4)/(x^2 + 16*x), (x^3 + 15*x + 2)/(x^2 + 16*x), (x^3 + 7*x + 1)/(x^2 + 16*x), (x^3 + 14*x + 1)/(x^2 + 16*x)])\n"
     ]
    }
   ],
   "source": [
    "classes = ratlEquivClassesCase3(print_progress=True)\n",
    "print(len(classes))\n",
    "pprint(classes.keys())"
   ]
  },
  {
   "cell_type": "code",
   "execution_count": 11,
   "id": "5dd6e65d",
   "metadata": {
    "vscode": {
     "languageId": "sage"
    }
   },
   "outputs": [
    {
     "data": {
      "text/plain": [
       "(True, x, x)"
      ]
     },
     "execution_count": 11,
     "metadata": {},
     "output_type": "execute_result"
    }
   ],
   "source": [
    "s, t = F(2), F(3)\n",
    "ratlEquiv((x^3 + (-s / (1 + s + t))*x + (-t / (1 + s + t)))/(x^2 - x), (x^3 + s*x + t)/(x^2 - x))"
   ]
  },
  {
   "cell_type": "code",
   "execution_count": 12,
   "id": "52b1df01",
   "metadata": {
    "vscode": {
     "languageId": "sage"
    }
   },
   "outputs": [],
   "source": [
    "def ratlEquivClassesCase2():\n",
    "    out = set() \n",
    "    if q % 3 == 1: \n",
    "        C = [F.primitive_element()^i for i in range(3)]\n",
    "    else: \n",
    "        C = [1]\n",
    "    for t in C: \n",
    "        out.add((x^3 + t)/x)\n",
    "    \n",
    "    for t in F: \n",
    "        if t != 0: \n",
    "            out.add((x^3 + x^2 + t)/x)\n",
    "    \n",
    "    return out \n",
    "\n",
    "def qnr(): \n",
    "    qrs = quadratic_residues(q)\n",
    "    a = 2\n",
    "    while a in qrs: \n",
    "        a += 1\n",
    "    return a\n",
    "\n",
    "def ratlEquivClassesCase1():\n",
    "    if q % 6 == 1: \n",
    "        b = -qnr() \n",
    "        a = F(-9)/F(b) \n",
    "        return {(x^3 + a*x)/(b*x^2+1)}\n",
    "    elif q % 6 == 3: \n",
    "        a = -qnr() \n",
    "        return {x^3, x^3 + a*x}\n",
    "    elif q % 6 == 4: \n",
    "        return \"I'll implement this later\"\n",
    "    else: \n",
    "        return {x^3}\n",
    "\n",
    "def ratlEquivClasses():\n",
    "    case1 = ratlEquivClassesCase1()\n",
    "    case2 = ratlEquivClassesCase2() \n",
    "    case3 = ratlEquivClassesCase3().keys()\n",
    "    return case1 | case2 | case3\n",
    "        "
   ]
  },
  {
   "cell_type": "code",
   "execution_count": 13,
   "id": "cba634b3",
   "metadata": {
    "vscode": {
     "languageId": "sage"
    }
   },
   "outputs": [],
   "source": [
    "def smallRamifications(): \n",
    "    sigma = qnr()\n",
    "    return {x^3, x^3 -3*x, (x^3+3*sigma*x)/(3*x^2+sigma), x^3 - 3 * sigma * x}    "
   ]
  },
  {
   "cell_type": "code",
   "execution_count": 104,
   "id": "d6f9fdc2",
   "metadata": {
    "vscode": {
     "languageId": "sage"
    }
   },
   "outputs": [
    {
     "name": "stdout",
     "output_type": "stream",
     "text": [
      "{(2*x^3 + 6*x)/(x^2 + 2),\n",
      " (x^3 + 1)/x,\n",
      " (x^3 + x^2 + 1)/x,\n",
      " (x^3 + 3*x + 1)/(x^2 + 6*x),\n",
      " (x^3 + 4*x + 1)/(x^2 + 6*x),\n",
      " (x^3 + 6*x + 1)/(x^2 + 6*x),\n",
      " (x^3 + 2)/x,\n",
      " (x^3 + x^2 + 2)/x,\n",
      " (x^3 + 3)/x,\n",
      " (x^3 + 3)/(x^2 + 6*x),\n",
      " (x^3 + x^2 + 3)/x,\n",
      " (x^3 + x^2 + 4)/x,\n",
      " (x^3 + x^2 + 5)/x,\n",
      " (x^3 + 3*x + 5)/(x^2 + 6*x),\n",
      " (x^3 + x^2 + 6)/x,\n",
      " (x^3 + 4*x + 6)/(x^2 + 6*x)}\n",
      "{(5*x^3 + 3*x)/(x^2 + 1), x^3, x^3 + 4*x, x^3 + 5*x}\n"
     ]
    }
   ],
   "source": [
    "equivs = ratlEquivClasses()\n",
    "pprint(equivs)\n",
    "pprint(smallRamifications())"
   ]
  },
  {
   "cell_type": "code",
   "execution_count": 14,
   "id": "86df5c29",
   "metadata": {
    "vscode": {
     "languageId": "sage"
    }
   },
   "outputs": [],
   "source": [
    "def ramCase(f): \n",
    "    df = factor(derivative(f).numerator())\n",
    "    deg2termcounter = 0 \n",
    "    for term in list(df): \n",
    "        deg = term[0].degree()\n",
    "        if deg == 3: \n",
    "            return 3\n",
    "        elif deg == 4: \n",
    "            return 5 \n",
    "        elif deg == 2: \n",
    "            deg2termcounter += term[1]\n",
    "    if deg2termcounter == 1: \n",
    "        return 2 \n",
    "    elif deg2termcounter == 2: \n",
    "        return 4 \n",
    "    else: \n",
    "        return 1 \n",
    "    \n",
    "\n",
    "def ram4Classes(): \n",
    "    cases = {1: 0, 2: 0, 3:0, 4: 0, 5: 0}\n",
    "    equivs = ratlEquivClasses() \n",
    "    for f in equivs: \n",
    "        cases[ramCase(f)] += 1 \n",
    "\n",
    "    for f in smallRamifications(): \n",
    "        cases[ramCase(f)] -= 1\n",
    "    return cases\n",
    "    "
   ]
  },
  {
   "cell_type": "code",
   "execution_count": null,
   "id": "7d88e099",
   "metadata": {
    "vscode": {
     "languageId": "sage"
    }
   },
   "outputs": [
    {
     "name": "stdout",
     "output_type": "stream",
     "text": [
      "{1: 21, 2: 63, 3: 44, 4: 60, 5: 64}\n"
     ]
    }
   ],
   "source": [
    "print(ram4Classes())"
   ]
  },
  {
   "cell_type": "code",
   "execution_count": 24,
   "id": "58ba4a00",
   "metadata": {
    "vscode": {
     "languageId": "sage"
    }
   },
   "outputs": [
    {
     "name": "stdout",
     "output_type": "stream",
     "text": [
      "[[[5, 0], [7, 1], [11, 1], [13, 2], [17, 2], [19, 3], [23, 3], [29, 4], [31, 5], [37, 6], [41, 6], [43, 7], [47, 7], [53, 8], [59, 9], [61, 11], [67, 11], [71, 11], [73, 12], [79, 13], [83, 13], [89, 14], [97, 16], [101, 16], [103, 17], [107, 17], [109, 19], [113, 18], [127, 21], [131, 21], [137, 22], [139, 23], [149, 24], [151, 25], [157, 26], [163, 27], [167, 27], [173, 28], [179, 29], [181, 30], [191, 31], [193, 32], [197, 32], [199, 33]], [[5, 2], [7, 3], [11, 5], [13, 6], [17, 8], [19, 10], [23, 11], [29, 14], [31, 16], [37, 18], [41, 20], [43, 21], [47, 23], [53, 26], [59, 29], [61, 30], [67, 33], [71, 35], [73, 36], [79, 40], [83, 41], [89, 44], [97, 48], [101, 50], [103, 51], [107, 53], [109, 54], [113, 56], [127, 63], [131, 65], [137, 68], [139, 70], [149, 74], [151, 76], [157, 78], [163, 81], [167, 83], [173, 86], [179, 89], [181, 90], [191, 95], [193, 96], [197, 98], [199, 100]], [[5, 2], [7, 4], [11, 4], [13, 6], [17, 6], [19, 8], [23, 8], [29, 10], [31, 12], [37, 14], [41, 14], [43, 16], [47, 16], [53, 18], [59, 20], [61, 22], [67, 24], [71, 24], [73, 26], [79, 28], [83, 28], [89, 30], [97, 34], [101, 34], [103, 36], [107, 36], [109, 38], [113, 38], [127, 44], [131, 44], [137, 46], [139, 48], [149, 50], [151, 52], [157, 54], [163, 56], [167, 56], [173, 58], [179, 60], [181, 62], [191, 64], [193, 66], [197, 66], [199, 68]], [[5, 0], [7, 0], [11, 3], [13, 4], [17, 6], [19, 6], [23, 9], [29, 12], [31, 12], [37, 16], [41, 18], [43, 18], [47, 21], [53, 24], [59, 27], [61, 27], [67, 30], [71, 33], [73, 34], [79, 36], [83, 39], [89, 42], [97, 46], [101, 48], [103, 48], [107, 51], [109, 51], [113, 54], [127, 60], [131, 63], [137, 66], [139, 66], [149, 72], [151, 72], [157, 76], [163, 78], [167, 81], [173, 84], [179, 87], [181, 88], [191, 93], [193, 94], [197, 96], [199, 96]], [[5, 2], [7, 4], [11, 5], [13, 6], [17, 8], [19, 9], [23, 11], [29, 14], [31, 15], [37, 18], [41, 20], [43, 22], [47, 23], [53, 26], [59, 29], [61, 30], [67, 34], [71, 35], [73, 36], [79, 39], [83, 41], [89, 44], [97, 48], [101, 50], [103, 52], [107, 53], [109, 54], [113, 56], [127, 64], [131, 65], [137, 68], [139, 69], [149, 74], [151, 75], [157, 78], [163, 82], [167, 83], [173, 86], [179, 89], [181, 90], [191, 95], [193, 96], [197, 98], [199, 99]]]\n"
     ]
    }
   ],
   "source": [
    "c = 1\n",
    "# set up the data for the scatter plot\n",
    "data = [[] for _ in range(5)] \n",
    "for p in primes(4, 200): \n",
    "    q = p\n",
    "    F.<a> = GF(q)\n",
    "    d = 3\n",
    "\n",
    "    R.<x> = PolynomialRing(F)\n",
    "    p = F.characteristic()\n",
    "    r = F.degree()\n",
    "    def check(s, t):\n",
    "        poly = x^4 - 2*x^3 - s*x^2 - 2*t*x + t\n",
    "        return not any(root[0]^3 != -t for root in poly.roots())\n",
    "    deg3ratls = set((x^3 + s*x + t) / (x * (x - 1)) for s in F for t in F if t != 0 and 1 + s + t != 0 and check(s, t))\n",
    "    for i in range(5): \n",
    "        data[i].append([p, ram4Classes()[i+1]]) \n",
    "print(data) "
   ]
  },
  {
   "cell_type": "code",
   "execution_count": 42,
   "id": "cd70a8bd",
   "metadata": {
    "vscode": {
     "languageId": "sage"
    }
   },
   "outputs": [
    {
     "name": "stdout",
     "output_type": "stream",
     "text": [
      "[[5, 2], [7, 4], [11, 4], [13, 6], [17, 6], [19, 8], [23, 8], [29, 10], [31, 12], [37, 14], [41, 14], [43, 16], [47, 16], [53, 18], [59, 20], [61, 22], [67, 24], [71, 24], [73, 26], [79, 28], [83, 28], [89, 30], [97, 34], [101, 34], [103, 36], [107, 36], [109, 38], [113, 38], [127, 44], [131, 44], [137, 46], [139, 48], [149, 50], [151, 52], [157, 54], [163, 56], [167, 56], [173, 58], [179, 60], [181, 62], [191, 64], [193, 66], [197, 66], [199, 68]]\n"
     ]
    }
   ],
   "source": [
    "scatter_plot(data[2])\n",
    "print(data[2])"
   ]
  },
  {
   "cell_type": "code",
   "execution_count": 40,
   "id": "11920a83",
   "metadata": {
    "vscode": {
     "languageId": "sage"
    }
   },
   "outputs": [
    {
     "name": "stdout",
     "output_type": "stream",
     "text": [
      "[[5, 2], [7, 4], [11, 4], [13, 6], [19, 8], [29, 10], [37, 14], [41, 14], [43, 16], [47, 16], [53, 18], [59, 20], [61, 22], [67, 24], [71, 24], [73, 26], [79, 28], [83, 28], [89, 30], [97, 34], [101, 34], [103, 36], [107, 36], [109, 38], [113, 38], [127, 44], [131, 44], [137, 46], [139, 48], [149, 50], [151, 52], [157, 54], [163, 56], [167, 56], [173, 58], [179, 60], [181, 62], [191, 64], [193, 66], [197, 66], [199, 68]]\n"
     ]
    }
   ],
   "source": [
    "print([point for point in data[2] if not ((point[1] == (point[0]-7)/2 and q % 12 == 7) or (point[1] == (point[0] - 5)/2))])"
   ]
  }
 ],
 "metadata": {
  "kernelspec": {
   "display_name": "SageMath 10.6",
   "language": "sage",
   "name": "sagemath"
  },
  "language_info": {
   "codemirror_mode": {
    "name": "ipython",
    "version": 3
   },
   "file_extension": ".py",
   "mimetype": "text/x-python",
   "name": "python",
   "nbconvert_exporter": "python",
   "pygments_lexer": "ipython3",
   "version": "3.12.10"
  }
 },
 "nbformat": 4,
 "nbformat_minor": 5
}
