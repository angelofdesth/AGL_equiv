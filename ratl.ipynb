{
 "cells": [
  {
   "cell_type": "code",
   "execution_count": 1,
   "id": "9450c1ab",
   "metadata": {
    "vscode": {
     "languageId": "sage"
    }
   },
   "outputs": [],
   "source": [
    "from collections import defaultdict\n",
    "from copy import deepcopy\n",
    "from pprint import pprint\n",
    "from tqdm import tqdm"
   ]
  },
  {
   "cell_type": "code",
   "execution_count": 155,
   "id": "21953332",
   "metadata": {
    "vscode": {
     "languageId": "sage"
    }
   },
   "outputs": [
    {
     "name": "stdout",
     "output_type": "stream",
     "text": [
      "5 {1: 0, 2: 2, 3: 2, 4: 0, 5: 2}\n",
      "7 {1: 1, 2: 3, 3: 4, 4: 0, 5: 4}\n",
      "11 {1: 1, 2: 5, 3: 4, 4: 3, 5: 5}\n",
      "13 {1: 2, 2: 6, 3: 6, 4: 4, 5: 6}\n",
      "17 {1: 2, 2: 8, 3: 6, 4: 6, 5: 8}\n",
      "19 {1: 3, 2: 10, 3: 8, 4: 6, 5: 9}\n",
      "23 {1: 3, 2: 11, 3: 8, 4: 9, 5: 11}\n",
      "29 {1: 4, 2: 14, 3: 10, 4: 12, 5: 14}\n",
      "31 {1: 5, 2: 16, 3: 12, 4: 12, 5: 15}\n",
      "37 {1: 6, 2: 18, 3: 14, 4: 16, 5: 18}\n",
      "41 {1: 6, 2: 20, 3: 14, 4: 18, 5: 20}\n",
      "43 {1: 7, 2: 21, 3: 16, 4: 18, 5: 22}\n",
      "47 {1: 7, 2: 23, 3: 16, 4: 21, 5: 23}\n",
      "53 {1: 8, 2: 26, 3: 18, 4: 24, 5: 26}\n",
      "59 {1: 9, 2: 29, 3: 20, 4: 27, 5: 29}\n",
      "61 {1: 11, 2: 30, 3: 22, 4: 27, 5: 30}\n",
      "67 {1: 11, 2: 33, 3: 24, 4: 30, 5: 34}\n",
      "71 {1: 11, 2: 35, 3: 24, 4: 33, 5: 35}\n",
      "73 {1: 12, 2: 36, 3: 26, 4: 34, 5: 36}\n",
      "79 {1: 13, 2: 40, 3: 28, 4: 36, 5: 39}\n",
      "83 {1: 13, 2: 41, 3: 28, 4: 39, 5: 41}\n",
      "89 {1: 14, 2: 44, 3: 30, 4: 42, 5: 44}\n",
      "97 {1: 16, 2: 48, 3: 34, 4: 46, 5: 48}\n",
      "101 {1: 16, 2: 50, 3: 34, 4: 48, 5: 50}\n",
      "103 {1: 17, 2: 51, 3: 36, 4: 48, 5: 52}\n"
     ]
    }
   ],
   "source": [
    "for p in primes(4, 104): \n",
    "    q = p\n",
    "    F.<a> = GF(q)\n",
    "    d = 3\n",
    "\n",
    "    R.<x> = PolynomialRing(F)\n",
    "    p = F.characteristic()\n",
    "    r = F.degree()\n",
    "\n",
    "    # PGL = [(x + b)/(c*x + d) for b in F for c in F for d in F if d - b*c != 0] + [1 / (c*x + d) for c in F for d in F if c != 0]\n",
    "\n",
    "    def check(s, t):\n",
    "        poly = x^4 - 2*x^3 - s*x^2 - 2*t*x + t\n",
    "        return not any(root[0]^3 != -t for root in poly.roots())\n",
    "\n",
    "    # deg3ratls = set(f / (x^3 + g) for f in R.polynomials(max_degree=2) for g in R.polynomials(max_degree=2) if gcd(f, x^3 + g) == 1)\n",
    "\n",
    "    deg3ratls = set((x^3 + s*x + t) / (x * (x - 1)) for s in F for t in F if t != 0 and 1 + s + t != 0 and check(s, t))\n",
    "\n",
    "    print(q, ram4Classes())"
   ]
  },
  {
   "cell_type": "code",
   "execution_count": 3,
   "id": "14baffb5",
   "metadata": {
    "vscode": {
     "languageId": "sage"
    }
   },
   "outputs": [],
   "source": [
    "def numRatlEquivClasses(p, q, n): \n",
    "    def A(q, n): \n",
    "        a = sum([euler_phi(d) * (q^(2*n/d-2) + (d-1)*(q^(2*n/d)-1)/(q+1)) for d in divisors(gcd(q-1, n)) if d > 1])\n",
    "        b = sum([euler_phi(d) * (q^(2*floor(n/d)+1) + 1)/(q+1) for d in divisors(q-1) if (d not in divisors(n))])\n",
    "        return a + b \n",
    "\n",
    "    def B(q, n):\n",
    "        a = sum([euler_phi(d) * (q^(2*n/d-2) + (q+1) * (q^(2*n/d) - (-1)^(n/d))/(q^2 + 1)) for d in divisors(gcd((q+1), n)) if d % 2 == 0])\n",
    "        b = sum([euler_phi(d) * q^(2*n/d-2) for d in divisors(gcd((q+1), n)) if (d % 2 == 1 and d > 1)])\n",
    "        c = 1/((q+1)*(q^2+1)) * sum([euler_phi(d) * ((1+(-1)^(n//d))/2 * (1+q)^2 + q*(q^(2 * n//d + 2) -1)) for d in divisors(q+1) if d not in divisors(n)])\n",
    "        d = 1/(q^2 + 1) * sum([euler_phi(d) * ((-1)^(n//d) * (1+q) + q^(2 * (n//d) + 1) * (q-1)) for d in divisors(q+1) if d in divisors(q+1) if d not in divisors(n)])\n",
    "        # print(\"B terms are\", a, b, c, d)\n",
    "        return a + b + d\n",
    "\n",
    "    def C(q, n):\n",
    "        if n % p == 0:\n",
    "            return q^(2*n/p-1) \n",
    "        elif n == 1: \n",
    "            return 1 \n",
    "        elif n % p == 1: \n",
    "            return q^(2*(n-1)/p-1) * (q-1) \n",
    "        else: \n",
    "            return 0\n",
    "\n",
    "    # print(\"Each components is\", A(q, n), B(q, n), C(q, n))\n",
    "    \n",
    "    return (q^(2*n-3))/(q^2-1) + 1/(2*(q-1)) * A(q, n) + 1/(2*(q+1)) * B(q, n) + 1/q * C(q,n)"
   ]
  },
  {
   "cell_type": "code",
   "execution_count": 13,
   "id": "8186656f",
   "metadata": {
    "vscode": {
     "languageId": "sage"
    }
   },
   "outputs": [
    {
     "name": "stdout",
     "output_type": "stream",
     "text": [
      "34\n"
     ]
    }
   ],
   "source": [
    "print(numRatlEquivClasses(p, q, d))"
   ]
  },
  {
   "cell_type": "code",
   "execution_count": 44,
   "id": "e00fb856",
   "metadata": {
    "vscode": {
     "languageId": "sage"
    }
   },
   "outputs": [],
   "source": [
    "# very slow code; pls scratch this later on but I needed some data for very small case \n",
    "PGL = [(x + b)/(c*x + d) for b in F for c in F for d in F if d - b*c != 0] + [1 / (c*x + d) for c in F for d in F if c != 0]\n",
    "\n",
    "def valueFreq(f): \n",
    "    \"\"\"given a rational function f, compute the value frequency of it\"\"\"\n",
    "    frequencies = defaultdict(int)\n",
    "    for a in F:\n",
    "        try: \n",
    "            value = f(a)\n",
    "        except ZeroDivisionError: \n",
    "            value = \"infinity\" \n",
    "        frequencies[value] += 1\n",
    "    return sorted(frequencies.values()) \n",
    "\n",
    "def ratlEquiv(f, g):\n",
    "    \"\"\"returns whether or not f is PGL-equiv to g\"\"\" \n",
    "    if valueFreq(f) != valueFreq(g): \n",
    "        return (False,) \n",
    "    for alpha in PGL: \n",
    "        for beta in PGL: \n",
    "            try:\n",
    "                if alpha(f(beta)) == g: \n",
    "                    return (True, alpha, beta)\n",
    "            except ZeroDivisionError: \n",
    "                continue\n",
    "    return (False,)"
   ]
  },
  {
   "cell_type": "code",
   "execution_count": null,
   "id": "5520f3f4",
   "metadata": {
    "vscode": {
     "languageId": "sage"
    }
   },
   "outputs": [],
   "source": [
    "def reallyslowRatlEquivClasses(print_progress=False): \n",
    "    classes = defaultdict(set)\n",
    "    total = len(deg3ratls)\n",
    "    candidates = deepcopy(deg3ratls)\n",
    "    if print_progress:\n",
    "        print(f\"{total - len(candidates)} out of {total} done\", end=\"\\r\")\n",
    "    while candidates:\n",
    "        f = candidates.pop()\n",
    "        classes[f].add(f)\n",
    "        for alpha in PGL: \n",
    "            for beta in PGL: \n",
    "                try: \n",
    "                    g = alpha(f(beta))\n",
    "                    if g in candidates:\n",
    "                        classes[f].add(g)\n",
    "                        candidates.discard(g)\n",
    "                except ZeroDivisionError: \n",
    "                    continue\n",
    "        # classes.add(f)\n",
    "        if print_progress:\n",
    "            print(f\"{total - len(candidates)} out of {total} done\", end=\"\\r\")\n",
    "    if print_progress:\n",
    "        print()\n",
    "    return classes"
   ]
  },
  {
   "cell_type": "code",
   "execution_count": 22,
   "id": "d71f0e00",
   "metadata": {
    "vscode": {
     "languageId": "sage"
    }
   },
   "outputs": [
    {
     "name": "stdout",
     "output_type": "stream",
     "text": [
      "100842 out of 100842 done\n",
      "16\n",
      "dict_keys([(5*x^2 + 6*x + 5)/(x^3 + 3*x + 6), (6*x^2 + 5*x + 2)/(x^3 + x^2 + 4*x), (5*x^2 + 6*x + 4)/(x^3 + x^2 + 4*x), (5*x^2 + 6*x + 4)/(x^3 + 4*x^2 + x + 2), (6*x^2 + 5*x + 2)/(x^3 + 4*x^2 + x + 2), (5*x^2 + x)/(x^3 + 4*x^2 + 3*x + 5), (2*x^2 + 5*x + 2)/(x^3 + 4*x^2 + 3*x + 1), (3*x^2 + 2*x + 4)/(x^3 + 5*x^2 + 5*x), (6*x^2 + 4*x + 2)/(x^3 + 5*x^2 + x), (5*x^2 + 6*x + 1)/(x^3 + 5*x^2 + 6*x + 1), (4*x + 3)/(x^3 + 6*x^2 + 6*x + 4), (4*x^2 + 6)/(x^3 + 6*x^2 + 6*x + 4), (4*x^2 + 6*x + 1)/(x^3 + x^2 + 5*x + 6), (6*x^2 + 4*x)/(x^3 + 4), (3*x^2 + 3*x + 6)/(x^3 + 3*x^2 + 4*x + 1), (5*x^2 + 5*x + 1)/(x^3 + x^2 + 4*x + 4)])\n"
     ]
    }
   ],
   "source": [
    "classes = reallyslowRatlEquivClasses(print_progress=True)\n",
    "print(len(classes))\n",
    "pprint(classes.keys())\n",
    "\n",
    "# value_freqs = []\n",
    "# for f in tqdm(classes):\n",
    "#     value_freqs.append((f, valueFreq(f)))\n",
    "# pprint(value_freqs)"
   ]
  },
  {
   "cell_type": "code",
   "execution_count": 31,
   "id": "06783113",
   "metadata": {
    "vscode": {
     "languageId": "sage"
    }
   },
   "outputs": [],
   "source": [
    "def getOrbit(f):\n",
    "    s = f.numerator()[1]\n",
    "    t = f.numerator()[0]\n",
    "\n",
    "    preimages = defaultdict(set)\n",
    "    for a in F:\n",
    "        if a != 0 and a != 1:\n",
    "            preimages[f(a)].add(a)\n",
    "    \n",
    "    pairs = { (s, t) }\n",
    "    for preimage in preimages.values():\n",
    "        if len(preimage) == 3:\n",
    "            u, v, w = preimage\n",
    "            s_prime = (u^2*(-1 + v)*v*(u - w) - u*(-1 + v)*v^2*(u - w) + u*(u - v)*v^2*(-1 + w) + (1 - v)*v^2*(u - w)*w + (-1 + v)*v^2*(u - w)*w - u^2*(u - v)*(-1 + w)*w + v^2*(-u + v)*(-1 + w)*w - u*(-1 + v)*(u - w)*w^2 + (-1 + v)*v*(u - w)*w^2 + u*(u - v)*(-1 + w)*w^2 + (u - v)*v*(-1 + w)*w^2 + v*(-u + v)*(-1 + w)*w^2) / (u^2*(u - v)*(-1 + w)*w - 2*u*(u - v)*v*(-1 + w)*w + (u - v)*v^2*(-1 + w)*w)\n",
    "            t_prime = (-(u^2*(-1 + v)*v*(u - w)) + 2*u*(-1 + v)*v*(u - w)*w - (-1 + v)*v*(u - w)*w^2)/(u^2*(u - v)*(-1 + w)*w - 2*u*(u - v)*v*(-1 + w)*w + (u - v)*v^2*(-1 + w)*w)\n",
    "            pairs.add((s_prime, t_prime))\n",
    "\n",
    "    # print(pairs)\n",
    "    \n",
    "    def get(s, t):\n",
    "        return {\n",
    "            (s, t),\n",
    "            (s / t, 1 / t),\n",
    "            (s, -1 - s - t),\n",
    "            (s / t, -(1 + s + t) / t),\n",
    "            (-s / (1 + s + t), -1 / (1 + s + t)),\n",
    "            (-s / (1 + s + t), -t / (1 + s + t))\n",
    "        }\n",
    "    \n",
    "    pairs = set.union(*(get(s, t) for s, t in pairs))\n",
    "    return set((x^3 + s*x + t) / (x^2 - x) for s, t in pairs)\n",
    "\n",
    "def ratlEquivClassesCase3(print_progress=False):\n",
    "    classes = defaultdict(set)\n",
    "    total = len(deg3ratls)\n",
    "    candidates = deepcopy(deg3ratls)\n",
    "    if print_progress:\n",
    "        print(f\"{total - len(candidates)} out of {total} done\", end=\"\\r\")\n",
    "    while candidates:\n",
    "        f = candidates.pop()\n",
    "        orbit = getOrbit(f)\n",
    "        classes[f] = orbit\n",
    "        candidates -= orbit\n",
    "        if print_progress:\n",
    "            print(f\"{total - len(candidates)} out of {total} done\", end=\"\\r\")\n",
    "    if print_progress:\n",
    "        print()\n",
    "    return classes"
   ]
  },
  {
   "cell_type": "code",
   "execution_count": null,
   "id": "12925564",
   "metadata": {
    "vscode": {
     "languageId": "sage"
    }
   },
   "outputs": [
    {
     "name": "stdout",
     "output_type": "stream",
     "text": [
      "{(3, 4), (3, 6)}\n"
     ]
    },
    {
     "data": {
      "text/plain": [
       "{(x^3 + 6*x + 2)/(x^2 + 6*x),\n",
       " (x^3 + 4*x + 3)/(x^2 + 6*x),\n",
       " (x^3 + 3*x + 4)/(x^2 + 6*x),\n",
       " (x^3 + 6*x + 5)/(x^2 + 6*x),\n",
       " (x^3 + 3*x + 6)/(x^2 + 6*x),\n",
       " (x^3 + 4*x + 6)/(x^2 + 6*x)}"
      ]
     },
     "execution_count": 68,
     "metadata": {},
     "output_type": "execute_result"
    }
   ],
   "source": [
    "getOrbit((x^3 + 3*x + 6) / (x^2 - x))"
   ]
  },
  {
   "cell_type": "code",
   "execution_count": 14,
   "id": "b7c629a2",
   "metadata": {
    "vscode": {
     "languageId": "sage"
    }
   },
   "outputs": [
    {
     "name": "stdout",
     "output_type": "stream",
     "text": [
      "109 out of 109 done\n",
      "16\n",
      "dict_keys([(x^3 + 7*x + 4)/(x^2 + 16*x), (x^3 + 14*x + 7)/(x^2 + 16*x), (x^3 + 5*x + 14)/(x^2 + 16*x), (x^3 + x + 13)/(x^2 + 16*x), (x^3 + 9*x + 8)/(x^2 + 16*x), (x^3 + 11*x + 11)/(x^2 + 16*x), (x^3 + 10*x + 3)/(x^2 + 16*x), (x^3 + 10*x + 7)/(x^2 + 16*x), (x^3 + 8*x + 4)/(x^2 + 16*x), (x^3 + 15*x + 6)/(x^2 + 16*x), (x^3 + 1)/(x^2 + 16*x), (x^3 + 6*x + 1)/(x^2 + 16*x), (x^3 + 9*x + 4)/(x^2 + 16*x), (x^3 + 15*x + 2)/(x^2 + 16*x), (x^3 + 7*x + 1)/(x^2 + 16*x), (x^3 + 14*x + 1)/(x^2 + 16*x)])\n"
     ]
    }
   ],
   "source": [
    "classes = ratlEquivClassesCase3(print_progress=True)\n",
    "print(len(classes))\n",
    "pprint(classes.keys())"
   ]
  },
  {
   "cell_type": "code",
   "execution_count": null,
   "id": "5dd6e65d",
   "metadata": {
    "vscode": {
     "languageId": "sage"
    }
   },
   "outputs": [],
   "source": [
    "s, t = F(2), F(3)\n",
    "ratlEquiv((x^3 + (-s / (1 + s + t))*x + (-t / (1 + s + t)))/(x^2 - x), (x^3 + s*x + t)/(x^2 - x))"
   ]
  },
  {
   "cell_type": "code",
   "execution_count": 97,
   "id": "52b1df01",
   "metadata": {
    "vscode": {
     "languageId": "sage"
    }
   },
   "outputs": [],
   "source": [
    "def ratlEquivClassesCase2():\n",
    "    out = set() \n",
    "    if q % 3 == 1: \n",
    "        C = [F.primitive_element()^i for i in range(3)]\n",
    "    else: \n",
    "        C = [1]\n",
    "    for t in C: \n",
    "        out.add((x^3 + t)/x)\n",
    "    \n",
    "    for t in F: \n",
    "        if t != 0: \n",
    "            out.add((x^3 + x^2 + t)/x)\n",
    "    \n",
    "    return out \n",
    "\n",
    "def qnr(): \n",
    "    qrs = quadratic_residues(q)\n",
    "    a = 2\n",
    "    while a in qrs: \n",
    "        a += 1\n",
    "    return a\n",
    "\n",
    "def ratlEquivClassesCase1():\n",
    "    if q % 6 == 1: \n",
    "        b = -qnr() \n",
    "        a = F(-9)/F(b) \n",
    "        return {(x^3 + a*x)/(b*x^2+1)}\n",
    "    elif q % 6 == 3: \n",
    "        a = -qnr() \n",
    "        return {x^3, x^3 + a*x}\n",
    "    elif q % 6 == 4: \n",
    "        return \"I'll implement this later\"\n",
    "    else: \n",
    "        return {x^3}\n",
    "\n",
    "def ratlEquivClasses():\n",
    "    case1 = ratlEquivClassesCase1()\n",
    "    case2 = ratlEquivClassesCase2() \n",
    "    case3 = ratlEquivClassesCase3().keys()\n",
    "    return case1 | case2 | case3\n",
    "        "
   ]
  },
  {
   "cell_type": "code",
   "execution_count": 103,
   "id": "cba634b3",
   "metadata": {
    "vscode": {
     "languageId": "sage"
    }
   },
   "outputs": [],
   "source": [
    "def smallRamifications(): \n",
    "    sigma = qnr()\n",
    "    return {x^3, x^3 -3*x, (x^3+3*sigma*x)/(3*x^2+sigma), x^3 - 3 * sigma * x}    "
   ]
  },
  {
   "cell_type": "code",
   "execution_count": 104,
   "id": "d6f9fdc2",
   "metadata": {
    "vscode": {
     "languageId": "sage"
    }
   },
   "outputs": [
    {
     "name": "stdout",
     "output_type": "stream",
     "text": [
      "{(2*x^3 + 6*x)/(x^2 + 2),\n",
      " (x^3 + 1)/x,\n",
      " (x^3 + x^2 + 1)/x,\n",
      " (x^3 + 3*x + 1)/(x^2 + 6*x),\n",
      " (x^3 + 4*x + 1)/(x^2 + 6*x),\n",
      " (x^3 + 6*x + 1)/(x^2 + 6*x),\n",
      " (x^3 + 2)/x,\n",
      " (x^3 + x^2 + 2)/x,\n",
      " (x^3 + 3)/x,\n",
      " (x^3 + 3)/(x^2 + 6*x),\n",
      " (x^3 + x^2 + 3)/x,\n",
      " (x^3 + x^2 + 4)/x,\n",
      " (x^3 + x^2 + 5)/x,\n",
      " (x^3 + 3*x + 5)/(x^2 + 6*x),\n",
      " (x^3 + x^2 + 6)/x,\n",
      " (x^3 + 4*x + 6)/(x^2 + 6*x)}\n",
      "{(5*x^3 + 3*x)/(x^2 + 1), x^3, x^3 + 4*x, x^3 + 5*x}\n"
     ]
    }
   ],
   "source": [
    "equivs = ratlEquivClasses()\n",
    "pprint(equivs)\n",
    "pprint(smallRamifications())"
   ]
  },
  {
   "cell_type": "code",
   "execution_count": 138,
   "id": "86df5c29",
   "metadata": {
    "vscode": {
     "languageId": "sage"
    }
   },
   "outputs": [],
   "source": [
    "def ramCase(f): \n",
    "    df = factor(derivative(f).numerator())\n",
    "    deg2termcounter = 0 \n",
    "    for term in list(df): \n",
    "        deg = term[0].degree()\n",
    "        if deg == 3: \n",
    "            return 3\n",
    "        elif deg == 4: \n",
    "            return 5 \n",
    "        elif deg == 2: \n",
    "            deg2termcounter += term[1]\n",
    "    if deg2termcounter == 1: \n",
    "        return 2 \n",
    "    elif deg2termcounter == 2: \n",
    "        return 4 \n",
    "    else: \n",
    "        return 1 \n",
    "    \n",
    "\n",
    "def ram4Classes(): \n",
    "    cases = {1: 0, 2: 0, 3:0, 4: 0, 5: 0}\n",
    "    equivs = ratlEquivClasses() \n",
    "    for f in equivs: \n",
    "        cases[ramCase(f)] += 1 \n",
    "\n",
    "    for f in smallRamifications(): \n",
    "        cases[ramCase(f)] -= 1\n",
    "    return cases\n",
    "    "
   ]
  },
  {
   "cell_type": "code",
   "execution_count": 147,
   "id": "7d88e099",
   "metadata": {
    "vscode": {
     "languageId": "sage"
    }
   },
   "outputs": [
    {
     "name": "stdout",
     "output_type": "stream",
     "text": [
      "{1: 21, 2: 63, 3: 44, 4: 60, 5: 64}\n"
     ]
    }
   ],
   "source": [
    "print(ram4Classes())\n"
   ]
  }
 ],
 "metadata": {
  "kernelspec": {
   "display_name": "SageMath 10.6",
   "language": "sage",
   "name": "sagemath"
  },
  "language_info": {
   "codemirror_mode": {
    "name": "ipython",
    "version": 3
   },
   "file_extension": ".py",
   "mimetype": "text/x-python",
   "name": "python",
   "nbconvert_exporter": "python",
   "pygments_lexer": "ipython3",
   "version": "3.12.10"
  }
 },
 "nbformat": 4,
 "nbformat_minor": 5
}
