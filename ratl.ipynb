{
 "cells": [
  {
   "cell_type": "code",
   "execution_count": 97,
   "id": "9450c1ab",
   "metadata": {
    "vscode": {
     "languageId": "sagemath"
    }
   },
   "outputs": [],
   "source": [
    "from collections import defaultdict\n",
    "from copy import deepcopy\n",
    "from pprint import pprint\n",
    "from tqdm import tqdm"
   ]
  },
  {
   "cell_type": "code",
   "execution_count": 98,
   "id": "21953332",
   "metadata": {
    "vscode": {
     "languageId": "sagemath"
    }
   },
   "outputs": [],
   "source": [
    "q = 7\n",
    "F.<a> = GF(q)\n",
    "d = 3\n",
    "\n",
    "R.<x> = PolynomialRing(F)\n",
    "p = F.characteristic()\n",
    "r = F.degree()\n",
    "\n",
    "# PGL = [(x + b)/(c*x + d) for b in F for c in F for d in F if d - b*c != 0] + [1 / (c*x + d) for c in F for d in F if c != 0]\n",
    "\n",
    "def check(s, t):\n",
    "    poly = x^4 - 2*x^3 - s*x^2 - 2*t*x + t\n",
    "    return not any(root[0]^3 != -t for root in poly.roots())\n",
    "\n",
    "# deg3ratls = set(f / (x^3 + g) for f in R.polynomials(max_degree=2) for g in R.polynomials(max_degree=2) if gcd(f, x^3 + g) == 1)\n",
    "deg3ratls = set((x^3 + s*x + t) / (x * (x - 1)) for s in F for t in F if t != 0 and 1 + s + t != 0 and check(s, t))"
   ]
  },
  {
   "cell_type": "code",
   "execution_count": 94,
   "id": "14baffb5",
   "metadata": {
    "vscode": {
     "languageId": "sagemath"
    }
   },
   "outputs": [],
   "source": [
    "def numRatlEquivClasses(p, q, n): \n",
    "    def A(q, n): \n",
    "        a = sum([euler_phi(d) * (q^(2*n/d-2) + (d-1)*(q^(2*n/d)-1)/(q+1)) for d in divisors(gcd(q-1, n)) if d > 1])\n",
    "        b = sum([euler_phi(d) * (q^(2*floor(n/d)+1) + 1)/(q+1) for d in divisors(q-1) if (d not in divisors(n))])\n",
    "        return a + b \n",
    "\n",
    "    def B(q, n):\n",
    "        a = sum([euler_phi(d) * (q^(2*n/d-2) + (q+1) * (q^(2*n/d) - (-1)^(n/d))/(q^2 + 1)) for d in divisors(gcd((q+1), n)) if d % 2 == 0])\n",
    "        b = sum([euler_phi(d) * q^(2*n/d-2) for d in divisors(gcd((q+1), n)) if (d % 2 == 1 and d > 1)])\n",
    "        c = 1/((q+1)*(q^2+1)) * sum([euler_phi(d) * ((1+(-1)^(n//d))/2 * (1+q)^2 + q*(q^(2 * n//d + 2) -1)) for d in divisors(q+1) if d not in divisors(n)])\n",
    "        d = 1/(q^2 + 1) * sum([euler_phi(d) * ((-1)^(n//d) * (1+q) + q^(2 * (n//d) + 1) * (q-1)) for d in divisors(q+1) if d in divisors(q+1) if d not in divisors(n)])\n",
    "        # print(\"B terms are\", a, b, c, d)\n",
    "        return a + b + d\n",
    "\n",
    "    def C(q, n):\n",
    "        if n % p == 0:\n",
    "            return q^(2*n/p-1) \n",
    "        elif n == 1: \n",
    "            return 1 \n",
    "        elif n % p == 1: \n",
    "            return q^(2*(n-1)/p-1) * (q-1) \n",
    "        else: \n",
    "            return 0\n",
    "\n",
    "    # print(\"Each components is\", A(q, n), B(q, n), C(q, n))\n",
    "    \n",
    "    return (q^(2*n-3))/(q^2-1) + 1/(2*(q-1)) * A(q, n) + 1/(2*(q+1)) * B(q, n) + 1/q * C(q,n)"
   ]
  },
  {
   "cell_type": "code",
   "execution_count": 95,
   "id": "8186656f",
   "metadata": {
    "vscode": {
     "languageId": "sagemath"
    }
   },
   "outputs": [
    {
     "name": "stdout",
     "output_type": "stream",
     "text": [
      "16\n"
     ]
    }
   ],
   "source": [
    "print(numRatlEquivClasses(p, q, d))"
   ]
  },
  {
   "cell_type": "code",
   "execution_count": null,
   "id": "e00fb856",
   "metadata": {
    "vscode": {
     "languageId": "sagemath"
    }
   },
   "outputs": [],
   "source": [
    "# very slow code; pls scratch this later on but I needed some data for very small case \n",
    "def ratlEquiv(f, g):\n",
    "    \"\"\"returns whether or not f is PGL-equiv to g\"\"\" \n",
    "    for alpha in PGL: \n",
    "        for beta in PGL: \n",
    "            try: \n",
    "                if alpha(f(beta)) == g: \n",
    "                    return (true, alpha, beta)\n",
    "            except ZeroDivisionError: \n",
    "                continue\n",
    "    return False\n",
    "\n",
    "def valueFreq(f): \n",
    "    \"\"\"given a rational function f, compute the value frequency of it\"\"\"\n",
    "    frequencies = defaultdict(int)\n",
    "    for a in F:\n",
    "        try: \n",
    "            value = f(a)\n",
    "        except ZeroDivisionError: \n",
    "            value = \"infinity\" \n",
    "        frequencies[value] += 1\n",
    "    return sorted(frequencies.values()) "
   ]
  },
  {
   "cell_type": "code",
   "execution_count": 99,
   "id": "5520f3f4",
   "metadata": {
    "vscode": {
     "languageId": "sagemath"
    }
   },
   "outputs": [],
   "source": [
    "def reallyslowRatlEquivClasses(print_progress=False): \n",
    "    classes = defaultdict(set)\n",
    "    total = len(deg3ratls)\n",
    "    candidates = deepcopy(deg3ratls)\n",
    "    if print_progress:\n",
    "        print(f\"{total - len(candidates)} out of {total} done\", end=\"\\r\")\n",
    "    while candidates:\n",
    "        f = candidates.pop()\n",
    "        classes[f].add(f)\n",
    "        for alpha in PGL: \n",
    "            for beta in PGL: \n",
    "                try: \n",
    "                    g = alpha(f(beta))\n",
    "                    if g in candidates:\n",
    "                        classes[f].add(g)\n",
    "                        candidates.discard(g)\n",
    "                except ZeroDivisionError: \n",
    "                    continue\n",
    "        # classes.add(f)\n",
    "        if print_progress:\n",
    "            print(f\"{total - len(candidates)} out of {total} done\", end=\"\\r\")\n",
    "    if print_progress:\n",
    "        print()\n",
    "    return classes"
   ]
  },
  {
   "cell_type": "code",
   "execution_count": 100,
   "id": "d71f0e00",
   "metadata": {
    "vscode": {
     "languageId": "sagemath"
    }
   },
   "outputs": [
    {
     "name": "stdout",
     "output_type": "stream",
     "text": [
      "0 out of 19 done\r"
     ]
    },
    {
     "ename": "TypeError",
     "evalue": "no common canonical parent for objects with parents: 'Finite Field of size 7' and 'Fraction Field of Univariate Polynomial Ring in x over Finite Field of size 17'",
     "output_type": "error",
     "traceback": [
      "\u001b[0;31m---------------------------------------------------------------------------\u001b[0m",
      "\u001b[0;31mTypeError\u001b[0m                                 Traceback (most recent call last)",
      "Cell \u001b[0;32mIn[100], line 1\u001b[0m\n\u001b[0;32m----> 1\u001b[0m classes \u001b[38;5;241m=\u001b[39m \u001b[43mreallyslowRatlEquivClasses\u001b[49m\u001b[43m(\u001b[49m\u001b[43mprint_progress\u001b[49m\u001b[38;5;241;43m=\u001b[39;49m\u001b[38;5;28;43;01mTrue\u001b[39;49;00m\u001b[43m)\u001b[49m\n\u001b[1;32m      2\u001b[0m \u001b[38;5;28mprint\u001b[39m(\u001b[38;5;28mlen\u001b[39m(classes))\n\u001b[1;32m      3\u001b[0m pprint(classes)\n",
      "Cell \u001b[0;32mIn[99], line 13\u001b[0m, in \u001b[0;36mreallyslowRatlEquivClasses\u001b[0;34m(print_progress)\u001b[0m\n\u001b[1;32m     11\u001b[0m \u001b[38;5;28;01mfor\u001b[39;00m beta \u001b[38;5;129;01min\u001b[39;00m PGL: \n\u001b[1;32m     12\u001b[0m     \u001b[38;5;28;01mtry\u001b[39;00m: \n\u001b[0;32m---> 13\u001b[0m         g \u001b[38;5;241m=\u001b[39m alpha(\u001b[43mf\u001b[49m\u001b[43m(\u001b[49m\u001b[43mbeta\u001b[49m\u001b[43m)\u001b[49m)\n\u001b[1;32m     14\u001b[0m         \u001b[38;5;28;01mif\u001b[39;00m g \u001b[38;5;129;01min\u001b[39;00m candidates:\n\u001b[1;32m     15\u001b[0m             classes[f]\u001b[38;5;241m.\u001b[39madd(g)\n",
      "File \u001b[0;32m/opt/homebrew/Caskroom/miniconda/base/envs/sage/lib/python3.12/site-packages/sage/rings/fraction_field_FpT.pyx:284\u001b[0m, in \u001b[0;36msage.rings.fraction_field_FpT.FpTElement.__call__ (build/cythonized/sage/rings/fraction_field_FpT.cpp:11275)\u001b[0;34m()\u001b[0m\n\u001b[1;32m    282\u001b[0m         (t^2 + 2*t + 1)/(t^6 + 4*t^4 + 4*t^3)\n\u001b[1;32m    283\u001b[0m     \"\"\"\n\u001b[0;32m--> 284\u001b[0m     return self.numer()(*args, **kwds) / self.denom()(*args, **kwds)\n\u001b[1;32m    285\u001b[0m \n\u001b[1;32m    286\u001b[0m def subs(self, in_dict=None, *args, **kwds):\n",
      "File \u001b[0;32m/opt/homebrew/Caskroom/miniconda/base/envs/sage/lib/python3.12/site-packages/sage/rings/polynomial/polynomial_zmod_flint.pyx:324\u001b[0m, in \u001b[0;36msage.rings.polynomial.polynomial_zmod_flint.Polynomial_zmod_flint.__call__ (build/cythonized/sage/rings/polynomial/polynomial_zmod_flint.cpp:23132)\u001b[0;34m()\u001b[0m\n\u001b[1;32m    322\u001b[0m             nmod_poly_compose(&t.x, &self.x, &y.x)\n\u001b[1;32m    323\u001b[0m             return t\n\u001b[0;32m--> 324\u001b[0m     return Polynomial.__call__(self, *x, **kwds)\n\u001b[1;32m    325\u001b[0m \n\u001b[1;32m    326\u001b[0m @coerce_binop\n",
      "File \u001b[0;32m/opt/homebrew/Caskroom/miniconda/base/envs/sage/lib/python3.12/site-packages/sage/rings/polynomial/polynomial_element.pyx:897\u001b[0m, in \u001b[0;36msage.rings.polynomial.polynomial_element.Polynomial.__call__ (build/cythonized/sage/rings/polynomial/polynomial_element.c:20556)\u001b[0;34m()\u001b[0m\n\u001b[1;32m    895\u001b[0m # This can save lots of coercions when the common parent is the\n\u001b[1;32m    896\u001b[0m # polynomial's base ring (e.g., for evaluations at integers).\n\u001b[0;32m--> 897\u001b[0m cst, aa = coercion_model.canonical_coercion(cst, a)\n\u001b[1;32m    898\u001b[0m # Use fast multiplication actions like matrix × scalar.\n\u001b[1;32m    899\u001b[0m # If there is no action, replace a by an element of the\n",
      "File \u001b[0;32m/opt/homebrew/Caskroom/miniconda/base/envs/sage/lib/python3.12/site-packages/sage/structure/coerce.pyx:1428\u001b[0m, in \u001b[0;36msage.structure.coerce.CoercionModel.canonical_coercion (build/cythonized/sage/structure/coerce.c:19057)\u001b[0;34m()\u001b[0m\n\u001b[1;32m   1426\u001b[0m             self._record_exception()\n\u001b[1;32m   1427\u001b[0m \n\u001b[0;32m-> 1428\u001b[0m     raise TypeError(\"no common canonical parent for objects with parents: '%s' and '%s'\" % (xp, yp))\n\u001b[1;32m   1429\u001b[0m \n\u001b[1;32m   1430\u001b[0m cpdef coercion_maps(self, R, S):\n",
      "\u001b[0;31mTypeError\u001b[0m: no common canonical parent for objects with parents: 'Finite Field of size 7' and 'Fraction Field of Univariate Polynomial Ring in x over Finite Field of size 17'"
     ]
    }
   ],
   "source": [
    "classes = reallyslowRatlEquivClasses(print_progress=True)\n",
    "print(len(classes))\n",
    "pprint(classes)\n",
    "\n",
    "# value_freqs = []\n",
    "# for f in tqdm(classes):\n",
    "#     value_freqs.append((f, valueFreq(f)))\n",
    "# pprint(value_freqs)"
   ]
  },
  {
   "cell_type": "code",
   "execution_count": 101,
   "id": "06783113",
   "metadata": {
    "vscode": {
     "languageId": "sagemath"
    }
   },
   "outputs": [],
   "source": [
    "def getOrbit(f):\n",
    "    s = f.numerator()[1]\n",
    "    t = f.numerator()[0]\n",
    "\n",
    "    preimages = defaultdict(set)\n",
    "    for a in F:\n",
    "        if a != 0 and a != 1:\n",
    "            preimages[f(a)].add(a)\n",
    "    \n",
    "    pairs = { (s, t) }\n",
    "    for preimage in preimages.values():\n",
    "        if len(preimage) == 3:\n",
    "            u, v, w = preimage\n",
    "            s_prime = (u^2*(-1 + v)*v*(u - w) - u*(-1 + v)*v^2*(u - w) + u*(u - v)*v^2*(-1 + w) + (1 - v)*v^2*(u - w)*w + (-1 + v)*v^2*(u - w)*w - u^2*(u - v)*(-1 + w)*w + v^2*(-u + v)*(-1 + w)*w - u*(-1 + v)*(u - w)*w^2 + (-1 + v)*v*(u - w)*w^2 + u*(u - v)*(-1 + w)*w^2 + (u - v)*v*(-1 + w)*w^2 + v*(-u + v)*(-1 + w)*w^2) / (u^2*(u - v)*(-1 + w)*w - 2*u*(u - v)*v*(-1 + w)*w + (u - v)*v^2*(-1 + w)*w)\n",
    "            t_prime = (-(u^2*(-1 + v)*v*(u - w)) + 2*u*(-1 + v)*v*(u - w)*w - (-1 + v)*v*(u - w)*w^2)/(u^2*(u - v)*(-1 + w)*w - 2*u*(u - v)*v*(-1 + w)*w + (u - v)*v^2*(-1 + w)*w)\n",
    "            pairs.add((s_prime, t_prime))\n",
    "\n",
    "    # print(pairs)\n",
    "    \n",
    "    def get(s, t):\n",
    "        return {\n",
    "            (s, t),\n",
    "            (s / t, 1 / t),\n",
    "            (s, -1 - s - t),\n",
    "            (s / t, -(1 + s + t) / t),\n",
    "            (-s / (1 + s + t), -1 / (1 + s + t)),\n",
    "            (-s / (1 + s + t), -t / (1 + s + t))\n",
    "        }\n",
    "    \n",
    "    pairs = set.union(*(get(s, t) for s, t in pairs))\n",
    "    return set((x^3 + s*x + t) / (x^2 - x) for s, t in pairs)\n",
    "\n",
    "def ratlEquivClassesCase3(print_progress=False):\n",
    "    classes = defaultdict(set)\n",
    "    total = len(deg3ratls)\n",
    "    candidates = deepcopy(deg3ratls)\n",
    "    if print_progress:\n",
    "        print(f\"{total - len(candidates)} out of {total} done\", end=\"\\r\")\n",
    "    while candidates:\n",
    "        f = candidates.pop()\n",
    "        orbit = getOrbit(f)\n",
    "        classes[f] = orbit\n",
    "        candidates -= orbit\n",
    "        if print_progress:\n",
    "            print(f\"{total - len(candidates)} out of {total} done\", end=\"\\r\")\n",
    "    if print_progress:\n",
    "        print()\n",
    "    return classes"
   ]
  },
  {
   "cell_type": "code",
   "execution_count": 68,
   "id": "12925564",
   "metadata": {
    "vscode": {
     "languageId": "sagemath"
    }
   },
   "outputs": [
    {
     "name": "stdout",
     "output_type": "stream",
     "text": [
      "{(3, 4), (3, 6)}\n"
     ]
    },
    {
     "data": {
      "text/plain": [
       "{(x^3 + 6*x + 2)/(x^2 + 6*x),\n",
       " (x^3 + 4*x + 3)/(x^2 + 6*x),\n",
       " (x^3 + 3*x + 4)/(x^2 + 6*x),\n",
       " (x^3 + 6*x + 5)/(x^2 + 6*x),\n",
       " (x^3 + 3*x + 6)/(x^2 + 6*x),\n",
       " (x^3 + 4*x + 6)/(x^2 + 6*x)}"
      ]
     },
     "execution_count": 68,
     "metadata": {},
     "output_type": "execute_result"
    }
   ],
   "source": [
    "getOrbit((x^3 + 3*x + 6) / (x^2 - x))"
   ]
  },
  {
   "cell_type": "code",
   "execution_count": 102,
   "id": "b7c629a2",
   "metadata": {
    "vscode": {
     "languageId": "sagemath"
    }
   },
   "outputs": [
    {
     "name": "stdout",
     "output_type": "stream",
     "text": [
      "19 out of 19 done\n",
      "6\n",
      "defaultdict(<class 'set'>,\n",
      "            {(x^3 + 1)/(x^2 + 6*x): {(x^3 + 1)/(x^2 + 6*x),\n",
      "                                     (x^3 + 3)/(x^2 + 6*x),\n",
      "                                     (x^3 + 5)/(x^2 + 6*x)},\n",
      "             (x^3 + 3*x + 1)/(x^2 + 6*x): {(x^3 + 3*x + 1)/(x^2 + 6*x),\n",
      "                                           (x^3 + 3*x + 2)/(x^2 + 6*x),\n",
      "                                           (x^3 + 5*x + 4)/(x^2 + 6*x)},\n",
      "             (x^3 + 4*x + 1)/(x^2 + 6*x): {(x^3 + 4*x + 1)/(x^2 + 6*x)},\n",
      "             (x^3 + 6*x + 2)/(x^2 + 6*x): {(x^3 + 6*x + 2)/(x^2 + 6*x),\n",
      "                                           (x^3 + 4*x + 3)/(x^2 + 6*x),\n",
      "                                           (x^3 + 3*x + 4)/(x^2 + 6*x),\n",
      "                                           (x^3 + 6*x + 5)/(x^2 + 6*x),\n",
      "                                           (x^3 + 3*x + 6)/(x^2 + 6*x),\n",
      "                                           (x^3 + 4*x + 6)/(x^2 + 6*x)},\n",
      "             (x^3 + 3*x + 5)/(x^2 + 6*x): {(x^3 + 2*x + 1)/(x^2 + 6*x),\n",
      "                                           (x^3 + 2*x + 3)/(x^2 + 6*x),\n",
      "                                           (x^3 + 3*x + 5)/(x^2 + 6*x)},\n",
      "             (x^3 + 6*x + 6)/(x^2 + 6*x): {(x^3 + 6*x + 1)/(x^2 + 6*x),\n",
      "                                           (x^3 + x + 6)/(x^2 + 6*x),\n",
      "                                           (x^3 + 6*x + 6)/(x^2 + 6*x)}})\n"
     ]
    }
   ],
   "source": [
    "classes = ratlEquivClassesCase3(print_progress=True)\n",
    "print(len(classes))\n",
    "pprint(classes)"
   ]
  },
  {
   "cell_type": "code",
   "execution_count": 58,
   "id": "6f56dfee",
   "metadata": {
    "vscode": {
     "languageId": "sagemath"
    }
   },
   "outputs": [
    {
     "data": {
      "text/plain": [
       "(True, x, x)"
      ]
     },
     "execution_count": 58,
     "metadata": {},
     "output_type": "execute_result"
    }
   ],
   "source": [
    "s, t = F(2), F(3)\n",
    "ratlEquiv((x^3 + (-s / (1 + s + t))*x + (-t / (1 + s + t)))/(x^2 - x), (x^3 + s*x + t)/(x^2 - x))"
   ]
  },
  {
   "cell_type": "code",
   "execution_count": 15,
   "id": "cba634b3",
   "metadata": {
    "vscode": {
     "languageId": "sagemath"
    }
   },
   "outputs": [
    {
     "name": "stdout",
     "output_type": "stream",
     "text": [
      "[[(0, 3)], [(4, 1), (2, 1), (1, 1)], [], [], [], [], [(6, 1), (5, 1), (3, 1)]]\n"
     ]
    }
   ],
   "source": [
    "pprint([(x^3 - a).roots() for a in F])"
   ]
  }
 ],
 "metadata": {
  "kernelspec": {
   "display_name": "SageMath 10.6",
   "language": "sage",
   "name": "sagemath"
  },
  "language_info": {
   "codemirror_mode": {
    "name": "ipython",
    "version": 3
   },
   "file_extension": ".py",
   "mimetype": "text/x-python",
   "name": "python",
   "nbconvert_exporter": "python",
   "pygments_lexer": "ipython3",
   "version": "3.12.10"
  }
 },
 "nbformat": 4,
 "nbformat_minor": 5
}
