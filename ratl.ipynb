{
 "cells": [
  {
   "cell_type": "code",
   "execution_count": 2,
   "id": "9450c1ab",
   "metadata": {
    "vscode": {
     "languageId": "sagemath"
    }
   },
   "outputs": [],
   "source": [
    "from collections import defaultdict\n",
    "from copy import deepcopy\n",
    "from pprint import pprint\n",
    "from tqdm import tqdm"
   ]
  },
  {
   "cell_type": "code",
   "execution_count": 21,
   "id": "21953332",
   "metadata": {
    "vscode": {
     "languageId": "sagemath"
    }
   },
   "outputs": [],
   "source": [
    "q = 11\n",
    "F.<a> = GF(q)\n",
    "d = 3\n",
    "\n",
    "R.<x> = PolynomialRing(F)\n",
    "p = F.characteristic()\n",
    "r = F.degree()"
   ]
  },
  {
   "cell_type": "code",
   "execution_count": 3,
   "id": "14baffb5",
   "metadata": {
    "vscode": {
     "languageId": "sagemath"
    }
   },
   "outputs": [],
   "source": [
    "def numRatlEquivClasses(p, q, n): \n",
    "    def A(q, n): \n",
    "        a = sum([euler_phi(d) * (q^(2*n/d-2) + (d-1)*(q^(2*n/d)-1)/(q+1)) for d in divisors(gcd(q-1, n)) if d > 1])\n",
    "        b = sum([euler_phi(d) * (q^(2*floor(n/d)+1) + 1)/(q+1) for d in divisors(q-1) if (d not in divisors(n))])\n",
    "        return a + b \n",
    "\n",
    "    def B(q, n):\n",
    "        a = sum([euler_phi(d) * (q^(2*n/d-2) + (q+1) * (q^(2*n/d) - (-1)^(n/d))/(q^2 + 1)) for d in divisors(gcd((q+1), n)) if d % 2 == 0])\n",
    "        b = sum([euler_phi(d) * q^(2*n/d-2) for d in divisors(gcd((q+1), n)) if (d % 2 == 1 and d > 1)])\n",
    "        c = 1/((q+1)*(q^2+1)) * sum([euler_phi(d) * ((1+(-1)^(n//d))/2 * (1+q)^2 + q*(q^(2 * n//d + 2) -1)) for d in divisors(q+1) if d not in divisors(n)])\n",
    "        d = 1/(q^2 + 1) * sum([euler_phi(d) * ((-1)^(n//d) * (1+q) + q^(2 * (n//d) + 1) * (q-1)) for d in divisors(q+1) if d in divisors(q+1) if d not in divisors(n)])\n",
    "        # print(\"B terms are\", a, b, c, d)\n",
    "        return a + b + d\n",
    "\n",
    "    def C(q, n):\n",
    "        if n % p == 0:\n",
    "            return q^(2*n/p-1) \n",
    "        elif n == 1: \n",
    "            return 1 \n",
    "        elif n % p == 1: \n",
    "            return q^(2*(n-1)/p-1) * (q-1) \n",
    "        else: \n",
    "            return 0\n",
    "\n",
    "    # print(\"Each components is\", A(q, n), B(q, n), C(q, n))\n",
    "    \n",
    "    return (q^(2*n-3))/(q^2-1) + 1/(2*(q-1)) * A(q, n) + 1/(2*(q+1)) * B(q, n) + 1/q * C(q,n)"
   ]
  },
  {
   "cell_type": "code",
   "execution_count": 12,
   "id": "8186656f",
   "metadata": {
    "vscode": {
     "languageId": "sagemath"
    }
   },
   "outputs": [
    {
     "name": "stdout",
     "output_type": "stream",
     "text": [
      "10\n"
     ]
    }
   ],
   "source": [
    "print(numRatlEquivClasses(p, q, d))"
   ]
  },
  {
   "cell_type": "code",
   "execution_count": 22,
   "id": "e00fb856",
   "metadata": {
    "vscode": {
     "languageId": "sagemath"
    }
   },
   "outputs": [],
   "source": [
    "# very slow code; pls scratch this later on but I needed some data for very small case \n",
    "PGL = [(x + b)/(c*x + d) for b in F for c in F for d in F if d - b*c != 0] + [1 / (c*x + d) for c in F for d in F if c != 0]\n",
    "\n",
    "def ratlEquiv(f, g):\n",
    "    \"\"\"returns whether or not f is PGL-equiv to g\"\"\" \n",
    "    for alpha in PGL: \n",
    "        for beta in PGL: \n",
    "            try: \n",
    "                if alpha(f(beta)) == g: \n",
    "                    return (true, alpha, beta)\n",
    "            except ZeroDivisionError: \n",
    "                continue\n",
    "    return False\n",
    "\n",
    "def check(s, t):\n",
    "    poly = x^4 - 2*x^3 - s*x^2 - 2*t*x + t\n",
    "    return not any(root[0]^3 != -t for root in poly.roots())\n",
    "\n",
    "# deg3ratls = set(f / (x^3 + g) for f in R.polynomials(max_degree=2) for g in R.polynomials(max_degree=2) if gcd(f, x^3 + g) == 1)\n",
    "deg3ratls = set((x^3 + s*x + t) / (x * (x - 1)) for s in F for t in F if t != 0 and 1 + s + t != 0 and check(s, t))\n",
    "\n",
    "def reallyslowRatlEquivClasses(print_progress=False): \n",
    "    classes = defaultdict(set)\n",
    "    total = len(deg3ratls)\n",
    "    candidates = deepcopy(deg3ratls)\n",
    "    if print_progress:\n",
    "        print(f\"{total - len(candidates)} out of {total} done\", end=\"\\r\")\n",
    "    while candidates:\n",
    "        f = candidates.pop()\n",
    "        classes[f].add(f)\n",
    "        for alpha in PGL: \n",
    "            for beta in PGL: \n",
    "                try: \n",
    "                    g = alpha(f(beta))\n",
    "                    if g in candidates:\n",
    "                        classes[f].add(g)\n",
    "                        candidates.discard(g)\n",
    "                except ZeroDivisionError: \n",
    "                    continue\n",
    "        # classes.add(f)\n",
    "        if print_progress:\n",
    "            print(f\"{total - len(candidates)} out of {total} done\", end=\"\\r\")\n",
    "    if print_progress:\n",
    "        print()\n",
    "    return classes\n",
    "\n",
    "def valueFreq(f): \n",
    "    \"\"\"given a rational function f, compute the value frequency of it\"\"\"\n",
    "    frequencies = defaultdict(int)\n",
    "    for a in F:\n",
    "        try: \n",
    "            value = f(a)\n",
    "        except ZeroDivisionError: \n",
    "            value = \"infinity\" \n",
    "        frequencies[value] += 1\n",
    "    return sorted(frequencies.values()) "
   ]
  },
  {
   "cell_type": "code",
   "execution_count": 17,
   "id": "d71f0e00",
   "metadata": {
    "vscode": {
     "languageId": "sagemath"
    }
   },
   "outputs": [
    {
     "name": "stdout",
     "output_type": "stream",
     "text": [
      "67 out of 67 done\n",
      "12\n",
      "defaultdict(<class 'set'>,\n",
      "            {(x^3 + 10*x + 1)/(x^2 + 12*x): {(x^3 + 10*x + 1)/(x^2 + 12*x)},\n",
      "             (x^3 + 2*x + 2)/(x^2 + 12*x): {(x^3 + 2*x + 2)/(x^2 + 12*x),\n",
      "                                            (x^3 + x + 4)/(x^2 + 12*x),\n",
      "                                            (x^3 + 10*x + 5)/(x^2 + 12*x),\n",
      "                                            (x^3 + x + 7)/(x^2 + 12*x),\n",
      "                                            (x^3 + 2*x + 8)/(x^2 + 12*x),\n",
      "                                            (x^3 + 10*x + 10)/(x^2 + 12*x)},\n",
      "             (x^3 + 8*x + 2)/(x^2 + 12*x): {(x^3 + 4*x + 1)/(x^2 + 12*x),\n",
      "                                            (x^3 + 8*x + 2)/(x^2 + 12*x),\n",
      "                                            (x^3 + 4*x + 7)/(x^2 + 12*x)},\n",
      "             (x^3 + 11*x + 2)/(x^2 + 12*x): {(x^3 + 11*x + 2)/(x^2 + 12*x),\n",
      "                                             (x^3 + 12*x + 6)/(x^2 + 12*x),\n",
      "                                             (x^3 + 12*x + 7)/(x^2 + 12*x),\n",
      "                                             (x^3 + 2*x + 11)/(x^2 + 12*x),\n",
      "                                             (x^3 + 2*x + 12)/(x^2 + 12*x),\n",
      "                                             (x^3 + 11*x + 12)/(x^2 + 12*x)},\n",
      "             (x^3 + 6*x + 3)/(x^2 + 12*x): {(x^3 + 2*x + 1)/(x^2 + 12*x),\n",
      "                                            (x^3 + 6*x + 3)/(x^2 + 12*x),\n",
      "                                            (x^3 + 2*x + 9)/(x^2 + 12*x)},\n",
      "             (x^3 + 5*x + 4)/(x^2 + 12*x): {(x^3 + 3*x + 1)/(x^2 + 12*x),\n",
      "                                            (x^3 + 5*x + 3)/(x^2 + 12*x),\n",
      "                                            (x^3 + 5*x + 4)/(x^2 + 12*x),\n",
      "                                            (x^3 + 11*x + 4)/(x^2 + 12*x),\n",
      "                                            (x^3 + 2*x + 5)/(x^2 + 12*x),\n",
      "                                            (x^3 + 3*x + 8)/(x^2 + 12*x),\n",
      "                                            (x^3 + 6*x + 9)/(x^2 + 12*x),\n",
      "                                            (x^3 + 6*x + 10)/(x^2 + 12*x),\n",
      "                                            (x^3 + 11*x + 10)/(x^2 + 12*x)},\n",
      "             (x^3 + 7*x + 4)/(x^2 + 12*x): {(x^3 + 7*x + 1)/(x^2 + 12*x),\n",
      "                                            (x^3 + 7*x + 4)/(x^2 + 12*x),\n",
      "                                            (x^3 + 5*x + 10)/(x^2 + 12*x)},\n",
      "             (x^3 + 4*x + 5)/(x^2 + 12*x): {(x^3 + 8*x + 1)/(x^2 + 12*x),\n",
      "                                            (x^3 + 4*x + 3)/(x^2 + 12*x),\n",
      "                                            (x^3 + 8*x + 3)/(x^2 + 12*x),\n",
      "                                            (x^3 + 4*x + 5)/(x^2 + 12*x),\n",
      "                                            (x^3 + 10*x + 6)/(x^2 + 12*x),\n",
      "                                            (x^3 + 6*x + 8)/(x^2 + 12*x),\n",
      "                                            (x^3 + 7*x + 9)/(x^2 + 12*x),\n",
      "                                            (x^3 + 10*x + 9)/(x^2 + 12*x),\n",
      "                                            (x^3 + 6*x + 11)/(x^2 + 12*x)},\n",
      "             (x^3 + 6)/(x^2 + 12*x): {(x^3 + 1)/(x^2 + 12*x),\n",
      "                                      (x^3 + 6)/(x^2 + 12*x),\n",
      "                                      (x^3 + 11)/(x^2 + 12*x)},\n",
      "             (x^3 + 3*x + 7)/(x^2 + 12*x): {(x^3 + 12*x + 1)/(x^2 + 12*x),\n",
      "                                            (x^3 + 3*x + 2)/(x^2 + 12*x),\n",
      "                                            (x^3 + 6*x + 2)/(x^2 + 12*x),\n",
      "                                            (x^3 + 6*x + 4)/(x^2 + 12*x),\n",
      "                                            (x^3 + 3*x + 7)/(x^2 + 12*x),\n",
      "                                            (x^3 + 8*x + 7)/(x^2 + 12*x),\n",
      "                                            (x^3 + 8*x + 10)/(x^2 + 12*x),\n",
      "                                            (x^3 + x + 12)/(x^2 + 12*x),\n",
      "                                            (x^3 + 12*x + 12)/(x^2 + 12*x)},\n",
      "             (x^3 + 5*x + 8)/(x^2 + 12*x): {(x^3 + 8*x + 5)/(x^2 + 12*x),\n",
      "                                            (x^3 + 12*x + 5)/(x^2 + 12*x),\n",
      "                                            (x^3 + 5*x + 8)/(x^2 + 12*x),\n",
      "                                            (x^3 + 12*x + 8)/(x^2 + 12*x),\n",
      "                                            (x^3 + 5*x + 12)/(x^2 + 12*x),\n",
      "                                            (x^3 + 8*x + 12)/(x^2 + 12*x)},\n",
      "             (x^3 + 11*x + 11)/(x^2 + 12*x): {(x^3 + 5*x + 1)/(x^2 + 12*x),\n",
      "                                              (x^3 + 11*x + 3)/(x^2 + 12*x),\n",
      "                                              (x^3 + x + 5)/(x^2 + 12*x),\n",
      "                                              (x^3 + x + 6)/(x^2 + 12*x),\n",
      "                                              (x^3 + 5*x + 6)/(x^2 + 12*x),\n",
      "                                              (x^3 + 8*x + 8)/(x^2 + 12*x),\n",
      "                                              (x^3 + 8*x + 9)/(x^2 + 12*x),\n",
      "                                              (x^3 + 3*x + 11)/(x^2 + 12*x),\n",
      "                                              (x^3 + 11*x + 11)/(x^2 + 12*x)}})\n"
     ]
    }
   ],
   "source": [
    "classes = reallyslowRatlEquivClasses(print_progress=True)\n",
    "print(len(classes))\n",
    "pprint(classes)\n",
    "\n",
    "# value_freqs = []\n",
    "# for f in tqdm(classes):\n",
    "#     value_freqs.append((f, valueFreq(f)))\n",
    "# pprint(value_freqs)"
   ]
  },
  {
   "cell_type": "code",
   "execution_count": 24,
   "id": "6f56dfee",
   "metadata": {
    "vscode": {
     "languageId": "sagemath"
    }
   },
   "outputs": [
    {
     "data": {
      "text/plain": [
       "(True, 4*x/(x + 1), (3*x + 5)/(x + 2))"
      ]
     },
     "execution_count": 24,
     "metadata": {},
     "output_type": "execute_result"
    }
   ],
   "source": [
    "ratlEquiv((x^3 + 3*x + 2)/(x^2 + 10*x), (x^3 + 3*x + 5)/(x^2 + 10*x))"
   ]
  },
  {
   "cell_type": "code",
   "execution_count": 15,
   "id": "cba634b3",
   "metadata": {
    "vscode": {
     "languageId": "sagemath"
    }
   },
   "outputs": [
    {
     "name": "stdout",
     "output_type": "stream",
     "text": [
      "[[(0, 3)], [(4, 1), (2, 1), (1, 1)], [], [], [], [], [(6, 1), (5, 1), (3, 1)]]\n"
     ]
    }
   ],
   "source": [
    "pprint([(x^3 - a).roots() for a in F])"
   ]
  }
 ],
 "metadata": {
  "kernelspec": {
   "display_name": "SageMath 10.6",
   "language": "sage",
   "name": "sagemath"
  },
  "language_info": {
   "codemirror_mode": {
    "name": "ipython",
    "version": 3
   },
   "file_extension": ".py",
   "mimetype": "text/x-python",
   "name": "python",
   "nbconvert_exporter": "python",
   "pygments_lexer": "ipython3",
   "version": "3.12.10"
  }
 },
 "nbformat": 4,
 "nbformat_minor": 5
}
