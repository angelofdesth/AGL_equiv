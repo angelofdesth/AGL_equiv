def numEquivClass(p, r, n): 
    """
    Given (p, r, n) as input, returns the number of AGL-equivalence classes of 
    polynomials with degree n in F_q where q = p^r. 

    Assumes that p is prime. 
    """
    if p % n == 0: 
        c = 1 - q^(n-2) + q^(n/p - 1) 
    elif n == 1: 
        c = 1 
    else: 
        c = 1 - q^(n-2)
    
    return 1/(q-1) * sum([euler_phi(d)*(q^(ceil(n/d) -1)-1) for d in divisor(q-1) if d < n])
