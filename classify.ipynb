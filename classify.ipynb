{
 "cells": [
  {
   "cell_type": "code",
   "execution_count": 1,
   "id": "03ed04cf",
   "metadata": {
    "vscode": {
     "languageId": "sagemath"
    }
   },
   "outputs": [],
   "source": [
    "from poly_classify import *\n",
    "from pprint import pprint\n",
    "from tqdm import tqdm"
   ]
  },
  {
   "cell_type": "code",
   "execution_count": 8,
   "id": "85efef6c",
   "metadata": {
    "vscode": {
     "languageId": "sagemath"
    }
   },
   "outputs": [],
   "source": [
    "F.<a> = GF(5^2)\n",
    "d = 5\n",
    "\n",
    "R.<x> = PolynomialRing(F)\n",
    "p = F.characteristic()\n",
    "r = F.degree()\n",
    "\n",
    "initialize_AGL(R)"
   ]
  },
  {
   "cell_type": "code",
   "execution_count": 18,
   "id": "2f6c2e8f",
   "metadata": {
    "vscode": {
     "languageId": "sagemath"
    }
   },
   "outputs": [
    {
     "name": "stdout",
     "output_type": "stream",
     "text": [
      "x^54 + 2*x^36 + 2*x^30 + 2*x^27\n",
      "x^54 + 2*x^36 + 2*x^30 + x^27\n"
     ]
    }
   ],
   "source": [
    "poly = x^54 + 2*x^36 + 2*x^30 + 2*x^27\n",
    "print(poly)\n",
    "print(canonical_form(poly))"
   ]
  },
  {
   "cell_type": "code",
   "execution_count": 17,
   "id": "4fab2753",
   "metadata": {
    "vscode": {
     "languageId": "sagemath"
    }
   },
   "outputs": [
    {
     "name": "stderr",
     "output_type": "stream",
     "text": [
      "48 out of 390625 done, 6 out of 683 found : : 48it [00:04,  9.93it/s]\n"
     ]
    },
    {
     "ename": "KeyboardInterrupt",
     "evalue": "",
     "output_type": "error",
     "traceback": [
      "\u001b[0;31m---------------------------------------------------------------------------\u001b[0m",
      "\u001b[0;31mKeyboardInterrupt\u001b[0m                         Traceback (most recent call last)",
      "Cell \u001b[0;32mIn[17], line 8\u001b[0m\n\u001b[1;32m      6\u001b[0m pbar \u001b[38;5;241m=\u001b[39m tqdm(gen_polys(R, d))\n\u001b[1;32m      7\u001b[0m \u001b[38;5;28;01mfor\u001b[39;00m poly \u001b[38;5;129;01min\u001b[39;00m pbar:\n\u001b[0;32m----> 8\u001b[0m     canonical_forms\u001b[38;5;241m.\u001b[39madd(\u001b[43mcanonical_form\u001b[49m\u001b[43m(\u001b[49m\u001b[43mpoly\u001b[49m\u001b[43m)\u001b[49m)\n\u001b[1;32m     10\u001b[0m     polys_done \u001b[38;5;241m+\u001b[39m\u001b[38;5;241m=\u001b[39m Integer(\u001b[38;5;241m1\u001b[39m)\n\u001b[1;32m     11\u001b[0m     pbar\u001b[38;5;241m.\u001b[39mset_description(\u001b[38;5;124mf\u001b[39m\u001b[38;5;124m\"\u001b[39m\u001b[38;5;132;01m{\u001b[39;00mpolys_done\u001b[38;5;132;01m}\u001b[39;00m\u001b[38;5;124m out of \u001b[39m\u001b[38;5;132;01m{\u001b[39;00mtotal_polys\u001b[38;5;132;01m}\u001b[39;00m\u001b[38;5;124m done, \u001b[39m\u001b[38;5;132;01m{\u001b[39;00m\u001b[38;5;28mlen\u001b[39m(canonical_forms)\u001b[38;5;132;01m}\u001b[39;00m\u001b[38;5;124m out of \u001b[39m\u001b[38;5;132;01m{\u001b[39;00mtotal_equiv_classes\u001b[38;5;132;01m}\u001b[39;00m\u001b[38;5;124m found \u001b[39m\u001b[38;5;124m\"\u001b[39m)\n",
      "File \u001b[0;32m~/Desktop/REU 2025/poly_classify.py:149\u001b[0m, in \u001b[0;36mcanonical_form\u001b[0;34m(f)\u001b[0m\n\u001b[1;32m    147\u001b[0m g_options \u001b[38;5;241m=\u001b[39m defaultdict(\u001b[38;5;28mlist\u001b[39m)\n\u001b[1;32m    148\u001b[0m \u001b[38;5;28;01mfor\u001b[39;00m poly \u001b[38;5;129;01min\u001b[39;00m candidates:\n\u001b[0;32m--> 149\u001b[0m     g_options[\u001b[43mpart\u001b[49m\u001b[43m(\u001b[49m\u001b[43mpoly\u001b[49m\u001b[43m[\u001b[49m\u001b[43mInteger\u001b[49m\u001b[43m(\u001b[49m\u001b[38;5;241;43m1\u001b[39;49m\u001b[43m)\u001b[49m\u001b[43m]\u001b[49m\u001b[38;5;241;43m*\u001b[39;49m\u001b[38;5;241;43m*\u001b[39;49m\u001b[43m(\u001b[49m\u001b[38;5;241;43m-\u001b[39;49m\u001b[43md\u001b[49m\u001b[43m)\u001b[49m\u001b[43m \u001b[49m\u001b[38;5;241;43m*\u001b[39;49m\u001b[43m \u001b[49m\u001b[43mf_partial\u001b[49m\u001b[43m(\u001b[49m\u001b[43mpoly\u001b[49m\u001b[43m)\u001b[49m\u001b[43m,\u001b[49m\u001b[43m \u001b[49m\u001b[43mk\u001b[49m\u001b[43m,\u001b[49m\u001b[43m \u001b[49m\u001b[43mp\u001b[49m\u001b[43m)\u001b[49m]\u001b[38;5;241m.\u001b[39mappend(poly)\n\u001b[1;32m    150\u001b[0m maximal \u001b[38;5;241m=\u001b[39m \u001b[38;5;28mmin\u001b[39m(g_options)\n\u001b[1;32m    151\u001b[0m form \u001b[38;5;241m+\u001b[39m\u001b[38;5;241m=\u001b[39m maximal\n",
      "File \u001b[0;32m~/Desktop/REU 2025/poly_classify.py:72\u001b[0m, in \u001b[0;36mpart\u001b[0;34m(f, w, p)\u001b[0m\n\u001b[1;32m     60\u001b[0m \u001b[38;5;250m\u001b[39m\u001b[38;5;124;03m\"\"\"\u001b[39;00m\n\u001b[1;32m     61\u001b[0m \u001b[38;5;124;03mExtracts the terms in f of p-weight w.\u001b[39;00m\n\u001b[1;32m     62\u001b[0m \n\u001b[0;32m   (...)\u001b[0m\n\u001b[1;32m     69\u001b[0m \u001b[38;5;124;03m    Polynomial: The part of f with p-weight w.\u001b[39;00m\n\u001b[1;32m     70\u001b[0m \u001b[38;5;124;03m\"\"\"\u001b[39;00m\n\u001b[1;32m     71\u001b[0m x \u001b[38;5;241m=\u001b[39m f\u001b[38;5;241m.\u001b[39mvariables()[\u001b[38;5;241m0\u001b[39m]\n\u001b[0;32m---> 72\u001b[0m \u001b[38;5;28;01mreturn\u001b[39;00m \u001b[38;5;28;43msum\u001b[39;49m\u001b[43m(\u001b[49m\u001b[43mc\u001b[49m\u001b[43m \u001b[49m\u001b[38;5;241;43m*\u001b[39;49m\u001b[43m \u001b[49m\u001b[43mx\u001b[49m\u001b[38;5;241;43m*\u001b[39;49m\u001b[38;5;241;43m*\u001b[39;49m\u001b[43mi\u001b[49m\u001b[43m \u001b[49m\u001b[38;5;28;43;01mfor\u001b[39;49;00m\u001b[43m \u001b[49m\u001b[43mi\u001b[49m\u001b[43m,\u001b[49m\u001b[43m \u001b[49m\u001b[43mc\u001b[49m\u001b[43m \u001b[49m\u001b[38;5;129;43;01min\u001b[39;49;00m\u001b[43m \u001b[49m\u001b[38;5;28;43menumerate\u001b[39;49m\u001b[43m(\u001b[49m\u001b[43mf\u001b[49m\u001b[43m)\u001b[49m\u001b[43m \u001b[49m\u001b[38;5;28;43;01mif\u001b[39;49;00m\u001b[43m \u001b[49m\u001b[43mweight\u001b[49m\u001b[43m(\u001b[49m\u001b[43mi\u001b[49m\u001b[43m,\u001b[49m\u001b[43m \u001b[49m\u001b[43mp\u001b[49m\u001b[43m)\u001b[49m\u001b[43m \u001b[49m\u001b[38;5;241;43m==\u001b[39;49m\u001b[43m \u001b[49m\u001b[43mw\u001b[49m\u001b[43m)\u001b[49m\n",
      "File \u001b[0;32m/opt/homebrew/Caskroom/miniconda/base/envs/sage/lib/python3.12/site-packages/sage/misc/functional.py:588\u001b[0m, in \u001b[0;36msymbolic_sum\u001b[0;34m(expression, *args, **kwds)\u001b[0m\n\u001b[1;32m    586\u001b[0m     \u001b[38;5;28;01mreturn\u001b[39;00m expression\u001b[38;5;241m.\u001b[39msum(\u001b[38;5;241m*\u001b[39margs, \u001b[38;5;241m*\u001b[39m\u001b[38;5;241m*\u001b[39mkwds)\n\u001b[1;32m    587\u001b[0m \u001b[38;5;28;01mif\u001b[39;00m \u001b[38;5;28mmax\u001b[39m(\u001b[38;5;28mlen\u001b[39m(args), \u001b[38;5;28mlen\u001b[39m(kwds)) \u001b[38;5;241m<\u001b[39m\u001b[38;5;241m=\u001b[39m \u001b[38;5;241m1\u001b[39m:\n\u001b[0;32m--> 588\u001b[0m     \u001b[38;5;28;01mreturn\u001b[39;00m \u001b[38;5;28;43msum\u001b[39;49m\u001b[43m(\u001b[49m\u001b[43mexpression\u001b[49m\u001b[43m,\u001b[49m\u001b[43m \u001b[49m\u001b[38;5;241;43m*\u001b[39;49m\u001b[43margs\u001b[49m\u001b[43m,\u001b[49m\u001b[43m \u001b[49m\u001b[38;5;241;43m*\u001b[39;49m\u001b[38;5;241;43m*\u001b[39;49m\u001b[43mkwds\u001b[49m\u001b[43m)\u001b[49m\n\u001b[1;32m    589\u001b[0m \u001b[38;5;28;01mfrom\u001b[39;00m\u001b[38;5;250m \u001b[39m\u001b[38;5;21;01msage\u001b[39;00m\u001b[38;5;21;01m.\u001b[39;00m\u001b[38;5;21;01msymbolic\u001b[39;00m\u001b[38;5;21;01m.\u001b[39;00m\u001b[38;5;21;01mring\u001b[39;00m\u001b[38;5;250m \u001b[39m\u001b[38;5;28;01mimport\u001b[39;00m SR\n\u001b[1;32m    590\u001b[0m \u001b[38;5;28;01mreturn\u001b[39;00m SR(expression)\u001b[38;5;241m.\u001b[39msum(\u001b[38;5;241m*\u001b[39margs, \u001b[38;5;241m*\u001b[39m\u001b[38;5;241m*\u001b[39mkwds)\n",
      "File \u001b[0;32m~/Desktop/REU 2025/poly_classify.py:72\u001b[0m, in \u001b[0;36m<genexpr>\u001b[0;34m(.0)\u001b[0m\n\u001b[1;32m     60\u001b[0m \u001b[38;5;250m\u001b[39m\u001b[38;5;124;03m\"\"\"\u001b[39;00m\n\u001b[1;32m     61\u001b[0m \u001b[38;5;124;03mExtracts the terms in f of p-weight w.\u001b[39;00m\n\u001b[1;32m     62\u001b[0m \n\u001b[0;32m   (...)\u001b[0m\n\u001b[1;32m     69\u001b[0m \u001b[38;5;124;03m    Polynomial: The part of f with p-weight w.\u001b[39;00m\n\u001b[1;32m     70\u001b[0m \u001b[38;5;124;03m\"\"\"\u001b[39;00m\n\u001b[1;32m     71\u001b[0m x \u001b[38;5;241m=\u001b[39m f\u001b[38;5;241m.\u001b[39mvariables()[\u001b[38;5;241m0\u001b[39m]\n\u001b[0;32m---> 72\u001b[0m \u001b[38;5;28;01mreturn\u001b[39;00m \u001b[38;5;28msum\u001b[39m(\u001b[43mc\u001b[49m\u001b[43m \u001b[49m\u001b[38;5;241;43m*\u001b[39;49m\u001b[43m \u001b[49m\u001b[43mx\u001b[49m\u001b[38;5;241;43m*\u001b[39;49m\u001b[38;5;241;43m*\u001b[39;49m\u001b[43mi\u001b[49m \u001b[38;5;28;01mfor\u001b[39;00m i, c \u001b[38;5;129;01min\u001b[39;00m \u001b[38;5;28menumerate\u001b[39m(f) \u001b[38;5;28;01mif\u001b[39;00m weight(i, p) \u001b[38;5;241m==\u001b[39m w)\n",
      "File \u001b[0;32m/opt/homebrew/Caskroom/miniconda/base/envs/sage/lib/python3.12/site-packages/sage/structure/element.pyx:1506\u001b[0m, in \u001b[0;36msage.structure.element.Element.__mul__ (build/cythonized/sage/structure/element.c:20256)\u001b[0;34m()\u001b[0m\n\u001b[1;32m   1504\u001b[0m     return (<Element>left)._mul_(right)\n\u001b[1;32m   1505\u001b[0m if BOTH_ARE_ELEMENT(cl):\n\u001b[0;32m-> 1506\u001b[0m     return coercion_model.bin_op(left, right, mul)\n\u001b[1;32m   1507\u001b[0m \n\u001b[1;32m   1508\u001b[0m cdef long value\n",
      "File \u001b[0;32m/opt/homebrew/Caskroom/miniconda/base/envs/sage/lib/python3.12/site-packages/sage/structure/coerce.pyx:1228\u001b[0m, in \u001b[0;36msage.structure.coerce.CoercionModel.bin_op (build/cythonized/sage/structure/coerce.c:15879)\u001b[0;34m()\u001b[0m\n\u001b[1;32m   1226\u001b[0m if action is not None:\n\u001b[1;32m   1227\u001b[0m     if (<Action>action)._is_left:\n\u001b[0;32m-> 1228\u001b[0m         return (<Action>action)._act_(x, y)\n\u001b[1;32m   1229\u001b[0m     else:\n\u001b[1;32m   1230\u001b[0m         return (<Action>action)._act_(y, x)\n",
      "File \u001b[0;32m/opt/homebrew/Caskroom/miniconda/base/envs/sage/lib/python3.12/site-packages/sage/structure/coerce_actions.pyx:641\u001b[0m, in \u001b[0;36msage.structure.coerce_actions.LeftModuleAction._act_ (build/cythonized/sage/structure/coerce_actions.c:12985)\u001b[0;34m()\u001b[0m\n\u001b[1;32m    639\u001b[0m if self.extended_base is not None:\n\u001b[1;32m    640\u001b[0m     a = <ModuleElement?>self.extended_base(a)\n\u001b[0;32m--> 641\u001b[0m return (<ModuleElement>a)._rmul_(<Element>g)  # g * a\n\u001b[1;32m    642\u001b[0m \n\u001b[1;32m    643\u001b[0m \n",
      "File \u001b[0;32m/opt/homebrew/Caskroom/miniconda/base/envs/sage/lib/python3.12/site-packages/sage/rings/polynomial/polynomial_element.pyx:406\u001b[0m, in \u001b[0;36msage.rings.polynomial.polynomial_element.Polynomial._rmul_ (build/cythonized/sage/rings/polynomial/polynomial_element.c:17344)\u001b[0;34m()\u001b[0m\n\u001b[1;32m    404\u001b[0m     if not right:\n\u001b[1;32m    405\u001b[0m         return self._parent.zero()\n\u001b[0;32m--> 406\u001b[0m     return self * self._parent(right)\n\u001b[1;32m    407\u001b[0m \n\u001b[1;32m    408\u001b[0m def subs(self, in_dict=None, *args, **kwds):\n",
      "File \u001b[0;32m/opt/homebrew/Caskroom/miniconda/base/envs/sage/lib/python3.12/site-packages/sage/structure/parent.pyx:900\u001b[0m, in \u001b[0;36msage.structure.parent.Parent.__call__ (build/cythonized/sage/structure/parent.c:12762)\u001b[0;34m()\u001b[0m\n\u001b[1;32m    898\u001b[0m if mor is not None:\n\u001b[1;32m    899\u001b[0m     if no_extra_args:\n\u001b[0;32m--> 900\u001b[0m         return mor._call_(x)\n\u001b[1;32m    901\u001b[0m     else:\n\u001b[1;32m    902\u001b[0m         return mor._call_with_args(x, args, kwds)\n",
      "File \u001b[0;32m/opt/homebrew/Caskroom/miniconda/base/envs/sage/lib/python3.12/site-packages/sage/rings/polynomial/polynomial_element.pyx:13061\u001b[0m, in \u001b[0;36msage.rings.polynomial.polynomial_element.PolynomialBaseringInjection._call_ (build/cythonized/sage/rings/polynomial/polynomial_element.c:128135)\u001b[0;34m()\u001b[0m\n\u001b[1;32m  13059\u001b[0m         Univariate Polynomial Ring in x over Integer Ring\n\u001b[1;32m  13060\u001b[0m     \"\"\"\n\u001b[0;32m> 13061\u001b[0m     return self._new_constant_poly_(x, self._codomain)\n\u001b[1;32m  13062\u001b[0m \n\u001b[1;32m  13063\u001b[0m cpdef Element _call_with_args(self, x, args=(), kwds={}):\n",
      "File \u001b[0;32m/opt/homebrew/Caskroom/miniconda/base/envs/sage/lib/python3.12/site-packages/sage/rings/polynomial/polynomial_element.pyx:6066\u001b[0m, in \u001b[0;36msage.rings.polynomial.polynomial_element.Polynomial._new_constant_poly (build/cythonized/sage/rings/polynomial/polynomial_element.c:62371)\u001b[0;34m()\u001b[0m\n\u001b[1;32m   6064\u001b[0m     return self.get_unsafe(0)\n\u001b[1;32m   6065\u001b[0m \n\u001b[0;32m-> 6066\u001b[0m cpdef Polynomial _new_constant_poly(self, a, Parent P):\n\u001b[1;32m   6067\u001b[0m     \"\"\"\n\u001b[1;32m   6068\u001b[0m     Create a new constant polynomial from a in P, which MUST be an\n",
      "File \u001b[0;32m/opt/homebrew/Caskroom/miniconda/base/envs/sage/lib/python3.12/site-packages/sage/rings/polynomial/polynomial_element.pyx:6080\u001b[0m, in \u001b[0;36msage.rings.polynomial.polynomial_element.Polynomial._new_constant_poly (build/cythonized/sage/rings/polynomial/polynomial_element.c:62214)\u001b[0;34m()\u001b[0m\n\u001b[1;32m   6078\u001b[0m     \"\"\"\n\u001b[1;32m   6079\u001b[0m     t = type(self)\n\u001b[0;32m-> 6080\u001b[0m     return t(P, [a] if a else [], check=False)\n\u001b[1;32m   6081\u001b[0m \n\u001b[1;32m   6082\u001b[0m def is_monic(self):\n",
      "File \u001b[0;32m/opt/homebrew/Caskroom/miniconda/base/envs/sage/lib/python3.12/site-packages/sage/rings/polynomial/polynomial_zz_pex.pyx:151\u001b[0m, in \u001b[0;36msage.rings.polynomial.polynomial_zz_pex.Polynomial_ZZ_pEX.__init__ (build/cythonized/sage/rings/polynomial/polynomial_zz_pex.cpp:20189)\u001b[0;34m()\u001b[0m\n\u001b[1;32m    149\u001b[0m     # not do K.coerce(e) but K(e).\n\u001b[1;32m    150\u001b[0m     e = K(e)\n\u001b[0;32m--> 151\u001b[0m     d = parent._modulus.ZZ_pE(list(e.polynomial()))\n\u001b[1;32m    152\u001b[0m     ZZ_pEX_SetCoeff(self.x, i, d.x)\n\u001b[1;32m    153\u001b[0m return\n",
      "File \u001b[0;32m/opt/homebrew/Caskroom/miniconda/base/envs/sage/lib/python3.12/site-packages/sage/rings/finite_rings/element_givaro.pyx:1516\u001b[0m, in \u001b[0;36msage.rings.finite_rings.element_givaro.FiniteField_givaroElement.polynomial (build/cythonized/sage/rings/finite_rings/element_givaro.cpp:21363)\u001b[0;34m()\u001b[0m\n\u001b[1;32m   1514\u001b[0m         return PolynomialRing(K.prime_subfield(), name)(ret)\n\u001b[1;32m   1515\u001b[0m     else:\n\u001b[0;32m-> 1516\u001b[0m         return K.polynomial_ring()(ret)\n\u001b[1;32m   1517\u001b[0m \n\u001b[1;32m   1518\u001b[0m def _magma_init_(self, magma):\n",
      "File \u001b[0;32m/opt/homebrew/Caskroom/miniconda/base/envs/sage/lib/python3.12/site-packages/sage/structure/parent.pyx:900\u001b[0m, in \u001b[0;36msage.structure.parent.Parent.__call__ (build/cythonized/sage/structure/parent.c:12762)\u001b[0;34m()\u001b[0m\n\u001b[1;32m    898\u001b[0m if mor is not None:\n\u001b[1;32m    899\u001b[0m     if no_extra_args:\n\u001b[0;32m--> 900\u001b[0m         return mor._call_(x)\n\u001b[1;32m    901\u001b[0m     else:\n\u001b[1;32m    902\u001b[0m         return mor._call_with_args(x, args, kwds)\n",
      "File \u001b[0;32m/opt/homebrew/Caskroom/miniconda/base/envs/sage/lib/python3.12/site-packages/sage/structure/coerce_maps.pyx:159\u001b[0m, in \u001b[0;36msage.structure.coerce_maps.DefaultConvertMap_unique._call_ (build/cythonized/sage/structure/coerce_maps.c:6871)\u001b[0;34m()\u001b[0m\n\u001b[1;32m    157\u001b[0m cdef Parent C = self._codomain\n\u001b[1;32m    158\u001b[0m try:\n\u001b[0;32m--> 159\u001b[0m     return C._element_constructor(x)\n\u001b[1;32m    160\u001b[0m except Exception:\n\u001b[1;32m    161\u001b[0m     if print_warnings:\n",
      "File \u001b[0;32m/opt/homebrew/Caskroom/miniconda/base/envs/sage/lib/python3.12/site-packages/sage/rings/polynomial/polynomial_ring.py:444\u001b[0m, in \u001b[0;36mPolynomialRing_generic._element_constructor_\u001b[0;34m(self, x, check, is_gen, construct, **kwds)\u001b[0m\n\u001b[1;32m    442\u001b[0m C \u001b[38;5;241m=\u001b[39m \u001b[38;5;28mself\u001b[39m\u001b[38;5;241m.\u001b[39melement_class\n\u001b[1;32m    443\u001b[0m \u001b[38;5;28;01mif\u001b[39;00m \u001b[38;5;28misinstance\u001b[39m(x, (\u001b[38;5;28mlist\u001b[39m, \u001b[38;5;28mtuple\u001b[39m)):\n\u001b[0;32m--> 444\u001b[0m     \u001b[38;5;28;01mreturn\u001b[39;00m \u001b[43mC\u001b[49m\u001b[43m(\u001b[49m\u001b[38;5;28;43mself\u001b[39;49m\u001b[43m,\u001b[49m\u001b[43m \u001b[49m\u001b[43mx\u001b[49m\u001b[43m,\u001b[49m\u001b[43m \u001b[49m\u001b[43mcheck\u001b[49m\u001b[38;5;241;43m=\u001b[39;49m\u001b[43mcheck\u001b[49m\u001b[43m,\u001b[49m\u001b[43m \u001b[49m\u001b[43mis_gen\u001b[49m\u001b[38;5;241;43m=\u001b[39;49m\u001b[38;5;28;43;01mFalse\u001b[39;49;00m\u001b[43m,\u001b[49m\u001b[43m \u001b[49m\u001b[43mconstruct\u001b[49m\u001b[38;5;241;43m=\u001b[39;49m\u001b[43mconstruct\u001b[49m\u001b[43m)\u001b[49m\n\u001b[1;32m    445\u001b[0m \u001b[38;5;28;01mif\u001b[39;00m \u001b[38;5;28misinstance\u001b[39m(x, \u001b[38;5;28mrange\u001b[39m):\n\u001b[1;32m    446\u001b[0m     \u001b[38;5;28;01mreturn\u001b[39;00m C(\u001b[38;5;28mself\u001b[39m, \u001b[38;5;28mlist\u001b[39m(x), check\u001b[38;5;241m=\u001b[39mcheck, is_gen\u001b[38;5;241m=\u001b[39m\u001b[38;5;28;01mFalse\u001b[39;00m,\n\u001b[1;32m    447\u001b[0m              construct\u001b[38;5;241m=\u001b[39mconstruct)\n",
      "File \u001b[0;32m/opt/homebrew/Caskroom/miniconda/base/envs/sage/lib/python3.12/site-packages/sage/rings/polynomial/polynomial_zmod_flint.pyx:110\u001b[0m, in \u001b[0;36msage.rings.polynomial.polynomial_zmod_flint.Polynomial_zmod_flint.__init__ (build/cythonized/sage/rings/polynomial/polynomial_zmod_flint.cpp:21319)\u001b[0;34m()\u001b[0m\n\u001b[1;32m    108\u001b[0m     lst = lst[:nlen]\n\u001b[1;32m    109\u001b[0m     Polynomial_template.__init__(self, parent, 0, check, is_gen, construct)\n\u001b[0;32m--> 110\u001b[0m     self._set_list(lst)\n\u001b[1;32m    111\u001b[0m     return\n\u001b[1;32m    112\u001b[0m elif isinstance(x, Polynomial_integer_dense_flint):\n",
      "File \u001b[0;32m/opt/homebrew/Caskroom/miniconda/base/envs/sage/lib/python3.12/site-packages/sage/rings/polynomial/polynomial_zmod_flint.pyx:200\u001b[0m, in \u001b[0;36msage.rings.polynomial.polynomial_zmod_flint.Polynomial_zmod_flint._set_list (build/cythonized/sage/rings/polynomial/polynomial_zmod_flint.cpp:22355)\u001b[0;34m()\u001b[0m\n\u001b[1;32m    198\u001b[0m \n\u001b[1;32m    199\u001b[0m         # resize to length of list\n\u001b[0;32m--> 200\u001b[0m         sig_on()\n\u001b[1;32m    201\u001b[0m         nmod_poly_realloc(&self.x, length)\n\u001b[1;32m    202\u001b[0m         sig_off()\n",
      "\u001b[0;31mKeyboardInterrupt\u001b[0m: "
     ]
    }
   ],
   "source": [
    "total_polys = len(F)^(d - 1)\n",
    "total_equiv_classes = num_equiv_classes(p, r, d)\n",
    "polys_done = 0\n",
    "\n",
    "canonical_forms = set()\n",
    "pbar = tqdm(gen_polys(R, d))\n",
    "for poly in pbar:\n",
    "    canonical_forms.add(canonical_form(poly))\n",
    "\n",
    "    polys_done += 1\n",
    "    pbar.set_description(f\"{polys_done} out of {total_polys} done, {len(canonical_forms)} out of {total_equiv_classes} found \")\n",
    "\n",
    "print(len(canonical_forms))\n",
    "pprint(canonical_forms)"
   ]
  }
 ],
 "metadata": {
  "kernelspec": {
   "display_name": "SageMath 10.6",
   "language": "sage",
   "name": "sagemath"
  },
  "language_info": {
   "codemirror_mode": {
    "name": "ipython",
    "version": 3
   },
   "file_extension": ".py",
   "mimetype": "text/x-python",
   "name": "python",
   "nbconvert_exporter": "python",
   "pygments_lexer": "ipython3",
   "version": "3.12.10"
  }
 },
 "nbformat": 4,
 "nbformat_minor": 5
}
