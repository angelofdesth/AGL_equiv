{
 "cells": [
  {
   "cell_type": "code",
   "execution_count": 1,
   "id": "03ed04cf",
   "metadata": {
    "vscode": {
     "languageId": "sagemath"
    }
   },
   "outputs": [],
   "source": [
    "from poly_classify import *\n",
    "from pprint import pprint"
   ]
  },
  {
   "cell_type": "code",
   "execution_count": 2,
   "id": "85efef6c",
   "metadata": {
    "vscode": {
     "languageId": "sagemath"
    }
   },
   "outputs": [],
   "source": [
    "F.<a> = GF(5)\n",
    "R.<x> = PolynomialRing(F)\n",
    "p = F.characteristic()\n",
    "r = F.degree()\n",
    "\n",
    "initialize_AGL(R)"
   ]
  },
  {
   "cell_type": "code",
   "execution_count": 3,
   "id": "28295b9d",
   "metadata": {
    "vscode": {
     "languageId": "sagemath"
    }
   },
   "outputs": [
    {
     "data": {
      "text/plain": [
       "8"
      ]
     },
     "execution_count": 3,
     "metadata": {},
     "output_type": "execute_result"
    }
   ],
   "source": [
    "num_equiv_classes(p, r, 4)"
   ]
  },
  {
   "cell_type": "code",
   "execution_count": 4,
   "id": "2f6c2e8f",
   "metadata": {
    "vscode": {
     "languageId": "sagemath"
    }
   },
   "outputs": [
    {
     "name": "stdout",
     "output_type": "stream",
     "text": [
      "x^54 + 2*x^36 + 2*x^30 + 2*x^27\n",
      "x^54 + 2*x^36 + 2*x^30 + 2*x^27\n"
     ]
    }
   ],
   "source": [
    "poly = x^54 + 2*x^36 + 2*x^30 + 2*x^27\n",
    "print(poly)\n",
    "print(canonical_form(poly))"
   ]
  },
  {
   "cell_type": "code",
   "execution_count": 5,
   "id": "36e945ef",
   "metadata": {
    "vscode": {
     "languageId": "sagemath"
    }
   },
   "outputs": [
    {
     "data": {
      "text/plain": [
       "625"
      ]
     },
     "execution_count": 5,
     "metadata": {},
     "output_type": "execute_result"
    }
   ],
   "source": [
    "len(list(gen_polys(R, 5)))"
   ]
  },
  {
   "cell_type": "code",
   "execution_count": 6,
   "id": "4fab2753",
   "metadata": {
    "vscode": {
     "languageId": "sagemath"
    }
   },
   "outputs": [
    {
     "name": "stdout",
     "output_type": "stream",
     "text": [
      "{x^5,\n",
      " x^5 + x,\n",
      " x^5 + 2*x,\n",
      " x^5 + 3*x,\n",
      " x^5 + 4*x,\n",
      " x^5 + x^2,\n",
      " x^5 + x^3,\n",
      " x^5 + x^3 + x,\n",
      " x^5 + x^3 + 2*x,\n",
      " x^5 + x^3 + 3*x,\n",
      " x^5 + x^3 + 4*x,\n",
      " x^5 + x^4,\n",
      " x^5 + x^4 + x,\n",
      " x^5 + x^4 + 2*x,\n",
      " x^5 + x^4 + 3*x,\n",
      " x^5 + x^4 + 4*x,\n",
      " x^5 + x^4 + x^2,\n",
      " x^5 + x^4 + x^2 + x,\n",
      " x^5 + x^4 + x^2 + 2*x,\n",
      " x^5 + x^4 + x^2 + 3*x,\n",
      " x^5 + x^4 + x^2 + 4*x,\n",
      " x^5 + x^4 + 2*x^2,\n",
      " x^5 + x^4 + 2*x^2 + x,\n",
      " x^5 + x^4 + 2*x^2 + 2*x,\n",
      " x^5 + x^4 + 2*x^2 + 3*x,\n",
      " x^5 + x^4 + 2*x^2 + 4*x,\n",
      " 2*x^5 + x^3,\n",
      " 2*x^5 + x^3 + x,\n",
      " 2*x^5 + x^3 + 2*x,\n",
      " 2*x^5 + x^3 + 3*x,\n",
      " 2*x^5 + x^3 + 4*x,\n",
      " 2*x^5 + x^4 + x^2,\n",
      " 2*x^5 + x^4 + x^2 + x,\n",
      " 2*x^5 + x^4 + x^2 + 2*x,\n",
      " 2*x^5 + x^4 + x^2 + 3*x,\n",
      " 2*x^5 + x^4 + x^2 + 4*x,\n",
      " 2*x^5 + x^4 + 2*x^2,\n",
      " 2*x^5 + x^4 + 2*x^2 + x,\n",
      " 2*x^5 + x^4 + 2*x^2 + 2*x,\n",
      " 2*x^5 + x^4 + 2*x^2 + 3*x,\n",
      " 2*x^5 + x^4 + 2*x^2 + 4*x}\n"
     ]
    }
   ],
   "source": [
    "canonical_forms = set()\n",
    "for poly in gen_polys(R, 5):\n",
    "    canonical_forms.add(canonical_form(poly))\n",
    "pprint(canonical_forms)"
   ]
  }
 ],
 "metadata": {
  "kernelspec": {
   "display_name": "SageMath 10.6",
   "language": "sage",
   "name": "sagemath"
  },
  "language_info": {
   "codemirror_mode": {
    "name": "ipython",
    "version": 3
   },
   "file_extension": ".py",
   "mimetype": "text/x-python",
   "name": "python",
   "nbconvert_exporter": "python",
   "pygments_lexer": "ipython3",
   "version": "3.12.10"
  }
 },
 "nbformat": 4,
 "nbformat_minor": 5
}
