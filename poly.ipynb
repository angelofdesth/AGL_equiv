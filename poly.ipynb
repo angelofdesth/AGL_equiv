{
 "cells": [
  {
   "cell_type": "code",
   "execution_count": 40,
   "id": "10ae6e75",
   "metadata": {
    "vscode": {
     "languageId": "sagemath"
    }
   },
   "outputs": [],
   "source": [
    "from pprint import pprint"
   ]
  },
  {
   "cell_type": "code",
   "execution_count": 42,
   "id": "f79e37bb",
   "metadata": {
    "vscode": {
     "languageId": "sagemath"
    }
   },
   "outputs": [],
   "source": [
    "F.<a> = GF(3)\n",
    "R.<x> = PolynomialRing(F)"
   ]
  },
  {
   "cell_type": "code",
   "execution_count": 60,
   "id": "e6771b93",
   "metadata": {
    "vscode": {
     "languageId": "sagemath"
    }
   },
   "outputs": [],
   "source": [
    "def numEquivClass(p, r, n): \n",
    "    \"\"\"\n",
    "    Given (p, r, n) as input, returns the number of AGL-equivalence classes of \n",
    "    polynomials with degree n in F_q where q = p^r. \n",
    "\n",
    "    Assumes that p is prime. \n",
    "    \"\"\"\n",
    "    q = p^r\n",
    "\n",
    "    if p % n == 0:\n",
    "        c = 1 - q^(n-2) + q^(n/p - 1)\n",
    "    elif n == 1:\n",
    "        c = 1\n",
    "    else:\n",
    "        c = 1 - q^(n-2)\n",
    "    \n",
    "    return 1/(q-1) * sum([euler_phi(d)*(q^(ceil(n/d)-1)-1) for d in divisors(q-1) if d < n]) + c\n",
    "\n",
    "def numEquivClassF(F, deg): \n",
    "    \"\"\"\n",
    "    Given (F_q, deg) as input, returns the number of AGL-equivalence classes of \n",
    "    polynomials with degree deg in F_q. \n",
    "    \"\"\"\n",
    "    return numEquivClass(F.characteristic(), F.degree(), deg)"
   ]
  },
  {
   "cell_type": "code",
   "execution_count": 9,
   "id": "66c299cd",
   "metadata": {
    "vscode": {
     "languageId": "sagemath"
    }
   },
   "outputs": [
    {
     "data": {
      "text/plain": [
       "{x, x + 1, x + 2, 2*x, 2*x + 1, 2*x + 2}"
      ]
     },
     "execution_count": 9,
     "metadata": {},
     "output_type": "execute_result"
    }
   ],
   "source": [
    "AGL = { a * x + b for a in F if a != 0 for b in F }\n",
    "AGL"
   ]
  },
  {
   "cell_type": "code",
   "execution_count": 15,
   "id": "26a0637e",
   "metadata": {
    "vscode": {
     "languageId": "sagemath"
    }
   },
   "outputs": [],
   "source": [
    "def equivalent(p, q):\n",
    "    for alpha in AGL:\n",
    "        for beta in AGL:\n",
    "            if q == alpha(p(beta)):\n",
    "                return True\n",
    "    return False"
   ]
  },
  {
   "cell_type": "code",
   "execution_count": 37,
   "id": "7ba630df",
   "metadata": {
    "vscode": {
     "languageId": "sagemath"
    }
   },
   "outputs": [],
   "source": [
    "def polys(deg, coeffs=()):\n",
    "    if deg == 0:\n",
    "        yield sum([ci * x^i for i, ci in enumerate(coeffs + (1,))])\n",
    "        return\n",
    "    for c in F:\n",
    "        yield from polys(deg - 1, coeffs + (c,))"
   ]
  },
  {
   "cell_type": "code",
   "execution_count": null,
   "id": "406f01ab",
   "metadata": {
    "vscode": {
     "languageId": "sagemath"
    }
   },
   "outputs": [
    {
     "name": "stdout",
     "output_type": "stream",
     "text": [
      "{x^5,\n",
      " x^5 + x^3,\n",
      " x^5 + 2*x^3,\n",
      " x^5 + x^4,\n",
      " x^5 + x^4 + x,\n",
      " x^5 + x^4 + x^2,\n",
      " x^5 + x^4 + x^3,\n",
      " x^5 + x^4 + x^3 + x,\n",
      " x^5 + x^4 + x^3 + x^2,\n",
      " x^5 + x^4 + 2*x^3,\n",
      " x^5 + x^4 + 2*x^3 + x,\n",
      " x^5 + x^4 + 2*x^3 + x^2,\n",
      " x^5 + 2*x^4 + x^2,\n",
      " x^5 + 2*x^4 + x^2 + x,\n",
      " x^5 + 2*x^4 + x^3 + x^2,\n",
      " x^5 + 2*x^4 + x^3 + x^2 + x,\n",
      " x^5 + 2*x^4 + 2*x^3 + x^2,\n",
      " x^5 + 2*x^4 + 2*x^3 + x^2 + x}\n"
     ]
    }
   ],
   "source": [
    "reps = set()\n",
    "for p in polys(5):\n",
    "    if not any(equivalent(p, rep) for rep in reps):\n",
    "        reps.add(p)\n",
    "# pprint(reps)\n",
    "print(len(reps))"
   ]
  },
  {
   "cell_type": "code",
   "execution_count": 62,
   "id": "eb900bdb",
   "metadata": {
    "vscode": {
     "languageId": "sagemath"
    }
   },
   "outputs": [
    {
     "data": {
      "text/plain": [
       "3"
      ]
     },
     "execution_count": 62,
     "metadata": {},
     "output_type": "execute_result"
    }
   ],
   "source": [
    "numEquivClassF(GF(25), 3)"
   ]
  }
 ],
 "metadata": {
  "kernelspec": {
   "display_name": "SageMath 10.6",
   "language": "sage",
   "name": "sagemath"
  },
  "language_info": {
   "codemirror_mode": {
    "name": "ipython",
    "version": 3
   },
   "file_extension": ".py",
   "mimetype": "text/x-python",
   "name": "python",
   "nbconvert_exporter": "python",
   "pygments_lexer": "ipython3",
   "version": "3.12.10"
  }
 },
 "nbformat": 4,
 "nbformat_minor": 5
}
