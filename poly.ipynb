{
 "cells": [
  {
   "cell_type": "code",
   "execution_count": 7,
   "id": "10ae6e75",
   "metadata": {
    "vscode": {
     "languageId": "sage"
    }
   },
   "outputs": [],
   "source": [
    "from pprint import pprint"
   ]
  },
  {
   "cell_type": "code",
   "execution_count": 6,
   "id": "f79e37bb",
   "metadata": {
    "vscode": {
     "languageId": "sage"
    }
   },
   "outputs": [],
   "source": [
    "F.<a> = GF(3)\n",
    "R.<x> = PolynomialRing(F)"
   ]
  },
  {
   "cell_type": "code",
   "execution_count": 3,
   "id": "e6771b93",
   "metadata": {
    "vscode": {
     "languageId": "sage"
    }
   },
   "outputs": [],
   "source": [
    "def numEquivClass(p, r, n): \n",
    "    \"\"\"\n",
    "    Given (p, r, n) as input, returns the number of AGL-equivalence classes of \n",
    "    polynomials with degree n in F_q where q = p^r. \n",
    "\n",
    "    Assumes that p is prime. \n",
    "    \"\"\"\n",
    "    q = p^r\n",
    "\n",
    "    if p % n == 0:\n",
    "        c = 1 - q^(n-2) + q^(n/p - 1)\n",
    "    elif n == 1:\n",
    "        c = 1\n",
    "    else:\n",
    "        c = 1 - q^(n-2)\n",
    "    \n",
    "    return 1/(q-1) * sum([euler_phi(d)*(q^(ceil(n/d)-1)-1) for d in divisors(q-1) if d < n]) + c\n",
    "\n",
    "def numEquivClassF(F, deg): \n",
    "    \"\"\"\n",
    "    Given (F_q, deg) as input, returns the number of AGL-equivalence classes of \n",
    "    polynomials with degree deg in F_q. \n",
    "    \"\"\"\n",
    "    return numEquivClass(F.characteristic(), F.degree(), deg)"
   ]
  },
  {
   "cell_type": "code",
   "execution_count": 4,
   "id": "66c299cd",
   "metadata": {
    "vscode": {
     "languageId": "sage"
    }
   },
   "outputs": [
    {
     "data": {
      "text/plain": [
       "{x, x + 1, x + 2, 2*x, 2*x + 1, 2*x + 2}"
      ]
     },
     "execution_count": 4,
     "metadata": {},
     "output_type": "execute_result"
    }
   ],
   "source": [
    "AGL = { a * x + b for a in F if a != 0 for b in F }\n",
    "AGL"
   ]
  },
  {
   "cell_type": "code",
   "execution_count": 5,
   "id": "26a0637e",
   "metadata": {
    "vscode": {
     "languageId": "sage"
    }
   },
   "outputs": [],
   "source": [
    "def equivalent(p, q):\n",
    "    for alpha in AGL:\n",
    "        for beta in AGL:\n",
    "            if q == alpha(p(beta)):\n",
    "                return True\n",
    "    return False"
   ]
  },
  {
   "cell_type": "code",
   "execution_count": 6,
   "id": "7ba630df",
   "metadata": {
    "vscode": {
     "languageId": "sage"
    }
   },
   "outputs": [],
   "source": [
    "def polys(deg, coeffs=()):\n",
    "    if deg == 0:\n",
    "        yield sum([ci * x^i for i, ci in enumerate(coeffs + (1,))])\n",
    "        return\n",
    "    for c in F:\n",
    "        yield from polys(deg - 1, coeffs + (c,))"
   ]
  },
  {
   "cell_type": "code",
   "execution_count": 10,
   "id": "406f01ab",
   "metadata": {
    "vscode": {
     "languageId": "sage"
    }
   },
   "outputs": [
    {
     "name": "stdout",
     "output_type": "stream",
     "text": [
      "{x^6,\n",
      " x^6 + x,\n",
      " x^6 + x^2,\n",
      " x^6 + 2*x^2,\n",
      " x^6 + x^3 + x^2,\n",
      " x^6 + x^3 + 2*x^2,\n",
      " x^6 + x^4,\n",
      " x^6 + x^4 + x^2,\n",
      " x^6 + x^4 + x^2 + x,\n",
      " x^6 + x^4 + 2*x^2,\n",
      " x^6 + x^4 + x^3,\n",
      " x^6 + x^4 + x^3 + x^2,\n",
      " x^6 + x^4 + x^3 + x^2 + x,\n",
      " x^6 + x^4 + x^3 + 2*x^2,\n",
      " x^6 + x^4 + 2*x^3 + x^2 + x,\n",
      " x^6 + 2*x^4,\n",
      " x^6 + 2*x^4 + x^2,\n",
      " x^6 + 2*x^4 + 2*x^2,\n",
      " x^6 + 2*x^4 + 2*x^2 + x,\n",
      " x^6 + 2*x^4 + x^3,\n",
      " x^6 + 2*x^4 + x^3 + x^2,\n",
      " x^6 + x^5,\n",
      " x^6 + x^5 + x^3,\n",
      " x^6 + x^5 + x^4,\n",
      " x^6 + x^5 + x^4 + x,\n",
      " x^6 + x^5 + x^4 + x^2,\n",
      " x^6 + x^5 + x^4 + x^3,\n",
      " x^6 + x^5 + x^4 + x^3 + x,\n",
      " x^6 + x^5 + x^4 + x^3 + x^2,\n",
      " x^6 + x^5 + x^4 + 2*x^3 + x,\n",
      " x^6 + x^5 + 2*x^4,\n",
      " x^6 + x^5 + 2*x^4 + x,\n",
      " x^6 + x^5 + 2*x^4 + x^2,\n",
      " x^6 + x^5 + 2*x^4 + 2*x^2,\n",
      " x^6 + x^5 + 2*x^4 + x^3,\n",
      " x^6 + x^5 + 2*x^4 + x^3 + x,\n",
      " x^6 + x^5 + 2*x^4 + x^3 + x^2,\n",
      " x^6 + x^5 + 2*x^4 + x^3 + 2*x^2,\n",
      " x^6 + x^5 + 2*x^4 + 2*x^3 + x,\n",
      " x^6 + 2*x^5 + x,\n",
      " x^6 + 2*x^5 + x^3,\n",
      " x^6 + 2*x^5 + x^3 + x,\n",
      " x^6 + 2*x^5 + 2*x^3 + x,\n",
      " x^6 + 2*x^5 + x^4 + x^3,\n",
      " x^6 + 2*x^5 + x^4 + x^3 + x^2,\n",
      " x^6 + 2*x^5 + 2*x^4 + x^3,\n",
      " x^6 + 2*x^5 + 2*x^4 + x^3 + x^2,\n",
      " x^6 + 2*x^5 + 2*x^4 + x^3 + 2*x^2}\n",
      "48\n"
     ]
    }
   ],
   "source": [
    "reps = set()\n",
    "for p in polys(6):\n",
    "    if not any(equivalent(p, rep) for rep in reps):\n",
    "        reps.add(p)\n",
    "pprint(reps)\n",
    "print(len(reps))"
   ]
  },
  {
   "cell_type": "code",
   "execution_count": 8,
   "id": "eb900bdb",
   "metadata": {
    "vscode": {
     "languageId": "sage"
    }
   },
   "outputs": [
    {
     "data": {
      "text/plain": [
       "3"
      ]
     },
     "execution_count": 8,
     "metadata": {},
     "output_type": "execute_result"
    }
   ],
   "source": [
    "numEquivClassF(GF(25), 3)"
   ]
  },
  {
   "cell_type": "code",
   "execution_count": null,
   "id": "043a5b82",
   "metadata": {
    "vscode": {
     "languageId": "sage"
    }
   },
   "outputs": [],
   "source": []
  },
  {
   "cell_type": "code",
   "execution_count": 56,
   "id": "7c6bc5bd",
   "metadata": {
    "vscode": {
     "languageId": "sage"
    }
   },
   "outputs": [],
   "source": [
    "def weightedComponents(p, f):\n",
    "    \"\"\"\n",
    "    Given a polynomial f in F_{p^r}, returns a list of polynomials, with the ith element of the list\n",
    "    being the homogeneous part of f with weight i. \n",
    "\n",
    "    example: weightedComponents(3, x^9+x^6+2x^5+2x^2+1)\n",
    "    >> [1, x^9, x^6 + 2x^2, 2x^5]\n",
    "    \"\"\"\n",
    "    R = Zp(p,  prec = 10, type = 'fixed-mod', print_mode = 'digits')\n",
    "    j = R(0)\n",
    "    wts = {}\n",
    "    for i in f: \n",
    "        if i != 0: \n",
    "            term = i*x^j\n",
    "            wts[term] = sum([int(digit) for digit in j.str()])           \n",
    "        j += 1\n",
    "    out = [0 for _ in range(max(wts.values())+1)]\n",
    "    for (term, wt) in wts.items(): \n",
    "        out[wt] += term\n",
    "    return out "
   ]
  },
  {
   "cell_type": "code",
   "execution_count": 57,
   "id": "c94a98b5",
   "metadata": {
    "vscode": {
     "languageId": "sage"
    }
   },
   "outputs": [
    {
     "data": {
      "text/plain": [
       "[1, x^9, x^6 + 2*x^2, 2*x^5]"
      ]
     },
     "execution_count": 57,
     "metadata": {},
     "output_type": "execute_result"
    }
   ],
   "source": [
    "weightedComponents(3, x^9+x^6+2*x^5+2*x^2+1)"
   ]
  }
 ],
 "metadata": {
  "kernelspec": {
   "display_name": "SageMath 10.6",
   "language": "sage",
   "name": "sagemath"
  },
  "language_info": {
   "codemirror_mode": {
    "name": "ipython",
    "version": 3
   },
   "file_extension": ".py",
   "mimetype": "text/x-python",
   "name": "python",
   "nbconvert_exporter": "python",
   "pygments_lexer": "ipython3",
   "version": "3.12.10"
  }
 },
 "nbformat": 4,
 "nbformat_minor": 5
}
