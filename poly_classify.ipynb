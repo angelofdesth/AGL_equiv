{
 "cells": [
  {
   "cell_type": "code",
   "execution_count": 1,
   "id": "03ed04cf",
   "metadata": {
    "vscode": {
     "languageId": "sagemath"
    }
   },
   "outputs": [],
   "source": [
    "from poly_classify import *\n",
    "from pprint import pprint, pformat\n",
    "from tqdm import tqdm"
   ]
  },
  {
   "cell_type": "code",
   "execution_count": 2,
   "id": "85efef6c",
   "metadata": {
    "vscode": {
     "languageId": "sagemath"
    }
   },
   "outputs": [
    {
     "name": "stdout",
     "output_type": "stream",
     "text": [
      "x + 2\n"
     ]
    },
    {
     "data": {
      "text/plain": [
       "48"
      ]
     },
     "execution_count": 2,
     "metadata": {},
     "output_type": "execute_result"
    }
   ],
   "source": [
    "F.<a> = GF(3)\n",
    "d = 6\n",
    "print(F.modulus())\n",
    "\n",
    "R.<x> = PolynomialRing(F)\n",
    "p = F.characteristic()\n",
    "r = F.degree()\n",
    "\n",
    "initialize_AGL(R)\n",
    "num_equiv_classes(p, r, d)"
   ]
  },
  {
   "cell_type": "code",
   "execution_count": null,
   "id": "4a7c9595",
   "metadata": {
    "vscode": {
     "languageId": "sagemath"
    }
   },
   "outputs": [
    {
     "name": "stdout",
     "output_type": "stream",
     "text": [
      "number of canonical forms found: 48\n",
      "48\n",
      "{x^6,\n",
      " x^6 + x,\n",
      " x^6 + x^2,\n",
      " x^6 + x^2 + x,\n",
      " x^6 + 2*x^2,\n",
      " x^6 + 2*x^2 + x,\n",
      " x^6 + x^4,\n",
      " x^6 + x^4 + x^2,\n",
      " x^6 + x^4 + x^2 + x,\n",
      " x^6 + x^4 + 2*x^2,\n",
      " x^6 + x^4 + x^3,\n",
      " x^6 + x^4 + x^3 + x^2,\n",
      " x^6 + x^4 + x^3 + x^2 + x,\n",
      " x^6 + x^4 + x^3 + x^2 + 2*x,\n",
      " x^6 + x^4 + x^3 + 2*x^2,\n",
      " x^6 + 2*x^4,\n",
      " x^6 + 2*x^4 + x,\n",
      " x^6 + 2*x^4 + x^2,\n",
      " x^6 + 2*x^4 + x^2 + x,\n",
      " x^6 + 2*x^4 + 2*x^2,\n",
      " x^6 + 2*x^4 + 2*x^2 + x,\n",
      " x^6 + x^5,\n",
      " x^6 + x^5 + x,\n",
      " x^6 + x^5 + 2*x,\n",
      " x^6 + x^5 + x^2,\n",
      " x^6 + x^5 + x^2 + x,\n",
      " x^6 + x^5 + x^2 + 2*x,\n",
      " x^6 + x^5 + 2*x^2,\n",
      " x^6 + x^5 + 2*x^2 + x,\n",
      " x^6 + x^5 + 2*x^2 + 2*x,\n",
      " x^6 + x^5 + x^3,\n",
      " x^6 + x^5 + x^3 + x,\n",
      " x^6 + x^5 + x^3 + 2*x,\n",
      " x^6 + x^5 + x^3 + x^2,\n",
      " x^6 + x^5 + x^3 + x^2 + x,\n",
      " x^6 + x^5 + x^3 + x^2 + 2*x,\n",
      " x^6 + x^5 + x^3 + 2*x^2,\n",
      " x^6 + x^5 + x^3 + 2*x^2 + x,\n",
      " x^6 + x^5 + x^3 + 2*x^2 + 2*x,\n",
      " x^6 + x^5 + 2*x^3,\n",
      " x^6 + x^5 + 2*x^3 + x,\n",
      " x^6 + x^5 + 2*x^3 + 2*x,\n",
      " x^6 + x^5 + 2*x^3 + x^2,\n",
      " x^6 + x^5 + 2*x^3 + x^2 + x,\n",
      " x^6 + x^5 + 2*x^3 + x^2 + 2*x,\n",
      " x^6 + x^5 + 2*x^3 + 2*x^2,\n",
      " x^6 + x^5 + 2*x^3 + 2*x^2 + x,\n",
      " x^6 + x^5 + 2*x^3 + 2*x^2 + 2*x}\n"
     ]
    },
    {
     "name": "stderr",
     "output_type": "stream",
     "text": [
      "100%|██████████| 48/48 [00:00<00:00, 1279.39it/s]\n"
     ]
    }
   ],
   "source": [
    "canonical_forms = enumerate_canonical_forms(d, R, print_progress=True)\n",
    "print(len(canonical_forms))\n",
    "pprint(canonical_forms)\n",
    "\n",
    "with open(f\"data/gf{len(F)}_deg{d}.txt\", \"w\") as file:\n",
    "    file.write(f\"Primitive polynomial: {F.modulus()}\\n\")\n",
    "    file.write(f\"Number of equivalence classes: {len(canonical_forms)}\\n\")\n",
    "    for form in tqdm(canonical_forms):\n",
    "        diff_unif = differential_uniformity(form, upper_bound=4)\n",
    "        if diff_unif <= 4:\n",
    "            file.write(str((diff_unif, form)) + \"\\n\")"
   ]
  },
  {
   "cell_type": "code",
   "execution_count": null,
   "id": "94979ad1",
   "metadata": {
    "vscode": {
     "languageId": "sagemath"
    }
   },
   "outputs": [
    {
     "name": "stdout",
     "output_type": "stream",
     "text": [
      "Generating polynomials: 65536 out of 65536\n",
      "Searching: 65536 out of 65536 done, 276 out of 276 found\n",
      "Computing differential uniformity: 276 out of 276\n"
     ]
    }
   ],
   "source": [
    "total_polys = len(F)^(d - 1)\n",
    "total_equiv_classes = num_equiv_classes(p, r, d)\n",
    "\n",
    "polys = set()\n",
    "for poly in gen_polys(R, d):\n",
    "    polys.add(poly)\n",
    "    print(f\"Generating polynomials: {len(polys)} out of {total_polys}\", end=\"\\r\")\n",
    "\n",
    "print()  # move past carriage return\n",
    "\n",
    "canonical_forms = set()\n",
    "while len(polys) > 0:\n",
    "    poly = polys.pop()\n",
    "    form = canonical_form(poly)\n",
    "    canonical_forms.add(form)\n",
    "\n",
    "    polys -= set(x * R((a^(-d) * poly(a*x + y)).list()[1:]) for a in F if a != 0 for y in F)\n",
    "    print(f\"Searching: {total_polys - len(polys)} out of {total_polys} done, {len(canonical_forms)} out of {total_equiv_classes} found\", end=\"\\r\")\n",
    "\n",
    "print()  # move past carriage return\n",
    "\n",
    "diff_unif = []\n",
    "for form in canonical_forms:\n",
    "    diff_unif.append((differential_uniformity(form), form))\n",
    "    print(f\"Computing differential uniformity: {len(diff_unif)} out of {len(canonical_forms)}\", end=\"\\r\")\n",
    "\n",
    "with open(f\"data/gf{len(F)}_deg{d}.txt\", \"w\") as file:\n",
    "    file.write(f\"Number of equivalence classes: {len(canonical_forms)}\\n\")\n",
    "    file.write(pformat(diff_unif))\n",
    "\n",
    "print()  # move past carriage return"
   ]
  },
  {
   "cell_type": "code",
   "execution_count": 47,
   "id": "2f6c2e8f",
   "metadata": {
    "vscode": {
     "languageId": "sagemath"
    }
   },
   "outputs": [
    {
     "name": "stdout",
     "output_type": "stream",
     "text": [
      "x^54 + 2*x^36 + 2*x^30 + 2*x^27\n",
      "[x, x + 1, x + 2, 2*x, 2*x + 1, 2*x + 2]\n",
      "[2*x]\n",
      "x^54 + 2*x^36 + 2*x^30 + x^27\n",
      "1\n",
      "1\n"
     ]
    }
   ],
   "source": [
    "poly = x^54 + 2*x^36 + 2*x^30 + 2*x^27\n",
    "print(poly)\n",
    "form = canonical_form(poly)\n",
    "print(form)\n",
    "print(differential_uniformity(poly))\n",
    "print(differential_uniformity(form))"
   ]
  },
  {
   "cell_type": "code",
   "execution_count": 48,
   "id": "e7972f1c",
   "metadata": {
    "vscode": {
     "languageId": "sagemath"
    }
   },
   "outputs": [
    {
     "name": "stdout",
     "output_type": "stream",
     "text": [
      "x^6 + x^4 + x^3 + x^2 + x\n",
      "[x, x + 1, x + 2, 2*x, 2*x + 1, 2*x + 2]\n",
      "[x, x + 1, x + 2]\n",
      "x^6 + x^4 + x^3 + x^2 + x\n"
     ]
    }
   ],
   "source": [
    "poly = x^(2*p) + x^(p + 1) + x^2 + x^p + x^1\n",
    "print(poly)\n",
    "print(canonical_form(poly))"
   ]
  },
  {
   "cell_type": "code",
   "execution_count": 5,
   "id": "6c593f69",
   "metadata": {
    "vscode": {
     "languageId": "sagemath"
    }
   },
   "outputs": [
    {
     "name": "stdout",
     "output_type": "stream",
     "text": [
      "x^6 + x^4 + x^2 + 2*x\n",
      "[x, x + 1, x + 2, 2*x, 2*x + 1, 2*x + 2]\n",
      "[2*x, 2*x + 1, 2*x + 2]\n",
      "x^6 + x^4 + x^2 + x\n"
     ]
    }
   ],
   "source": [
    "poly = x^6 + x^4 + x^2 + 2*x\n",
    "print(poly)\n",
    "print(canonical_form(poly))"
   ]
  },
  {
   "cell_type": "code",
   "execution_count": 36,
   "id": "4fab2753",
   "metadata": {
    "vscode": {
     "languageId": "sagemath"
    }
   },
   "outputs": [
    {
     "name": "stderr",
     "output_type": "stream",
     "text": [
      "512 out of 512 done, 18 out of 18 found : : 512it [00:08, 62.68it/s]"
     ]
    },
    {
     "name": "stdout",
     "output_type": "stream",
     "text": [
      "Number of equivalence classes: 18\n",
      "{x^4,\n",
      " x^4 + x,\n",
      " x^4 + x^2,\n",
      " x^4 + x^2 + x,\n",
      " x^4 + x^2 + a*x,\n",
      " x^4 + x^2 + (a + 1)*x,\n",
      " x^4 + x^2 + a^2*x,\n",
      " x^4 + x^2 + (a^2 + 1)*x,\n",
      " x^4 + x^2 + (a^2 + a)*x,\n",
      " x^4 + x^2 + (a^2 + a + 1)*x,\n",
      " x^4 + x^3,\n",
      " x^4 + x^3 + x,\n",
      " x^4 + x^3 + a*x,\n",
      " x^4 + x^3 + (a + 1)*x,\n",
      " x^4 + x^3 + a^2*x,\n",
      " x^4 + x^3 + (a^2 + 1)*x,\n",
      " x^4 + x^3 + (a^2 + a)*x,\n",
      " x^4 + x^3 + (a^2 + a + 1)*x}\n"
     ]
    },
    {
     "name": "stderr",
     "output_type": "stream",
     "text": [
      "\n"
     ]
    }
   ],
   "source": [
    "total_polys = len(F)^(d - 1)\n",
    "total_equiv_classes = num_equiv_classes(p, r, d)\n",
    "polys_done = 0\n",
    "\n",
    "canonical_forms = set()\n",
    "pbar = tqdm(gen_polys(R, d))\n",
    "for poly in pbar:\n",
    "    canonical_forms.add(canonical_form(poly))\n",
    "\n",
    "    polys_done += 1\n",
    "    pbar.set_description(f\"{polys_done} out of {total_polys} done, {len(canonical_forms)} out of {total_equiv_classes} found \")\n",
    "\n",
    "    # if len(canonical_forms) == total_equiv_classes:\n",
    "    #     break\n",
    "\n",
    "print(\"Number of equivalence classes:\", len(canonical_forms))\n",
    "pprint(canonical_forms)"
   ]
  }
 ],
 "metadata": {
  "kernelspec": {
   "display_name": "SageMath 10.6",
   "language": "sage",
   "name": "sagemath"
  },
  "language_info": {
   "codemirror_mode": {
    "name": "ipython",
    "version": 3
   },
   "file_extension": ".py",
   "mimetype": "text/x-python",
   "name": "sage",
   "nbconvert_exporter": "python",
   "pygments_lexer": "ipython3",
   "version": "3.12.10"
  }
 },
 "nbformat": 4,
 "nbformat_minor": 5
}
