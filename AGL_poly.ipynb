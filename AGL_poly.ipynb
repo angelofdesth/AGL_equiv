{
 "cells": [
  {
   "cell_type": "code",
   "execution_count": null,
   "id": "288c4bbb",
   "metadata": {
    "vscode": {
     "languageId": "sage"
    }
   },
   "outputs": [],
   "source": [
    "def numEquivClass(p, r, n): \n",
    "    \"\"\"\n",
    "    Given (p, r, n) as input, returns the number of AGL-equivalence classes of \n",
    "    polynomials with degree n in F_q where q = p^r. \n",
    "\n",
    "    Assumes that p is prime. \n",
    "    \"\"\"\n",
    "    if p % n == 0: \n",
    "        c = 1 - q^(n-2) + q^(n/p - 1) \n",
    "    elif n == 1: \n",
    "        c = 1 \n",
    "    else: \n",
    "        c = 1 - q^(n-2)\n",
    "    \n",
    "    return 1/(q-1) * sum([euler_phi(d)*(q^(ceil(n/d) -1)-1) for d in divisor(q-1) if d < n])"
   ]
  }
 ],
 "metadata": {
  "language_info": {
   "name": "python"
  }
 },
 "nbformat": 4,
 "nbformat_minor": 5
}
