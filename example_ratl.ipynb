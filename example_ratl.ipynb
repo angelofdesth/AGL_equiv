{
 "cells": [
  {
   "cell_type": "code",
   "execution_count": 2,
   "id": "66f28208",
   "metadata": {
    "vscode": {
     "languageId": "sagemath"
    }
   },
   "outputs": [],
   "source": [
    "from ratl_classify import *\n",
    "from collections import defaultdict, Counter\n",
    "from pprint import pprint\n",
    "from tqdm import tqdm"
   ]
  },
  {
   "cell_type": "code",
   "execution_count": 3,
   "id": "d30d02bc",
   "metadata": {
    "vscode": {
     "languageId": "sagemath"
    }
   },
   "outputs": [
    {
     "name": "stdout",
     "output_type": "stream",
     "text": [
      "Primitive polynomial: x + 28\n",
      "Number of equivalence classes: 58\n"
     ]
    }
   ],
   "source": [
    "F.<a> = GF(29)\n",
    "d = 3\n",
    "print(f\"Primitive polynomial: {F.modulus()}\")\n",
    "\n",
    "R.<x> = PolynomialRing(F)\n",
    "p = F.characteristic()\n",
    "q = len(F)\n",
    "\n",
    "# initialize_PGL(R)\n",
    "initialize_deg3ratls(R, deg3only=True)\n",
    "print(f\"Number of equivalence classes: {num_ratl_equiv_classes(p, q, 3)}\")"
   ]
  },
  {
   "cell_type": "code",
   "execution_count": 4,
   "id": "c9cd7ce3",
   "metadata": {
    "vscode": {
     "languageId": "sagemath"
    }
   },
   "outputs": [
    {
     "name": "stdout",
     "output_type": "stream",
     "text": [
      "316 out of 316 done\n",
      "28\n",
      "Counter({1: 13, 3: 4, 2: 1})\n",
      "1 {5} {12}\n",
      "1 {5} {12}\n",
      "1 {5} {15}\n",
      "1 {5} {15}\n",
      "1 {5} {15}\n",
      "1 {5} {18}\n",
      "1 {5} {12}\n",
      "1 {5} {18}\n",
      "1 {5} {15}\n",
      "1 {5} {18}\n",
      "1 {5} {12}\n",
      "1 {5} {15}\n",
      "1 {5} {18}\n",
      "2 {0} {1, 15}\n",
      "3 {4} {9}\n",
      "3 {4} {9}\n",
      "3 {4} {6}\n",
      "3 {4} {6}\n"
     ]
    }
   ],
   "source": [
    "classes = ratl_equiv_classes_case3(R, print_progress=True)\n",
    "print(len(classes))\n",
    "# pprint(classes)\n",
    "\n",
    "def invariant(f):\n",
    "    s = f.numerator()[1]\n",
    "    t = f.numerator()[0]\n",
    "    return t*(1 + s + t)/(s^3)\n",
    "\n",
    "vals = defaultdict(set)\n",
    "for rep in classes:\n",
    "    if rep.numerator()[1] != 0:\n",
    "        val = set(invariant(f) for f in classes[rep])\n",
    "        assert(len(val) == 1)\n",
    "        vals[val.pop()].add(rep)\n",
    "pprint(Counter(sorted(len(s) for s in vals.values())))\n",
    "\n",
    "for repset in sorted(vals.values(), key=len):\n",
    "    print(len(repset), set(ram_case(rep) for rep in repset), set(len(get_orbit_case3(rep)) for rep in repset))"
   ]
  }
 ],
 "metadata": {
  "kernelspec": {
   "display_name": "SageMath 10.6",
   "language": "sage",
   "name": "sagemath"
  },
  "language_info": {
   "codemirror_mode": {
    "name": "ipython",
    "version": 3
   },
   "file_extension": ".py",
   "mimetype": "text/x-python",
   "name": "python",
   "nbconvert_exporter": "python",
   "pygments_lexer": "ipython3",
   "version": "3.12.10"
  }
 },
 "nbformat": 4,
 "nbformat_minor": 5
}
