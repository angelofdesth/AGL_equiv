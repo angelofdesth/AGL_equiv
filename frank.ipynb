{
 "cells": [
  {
   "cell_type": "code",
   "execution_count": null,
   "id": "10ae6e75",
   "metadata": {
    "vscode": {
     "languageId": "sagemath"
    }
   },
   "outputs": [],
   "source": [
    "from pprint import pprint\n",
    "from collections import defaultdict\n",
    "from timeit import timeit"
   ]
  },
  {
   "cell_type": "code",
   "execution_count": 272,
   "id": "f79e37bb",
   "metadata": {
    "vscode": {
     "languageId": "sagemath"
    }
   },
   "outputs": [],
   "source": [
    "F.<a> = GF(5^3)\n",
    "R.<x> = PolynomialRing(F)\n",
    "p = F.characteristic()"
   ]
  },
  {
   "cell_type": "code",
   "execution_count": 273,
   "id": "e6771b93",
   "metadata": {
    "vscode": {
     "languageId": "sagemath"
    }
   },
   "outputs": [],
   "source": [
    "def numEquivClass(p, r, n): \n",
    "    \"\"\"\n",
    "    Given (p, r, n) as input, returns the number of AGL-equivalence classes of \n",
    "    polynomials with degree n in F_q where q = p^r. \n",
    "\n",
    "    Assumes that p is prime. \n",
    "    \"\"\"\n",
    "    q = p^r\n",
    "\n",
    "    if p % n == 0:\n",
    "        c = 1 - q^(n-2) + q^(n/p - 1)\n",
    "    elif n == 1:\n",
    "        c = 1\n",
    "    else:\n",
    "        c = 1 - q^(n-2)\n",
    "    \n",
    "    return 1/(q-1) * sum([euler_phi(d)*(q^(ceil(n/d)-1)-1) for d in divisors(q-1) if d < n]) + c\n",
    "\n",
    "def numEquivClassF(F, deg): \n",
    "    \"\"\"\n",
    "    Given (F_q, deg) as input, returns the number of AGL-equivalence classes of \n",
    "    polynomials with degree deg in F_q. \n",
    "    \"\"\"\n",
    "    return numEquivClass(F.characteristic(), F.degree(), deg)"
   ]
  },
  {
   "cell_type": "code",
   "execution_count": 274,
   "id": "66c299cd",
   "metadata": {
    "vscode": {
     "languageId": "sagemath"
    }
   },
   "outputs": [
    {
     "data": {
      "text/plain": [
       "15500"
      ]
     },
     "execution_count": 274,
     "metadata": {},
     "output_type": "execute_result"
    }
   ],
   "source": [
    "AGL = [ a * x + b for a in F if a != 0 for b in F ]\n",
    "len(AGL)"
   ]
  },
  {
   "cell_type": "code",
   "execution_count": 268,
   "id": "26a0637e",
   "metadata": {
    "vscode": {
     "languageId": "sagemath"
    }
   },
   "outputs": [],
   "source": [
    "def equivalent(p, q):\n",
    "    for alpha in AGL:\n",
    "        for beta in AGL:\n",
    "            if q == alpha(p(beta)):\n",
    "                return True\n",
    "    return \n",
    "\n",
    "def normalize(p):\n",
    "    lead = p.list()[-1]\n",
    "    last = p.list()[0]\n",
    "    return (p - last) / lead\n",
    "\n",
    "def candidate_equivalent(p, q):\n",
    "    for beta in AGL:\n",
    "        if q == normalize(p(beta)):\n",
    "            return True\n",
    "    return False"
   ]
  },
  {
   "cell_type": "code",
   "execution_count": 269,
   "id": "7ba630df",
   "metadata": {
    "vscode": {
     "languageId": "sagemath"
    }
   },
   "outputs": [],
   "source": [
    "def polys(deg, coeffs=()):\n",
    "    if deg == 0:\n",
    "        yield sum([ci * x^i for i, ci in enumerate(coeffs + (1,))])\n",
    "        return\n",
    "    for c in F:\n",
    "        yield from polys(deg - 1, coeffs + (c,))\n",
    "\n",
    "def candidates(deg, coeffs=()):\n",
    "    if deg == 1:\n",
    "        yield sum([ci * x^i for i, ci in enumerate((0,) + coeffs + (1,))])\n",
    "        return\n",
    "    for c in F:\n",
    "        yield from candidates(deg - 1, coeffs + (c,))"
   ]
  },
  {
   "cell_type": "code",
   "execution_count": 142,
   "id": "406f01ab",
   "metadata": {
    "vscode": {
     "languageId": "sagemath"
    }
   },
   "outputs": [
    {
     "name": "stdout",
     "output_type": "stream",
     "text": [
      "18\n"
     ]
    }
   ],
   "source": [
    "reps = set()\n",
    "for p in candidates(5):\n",
    "    if not any(candidate_equivalent(p, rep) for rep in reps):\n",
    "        reps.add(p)\n",
    "# pprint(reps)\n",
    "print(len(reps))"
   ]
  },
  {
   "cell_type": "code",
   "execution_count": 144,
   "id": "eb900bdb",
   "metadata": {
    "vscode": {
     "languageId": "sagemath"
    }
   },
   "outputs": [
    {
     "data": {
      "text/plain": [
       "18"
      ]
     },
     "execution_count": 144,
     "metadata": {},
     "output_type": "execute_result"
    }
   ],
   "source": [
    "numEquivClassF(GF(3), 5)"
   ]
  },
  {
   "cell_type": "code",
   "execution_count": null,
   "id": "793297bd",
   "metadata": {
    "vscode": {
     "languageId": "sagemath"
    }
   },
   "outputs": [],
   "source": [
    "def homogeneous(F, pdeg, max_deg):\n",
    "    p = F.characteristic()\n",
    "    pdeg_monomials = []\n",
    "    max_pow = floor(log(max_deg, p))\n",
    "    for partition in Partitions(pdeg, max_part=p-1, max_length=max_pow):\n",
    "        for subset in Subsets(range(1, max_pow+1), len(partition)):\n",
    "            exponent = sum(partition[i] * p^power for i, power in enumerate(subset))\n",
    "            pdeg_monomials.append(x^exponent)\n",
    "    return list(map(sum, cartesian_product([[a * monomial for a in F] for monomial in pdeg_monomials])))"
   ]
  },
  {
   "cell_type": "code",
   "execution_count": 183,
   "id": "12cf8d15",
   "metadata": {
    "vscode": {
     "languageId": "sagemath"
    }
   },
   "outputs": [
    {
     "data": {
      "text/plain": [
       "[0, x^9, 2*x^9, x^3, x^9 + x^3, 2*x^9 + x^3, 2*x^3, x^9 + 2*x^3, 2*x^9 + 2*x^3]"
      ]
     },
     "execution_count": 183,
     "metadata": {},
     "output_type": "execute_result"
    }
   ],
   "source": [
    "list(homogeneous(F, pdeg=1, max_deg=9))"
   ]
  },
  {
   "cell_type": "code",
   "execution_count": 333,
   "id": "0253ec4f",
   "metadata": {
    "vscode": {
     "languageId": "sagemath"
    }
   },
   "outputs": [],
   "source": [
    "def weight(n, p):\n",
    "    w = 0\n",
    "    while n > 0:\n",
    "        w += n % p\n",
    "        n //= p\n",
    "    return w\n",
    "\n",
    "def part(f, w, p):\n",
    "    return sum(c * x^i for i, c in enumerate(f) if weight(i, p) == w)\n",
    "\n",
    "def part_ge(f, w, p):\n",
    "    return sum(c * x^i for i, c in enumerate(f) if weight(i, p) >= w)\n",
    "\n",
    "def pdeg(f, p):\n",
    "    return max([i for (i, c) in enumerate(f) if c != 0], key=lambda x: (weight(x, p), x))"
   ]
  },
  {
   "cell_type": "code",
   "execution_count": 327,
   "id": "26eea825",
   "metadata": {
    "vscode": {
     "languageId": "sagemath"
    }
   },
   "outputs": [
    {
     "name": "stdout",
     "output_type": "stream",
     "text": [
      "2*x^5\n",
      "9\n",
      "[0, 2, 1, 2, 5]\n"
     ]
    }
   ],
   "source": [
    "f = x^9 + x^6 + 2*x^5 + 2*x^2 + 1\n",
    "print(part(f, 1, p))\n",
    "print(pdeg(f, p))\n",
    "print(list(map(lambda x: weight(x, p), f.exponents())))"
   ]
  },
  {
   "cell_type": "code",
   "execution_count": null,
   "id": "047172cf",
   "metadata": {
    "vscode": {
     "languageId": "sagemath"
    }
   },
   "outputs": [
    {
     "name": "stdout",
     "output_type": "stream",
     "text": [
      "x^28 + 3*x^27 + 4*x^26 + 2*x^25 + 3*x^18 + 4*x^17 + x^16 + x^14 + x^13 + 4*x^12 + 3*x^11 + 2*x^10 + x^9 + 3*x^8 + 3*x^7 + 4*x^6 + 2*x^5 + x^4 + 2*x^3 + x^2 + 2*x\n",
      "[3, 4, 4, 3, 5, 3, 3]\n",
      "[1, 2, 1, 2, 3, 2, 3, 4, 1, 2, 3, 2, 3, 4, 4, 5, 2, 5, 6, 1, 2]\n"
     ]
    }
   ],
   "source": [
    "g = 2*x^29 + x^19 + x^17 + x^15 + x^14 + 2*x^8 + x^5\n",
    "print(g(x + 2) - g)\n",
    "print(list(map(lambda x: weight(x, p), g.exponents())))\n",
    "print(list(map(lambda x: weight(x, p), (g(x + 2) - g).exponents())))"
   ]
  },
  {
   "cell_type": "code",
   "execution_count": 363,
   "id": "fe7bf7e3",
   "metadata": {
    "vscode": {
     "languageId": "sagemath"
    }
   },
   "outputs": [],
   "source": [
    "def canonical_form(f, p):\n",
    "    d = pdeg(f, p)\n",
    "    f /= f[d]\n",
    "    f -= f[0]\n",
    "    K = weight(d, p)\n",
    "\n",
    "    form = 0\n",
    "    f_partial = 0\n",
    "    f_parts = [part(f, i, p) for i in range(K + 1)]\n",
    "\n",
    "    candidates = AGL\n",
    "    # print(len(candidates))\n",
    "    for k in range(K, 0, -1):\n",
    "        f_partial += f_parts[k]\n",
    "        g_options = defaultdict(list)\n",
    "        for poly in candidates:\n",
    "            g_options[part(poly[1]^(-d) * f_partial(poly), k, p)].append(poly)\n",
    "        maximal = min(g_options)\n",
    "        form += maximal\n",
    "        candidates = g_options[maximal]\n",
    "        # print(form)\n",
    "        # print(len(candidates))\n",
    "    return form\n",
    "\n",
    "def canonical_form_hyp(f, p):\n",
    "    d = pdeg(f, p)\n",
    "    f /= f[d]\n",
    "    f -= f[0]\n",
    "    K = weight(d, p)\n",
    "\n",
    "    g = part(f, K, p)\n",
    "    a = min([a for a in F if a != 0], key=lambda a: a^(-d) * g(a * x))\n",
    "    form = a^(-d) * g(a * x)\n",
    "    poly = a * x\n",
    "    for k in range(K - 1, 0, -1):\n",
    "        # print(\"form:\", form)\n",
    "        # print(\"   f:\", part_ge(poly[1]^(-d) * f(poly), k + 1, p))\n",
    "        g = part(poly[1]^(-d) * f(poly), k, p)\n",
    "        alphas = [a for a in F if a != 0 and form == a^(-d) * form(a * x)]\n",
    "        ys = [y for y in F if part_ge(form(x + y) - form, k + 1, p) == 0]\n",
    "        pairs = [(a, y) for a in alphas for y in ys]\n",
    "        a, y = min(pairs, key=lambda pr: part(form(x + pr[1]) - form, k, p) + pr[0]^(-d) * g(pr[0] * x))\n",
    "        form += part(form(x + y) - form, k, p) + a^(-d) * g(a * x)\n",
    "        poly = poly(a * x + y * a)\n",
    "    return form"
   ]
  },
  {
   "cell_type": "code",
   "execution_count": 352,
   "id": "b56c9446",
   "metadata": {
    "vscode": {
     "languageId": "sagemath"
    }
   },
   "outputs": [
    {
     "name": "stdout",
     "output_type": "stream",
     "text": [
      "x^9 + x^6 + 2*x^5 + 2*x^2\n",
      "x^9 + x^6 + 2*x^5 + 2*x^2\n",
      "x^9 + x^6 + 2*x^5 + 2*x^2\n",
      "x^9 + x^6 + 2*x^5 + 2*x^2\n"
     ]
    }
   ],
   "source": [
    "print(canonical_form(f, p))\n",
    "print(canonical_form(f(x + 1), p))\n",
    "print(canonical_form(f(x + (a^2 + 1)), p))\n",
    "print(canonical_form((a + 3) * f(x + (a^2 + 1)) - 4, p))"
   ]
  },
  {
   "cell_type": "code",
   "execution_count": 364,
   "id": "0279c636",
   "metadata": {
    "vscode": {
     "languageId": "sagemath"
    }
   },
   "outputs": [
    {
     "name": "stdout",
     "output_type": "stream",
     "text": [
      "x^9 + x^6 + 2*x^5 + 2*x^2\n",
      "x^9 + x^6 + 2*x^5 + 2*x^2\n",
      "x^9 + x^6 + 2*x^5 + 2*x^2\n",
      "x^9 + x^6 + 2*x^5 + 2*x^2\n"
     ]
    }
   ],
   "source": [
    "print(canonical_form_hyp(f, p))\n",
    "print(canonical_form_hyp(f(x + 1), p))\n",
    "print(canonical_form_hyp(f(x + (a^2 + 1)), p))\n",
    "print(canonical_form_hyp((a + 3) * f(x + (a^2 + 1)) - 4, p))"
   ]
  },
  {
   "cell_type": "code",
   "execution_count": 369,
   "id": "ed20441d",
   "metadata": {
    "vscode": {
     "languageId": "sagemath"
    }
   },
   "outputs": [],
   "source": [
    "def random_polynomial(max_deg, F):\n",
    "    return sum(F.random_element() * x^i for i in range(randint(2, max_deg)))"
   ]
  },
  {
   "cell_type": "code",
   "execution_count": 371,
   "id": "98a4ba85",
   "metadata": {
    "vscode": {
     "languageId": "sagemath"
    }
   },
   "outputs": [
    {
     "name": "stdout",
     "output_type": "stream",
     "text": [
      "  f: (2*a^2 + 4*a + 2)*x^24 + (a^2 + 1)*x^23 + (3*a^2 + 2*a + 1)*x^22 + (2*a^2 + 2*a)*x^21 + (4*a^2 + 3*a + 4)*x^20 + a*x^19 + (3*a^2 + 3*a + 3)*x^18 + (a^2 + 3)*x^17 + (4*a^2 + a + 1)*x^16 + (3*a^2 + 4)*x^15 + 2*a*x^14 + 4*a^2*x^13 + (2*a^2 + 3*a + 2)*x^12 + (a^2 + 4*a + 3)*x^11 + 4*x^10 + (3*a^2 + 4*a)*x^9 + (3*a^2 + 4*a + 1)*x^8 + (3*a^2 + 4*a + 2)*x^7 + (2*a^2 + 2)*x^6 + (2*a^2 + 4*a + 1)*x^5 + (3*a^2 + 3*a + 4)*x^4 + (3*a^2 + 2*a + 2)*x^3 + (4*a^2 + 3*a)*x^2 + (a^2 + 3*a)*x + 2*a + 2\n",
      "  1: x^24 + (3*a^2 + 2*a + 4)*x^22 + (a^2 + 4*a + 4)*x^21 + a*x^20 + x^19 + 3*a*x^18 + (4*a + 4)*x^17 + (4*a^2 + 4*a)*x^16 + (3*a + 1)*x^15 + (2*a^2 + a + 1)*x^14 + 2*a^2*x^13 + a*x^12 + (3*a^2 + 4*a + 1)*x^11 + (3*a^2 + a)*x^10 + (3*a^2 + 4*a + 4)*x^9 + (2*a^2 + 2*a)*x^8 + (a^2 + a + 1)*x^7 + (3*a^2 + 3*a + 2)*x^6 + (3*a^2 + 3)*x^5 + (4*a + 4)*x^4 + (4*a + 4)*x^3 + 3*a^2*x^2 + (4*a + 2)*x\n",
      "  2: x^24 + (3*a^2 + 2*a + 4)*x^22 + (a^2 + 4*a + 4)*x^21 + a*x^20 + x^19 + 3*a*x^18 + (4*a + 4)*x^17 + (4*a^2 + 4*a)*x^16 + (3*a + 1)*x^15 + (2*a^2 + a + 1)*x^14 + 2*a^2*x^13 + a*x^12 + (3*a^2 + 4*a + 1)*x^11 + (3*a^2 + a)*x^10 + (3*a^2 + 4*a + 4)*x^9 + (2*a^2 + 2*a)*x^8 + (a^2 + a + 1)*x^7 + (3*a^2 + 3*a + 2)*x^6 + (3*a^2 + 3)*x^5 + (4*a + 4)*x^4 + (4*a + 4)*x^3 + 3*a^2*x^2 + (4*a + 2)*x\n",
      "---: True\n",
      "  f: (a^2 + 2*a + 4)*x^18 + (2*a^2 + 4*a + 2)*x^17 + 3*a^2*x^16 + (3*a + 1)*x^15 + (2*a^2 + a + 2)*x^14 + (2*a^2 + 4*a + 3)*x^13 + (3*a^2 + 3*a + 1)*x^12 + (2*a^2 + 3*a + 2)*x^11 + (2*a^2 + 4*a + 4)*x^10 + (4*a^2 + 2*a + 4)*x^9 + (a^2 + a + 4)*x^8 + (a^2 + a + 4)*x^7 + (2*a^2 + 3*a + 2)*x^6 + (4*a^2 + 4*a + 2)*x^5 + (2*a^2 + 4*a)*x^4 + (a^2 + 3*a)*x^3 + (a^2 + a + 1)*x^2 + (3*a^2 + 4*a + 4)*x + 4*a^2 + 2*a + 3\n",
      "  1: x^18 + (4*a^2 + 3*a + 1)*x^16 + (2*a^2 + 2*a + 2)*x^15 + 3*x^14 + (a^2 + 2*a + 2)*x^13 + (3*a^2 + a + 4)*x^12 + (3*a^2 + 3*a + 2)*x^11 + (a^2 + 4*a + 2)*x^10 + a^2*x^9 + (2*a^2 + 2*a + 1)*x^8 + (3*a^2 + 3*a)*x^7 + (2*a + 4)*x^6 + (4*a^2 + 4*a + 4)*x^5 + 4*a^2*x^4 + (4*a^2 + 4*a + 4)*x^3 + (4*a^2 + 2*a + 2)*x^2 + a^2*x\n",
      "  2: x^18 + (4*a^2 + 3*a + 1)*x^16 + (2*a^2 + 2*a + 2)*x^15 + 3*x^14 + (a^2 + 2*a + 2)*x^13 + (3*a^2 + a + 4)*x^12 + (3*a^2 + 3*a + 2)*x^11 + (a^2 + 4*a + 2)*x^10 + a^2*x^9 + (2*a^2 + 2*a + 1)*x^8 + (3*a^2 + 3*a)*x^7 + (2*a + 4)*x^6 + (4*a^2 + 4*a + 4)*x^5 + 4*a^2*x^4 + (4*a^2 + 4*a + 4)*x^3 + (4*a^2 + 2*a + 2)*x^2 + a^2*x\n",
      "---: True\n",
      "  f: (2*a^2 + 3*a)*x^28 + (2*a + 4)*x^27 + (2*a^2 + 3*a + 4)*x^26 + (a^2 + 3*a + 4)*x^25 + (4*a^2 + 4*a + 1)*x^24 + (a^2 + 4*a + 4)*x^23 + (2*a^2 + a + 4)*x^22 + (3*a^2 + 3*a + 2)*x^21 + (a^2 + 4*a)*x^20 + (3*a^2 + 2*a)*x^19 + (2*a^2 + a)*x^18 + (3*a + 4)*x^17 + (3*a^2 + 3)*x^16 + (4*a + 2)*x^15 + (a^2 + 2*a + 3)*x^14 + (a^2 + a + 3)*x^13 + (2*a^2 + 3*a + 4)*x^12 + (a^2 + 4*a + 3)*x^11 + (3*a + 2)*x^10 + (a + 3)*x^9 + (4*a^2 + 3*a + 2)*x^8 + (a^2 + 3*a)*x^7 + (2*a^2 + 3*a + 1)*x^6 + (4*a^2 + a)*x^5 + (2*a^2 + 4*a + 4)*x^4 + (3*a^2 + 2*a + 2)*x^3 + (4*a^2 + 4*a + 2)*x^2 + (a^2 + 2*a + 4)*x + 4*a^2 + a + 1\n",
      "  1: (3*a^2 + 3*a + 2)*x^28 + (4*a^2 + 4)*x^27 + (3*a + 1)*x^26 + (a^2 + 2*a + 4)*x^25 + x^24 + (3*a^2 + 2)*x^22 + (4*a^2 + a + 4)*x^21 + (4*a^2 + 1)*x^20 + x^19 + (a^2 + 3*a)*x^18 + (2*a^2 + a + 1)*x^17 + (a^2 + 2*a + 1)*x^16 + x^15 + (a^2 + 2*a + 4)*x^14 + (a^2 + a + 4)*x^13 + 4*a^2*x^12 + (4*a^2 + 3)*x^11 + 3*a^2*x^10 + (4*a + 2)*x^9 + (3*a^2 + 4*a + 2)*x^8 + (2*a^2 + 4*a + 3)*x^7 + (a^2 + 2*a + 3)*x^6 + (4*a + 3)*x^5 + (2*a^2 + 4*a + 1)*x^4 + (2*a^2 + 3*a + 1)*x^3 + (a^2 + 2*a)*x^2 + (2*a^2 + a + 3)*x\n",
      "  2: (3*a^2 + 3*a + 2)*x^28 + (4*a^2 + 4)*x^27 + (3*a + 1)*x^26 + (a^2 + 2*a + 4)*x^25 + x^24 + (3*a^2 + 2)*x^22 + (4*a^2 + a + 4)*x^21 + (4*a^2 + 1)*x^20 + x^19 + (a^2 + 3*a)*x^18 + (2*a^2 + a + 1)*x^17 + (a^2 + 2*a + 1)*x^16 + x^15 + (a^2 + 2*a + 4)*x^14 + (a^2 + a + 4)*x^13 + 4*a^2*x^12 + (4*a^2 + 3)*x^11 + 3*a^2*x^10 + (4*a + 2)*x^9 + (3*a^2 + 4*a + 2)*x^8 + (2*a^2 + 4*a + 3)*x^7 + (a^2 + 2*a + 3)*x^6 + (4*a + 3)*x^5 + (2*a^2 + 4*a + 1)*x^4 + (2*a^2 + 3*a + 1)*x^3 + (a^2 + 2*a)*x^2 + (2*a^2 + a + 3)*x\n",
      "---: True\n",
      "  f: (a^2 + 2*a)*x^17 + (2*a^2 + 4*a + 3)*x^16 + (a^2 + a + 4)*x^15 + 2*a^2*x^14 + (3*a^2 + a)*x^13 + (a^2 + a + 4)*x^12 + x^11 + (2*a^2 + 4*a + 3)*x^10 + (4*a + 1)*x^9 + (2*a^2 + 2*a + 3)*x^8 + (3*a^2 + 4*a + 4)*x^7 + 2*a^2*x^6 + (2*a^2 + a + 4)*x^5 + (4*a^2 + a)*x^4 + (2*a^2 + 4*a + 1)*x^3 + (a^2 + 3*a + 2)*x^2 + (2*a^2 + a + 2)*x + a^2 + 4*a + 4\n",
      "  1: x^17 + (a^2 + 4*a)*x^16 + a^2*x^15 + x^14 + (2*a + 4)*x^12 + (a^2 + 3*a)*x^11 + (4*a^2 + 3*a + 1)*x^10 + (2*a + 3)*x^9 + (a^2 + 2*a + 3)*x^8 + (a^2 + 2)*x^7 + (4*a^2 + 4*a + 1)*x^6 + (4*a^2 + a)*x^5 + 3*a*x^4 + (a^2 + 4*a)*x^3 + (a + 1)*x^2 + (4*a^2 + 3*a)*x\n",
      "  2: x^17 + (a^2 + 4*a)*x^16 + a^2*x^15 + x^14 + (2*a + 4)*x^12 + (a^2 + 3*a)*x^11 + (4*a^2 + 3*a + 1)*x^10 + (2*a + 3)*x^9 + (a^2 + 2*a + 3)*x^8 + (a^2 + 2)*x^7 + (4*a^2 + 4*a + 1)*x^6 + (4*a^2 + a)*x^5 + 3*a*x^4 + (a^2 + 4*a)*x^3 + (a + 1)*x^2 + (4*a^2 + 3*a)*x\n",
      "---: True\n",
      "  f: (4*a^2 + 4*a + 2)*x^9 + (3*a^2 + 3*a + 2)*x^8 + (a + 3)*x^7 + 3*a^2*x^6 + (3*a^2 + 4*a + 3)*x^5 + (3*a^2 + 2*a + 3)*x^4 + (3*a^2 + 3*a + 4)*x^3 + (4*a^2 + 2*a + 3)*x + a^2 + 3*a + 1\n",
      "  1: x^9 + (2*a + 4)*x^7 + (a^2 + 2*a + 1)*x^6 + (a + 4)*x^5 + x^4 + (a^2 + 1)*x^3 + (a^2 + 1)*x^2 + (2*a + 2)*x\n",
      "  2: x^9 + (2*a + 4)*x^7 + (a^2 + 2*a + 1)*x^6 + (a + 4)*x^5 + x^4 + (a^2 + 1)*x^3 + (a^2 + 1)*x^2 + (2*a + 2)*x\n",
      "---: True\n",
      "  f: (3*a^2 + 2*a)*x^17 + (a^2 + 3*a + 4)*x^16 + (4*a^2 + 2)*x^15 + (a^2 + 2*a + 1)*x^14 + 4*a^2*x^13 + (3*a^2 + a + 3)*x^12 + (4*a^2 + a + 2)*x^11 + (2*a^2 + 3)*x^10 + (4*a^2 + 3*a + 3)*x^9 + (3*a^2 + 4*a + 2)*x^8 + (a^2 + a + 2)*x^7 + (4*a^2 + a + 3)*x^6 + (2*a^2 + 3*a + 4)*x^5 + (a^2 + a + 4)*x^4 + (a^2 + 2)*x^3 + (2*a^2 + 4*a + 4)*x^2 + (3*a + 3)*x + 4*a + 1\n",
      "  1: x^17 + (2*a^2 + 4*a)*x^16 + (4*a^2 + 3*a + 4)*x^15 + x^14 + (2*a^2 + 4*a + 4)*x^12 + (3*a + 4)*x^11 + (a^2 + a + 4)*x^10 + (4*a^2 + 3*a)*x^9 + 4*a*x^8 + (4*a^2 + 2*a)*x^7 + (a^2 + 2*a + 1)*x^6 + 3*x^5 + (4*a^2 + 4*a)*x^4 + (a^2 + 2*a)*x^3 + (a^2 + 4*a + 2)*x^2 + (2*a^2 + a)*x\n",
      "  2: x^17 + (2*a^2 + 4*a)*x^16 + (4*a^2 + 3*a + 4)*x^15 + x^14 + (2*a^2 + 4*a + 4)*x^12 + (3*a + 4)*x^11 + (a^2 + a + 4)*x^10 + (4*a^2 + 3*a)*x^9 + 4*a*x^8 + (4*a^2 + 2*a)*x^7 + (a^2 + 2*a + 1)*x^6 + 3*x^5 + (4*a^2 + 4*a)*x^4 + (a^2 + 2*a)*x^3 + (a^2 + 4*a + 2)*x^2 + (2*a^2 + a)*x\n",
      "---: True\n",
      "  f: (2*a^2 + 2)*x^12 + (4*a^2 + 3*a)*x^11 + (4*a^2 + 4*a)*x^10 + (a^2 + 2*a + 3)*x^9 + (a + 1)*x^8 + (a^2 + 4*a + 3)*x^7 + (3*a^2 + 4*a + 3)*x^6 + (2*a^2 + 3*a + 4)*x^5 + (4*a^2 + 2*a + 3)*x^4 + (a^2 + 2*a + 2)*x^3 + (4*a^2 + 4*a + 2)*x^2 + (2*a^2 + 4*a + 2)*x + 3*a^2 + 4*a + 2\n",
      "  1: x^12 + (2*a + 4)*x^11 + (4*a^2 + 2*a + 3)*x^10 + x^9 + (3*a^2 + 4*a + 2)*x^7 + (2*a^2 + 1)*x^6 + (4*a^2 + 3*a + 1)*x^5 + (3*a^2 + a + 2)*x^4 + (4*a^2 + 2*a)*x^3 + (a^2 + 4*a + 2)*x^2 + (a + 2)*x\n",
      "  2: x^12 + (2*a + 4)*x^11 + (4*a^2 + 2*a + 3)*x^10 + x^9 + (3*a^2 + 4*a + 2)*x^7 + (2*a^2 + 1)*x^6 + (4*a^2 + 3*a + 1)*x^5 + (3*a^2 + a + 2)*x^4 + (4*a^2 + 2*a)*x^3 + (a^2 + 4*a + 2)*x^2 + (a + 2)*x\n",
      "---: True\n",
      "  f: (4*a + 3)*x^11 + (3*a^2 + a)*x^10 + (2*a^2 + 2*a + 2)*x^9 + (3*a + 3)*x^8 + (a^2 + a)*x^7 + (4*a^2 + 3*a + 3)*x^6 + (a^2 + 3*a + 3)*x^5 + (a^2 + 2*a + 1)*x^4 + (4*a^2 + 4*a + 2)*x^3 + (a^2 + 3*a + 1)*x^2 + (a^2 + 4*a + 1)*x + 2*a\n",
      "  1: (a^2 + 3)*x^11 + (a^2 + 4*a)*x^10 + x^9 + (a^2 + 2*a + 2)*x^7 + (a + 2)*x^6 + (3*a + 3)*x^5 + x^4 + (4*a^2 + 3*a + 3)*x^3 + (2*a^2 + 2*a)*x^2 + (4*a^2 + 4*a + 1)*x\n",
      "  2: (a^2 + 3)*x^11 + (a^2 + 4*a)*x^10 + x^9 + (a^2 + 2*a + 2)*x^7 + (a + 2)*x^6 + (3*a + 3)*x^5 + x^4 + (4*a^2 + 3*a + 3)*x^3 + (2*a^2 + 2*a)*x^2 + (4*a^2 + 4*a + 1)*x\n",
      "---: True\n",
      "  f: (2*a^2 + 4*a + 4)*x^4 + (4*a^2 + 4*a + 1)*x^3 + (a^2 + a + 2)*x^2 + a^2*x + 3*a^2 + 4*a + 4\n",
      "  1: x^4 + 2*x^2 + (a^2 + 4*a + 4)*x\n",
      "  2: x^4 + 2*x^2 + (a^2 + 4*a + 4)*x\n",
      "---: True\n",
      "  f: (4*a^2 + 1)*x^10 + (a + 3)*x^9 + 2*a*x^8 + (a^2 + 3*a + 2)*x^7 + (3*a^2 + 1)*x^6 + (2*a^2 + 3*a + 2)*x^5 + (4*a^2 + 4*a + 3)*x^4 + (4*a + 4)*x^3 + (4*a^2 + 4*a + 3)*x^2 + 4*a^2*x + 2*a^2 + 2*a\n",
      "  1: (2*a^2 + 3)*x^10 + x^9 + (3*a^2 + 4*a + 1)*x^7 + a*x^6 + (4*a^2 + 4*a + 1)*x^5 + x^4 + (3*a^2 + 3*a + 3)*x^3 + (a^2 + 3)*x^2 + (a^2 + a + 2)*x\n",
      "  2: (2*a^2 + 3)*x^10 + x^9 + (3*a^2 + 4*a + 1)*x^7 + a*x^6 + (4*a^2 + 4*a + 1)*x^5 + x^4 + (3*a^2 + 3*a + 3)*x^3 + (a^2 + 3)*x^2 + (a^2 + a + 2)*x\n",
      "---: True\n",
      "ALL TESTS PASSED\n"
     ]
    }
   ],
   "source": [
    "results = []\n",
    "for _ in range(10):\n",
    "    f = random_polynomial(30, F)\n",
    "    print(\"  f:\", f)\n",
    "    c1 = canonical_form(f, p)\n",
    "    print(\"  1:\", c1)\n",
    "    c2 = canonical_form_hyp(f, p)\n",
    "    print(\"  2:\", c2)\n",
    "    print(\"---:\", c1 == c2)\n",
    "    results.append(c1 == c2)\n",
    "print(\"ALL TESTS PASSED\" if all(results) else f\"!!! {len(results) - sum(results)} FAILURES !!!\")"
   ]
  },
  {
   "cell_type": "code",
   "execution_count": 376,
   "id": "2c68ab00",
   "metadata": {
    "vscode": {
     "languageId": "sagemath"
    }
   },
   "outputs": [
    {
     "name": "stdout",
     "output_type": "stream",
     "text": [
      "#1: 5 loops, best of 5: 9.82 s per loop\n",
      "#2: 5 loops, best of 5: 5.62 s per loop\n"
     ]
    }
   ],
   "source": [
    "test_poly = (2*a^2 + 3*a)*x^28 + (2*a + 4)*x^27 + (2*a^2 + 3*a + 4)*x^26 + (a^2 + 3*a + 4)*x^25 + (4*a^2 + 4*a + 1)*x^24 + (a^2 + 4*a + 4)*x^23 + (2*a^2 + a + 4)*x^22 + (3*a^2 + 3*a + 2)*x^21 + (a^2 + 4*a)*x^20 + (3*a^2 + 2*a)*x^19 + (2*a^2 + a)*x^18 + (3*a + 4)*x^17 + (3*a^2 + 3)*x^16 + (4*a + 2)*x^15 + (a^2 + 2*a + 3)*x^14 + (a^2 + a + 3)*x^13 + (2*a^2 + 3*a + 4)*x^12 + (a^2 + 4*a + 3)*x^11 + (3*a + 2)*x^10 + (a + 3)*x^9 + (4*a^2 + 3*a + 2)*x^8 + (a^2 + 3*a)*x^7 + (2*a^2 + 3*a + 1)*x^6 + (4*a^2 + a)*x^5 + (2*a^2 + 4*a + 4)*x^4 + (3*a^2 + 2*a + 2)*x^3 + (4*a^2 + 4*a + 2)*x^2 + (a^2 + 2*a + 4)*x + 4*a^2 + a + 1\n",
    "print(\"#1:\", timeit(\"canonical_form(test_poly, p)\", number=5, repeat=5, globals=globals()))\n",
    "print(\"#2:\", timeit(\"canonical_form_hyp(test_poly, p)\", number=5, repeat=5, globals=globals()))"
   ]
  }
 ],
 "metadata": {
  "kernelspec": {
   "display_name": "SageMath 10.6",
   "language": "sage",
   "name": "sagemath"
  },
  "language_info": {
   "codemirror_mode": {
    "name": "ipython",
    "version": 3
   },
   "file_extension": ".py",
   "mimetype": "text/x-python",
   "name": "python",
   "nbconvert_exporter": "python",
   "pygments_lexer": "ipython3",
   "version": "3.12.10"
  }
 },
 "nbformat": 4,
 "nbformat_minor": 5
}
