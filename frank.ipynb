{
 "cells": [
  {
   "cell_type": "code",
   "execution_count": 2,
   "id": "10ae6e75",
   "metadata": {},
   "outputs": [],
   "source": [
    "from pprint import pprint\n",
    "from collections import defaultdict\n",
    "from timeit import timeit\n",
    "from tqdm import tqdm"
   ]
  },
  {
   "cell_type": "code",
   "execution_count": null,
   "id": "f79e37bb",
   "metadata": {},
   "outputs": [],
   "source": [
    "F.<a> = GF(7)\n",
    "R.<x> = PolynomialRing(F)\n",
    "p = F.characteristic()\n",
    "r = F.degree()\n",
    "AGL = [ a * x + b for a in F if a != 0 for b in F ]"
   ]
  },
  {
   "cell_type": "code",
   "execution_count": 1,
   "id": "e6771b93",
   "metadata": {},
   "outputs": [],
   "source": [
    "def numEquivClass(p, r, n): \n",
    "    \"\"\"\n",
    "    Given (p, r, n) as input, returns the number of AGL-equivalence classes of \n",
    "    polynomials with degree n in F_q where q = p^r. \n",
    "\n",
    "    Assumes that p is prime. \n",
    "    \"\"\"\n",
    "    q = p^r\n",
    "\n",
    "    if n % p == 0:\n",
    "        c = 1 - q^(n-2) + q^(n/p - 1)\n",
    "    elif n == 1:\n",
    "        c = 1\n",
    "    else:\n",
    "        c = 1 - q^(n-2)\n",
    "    \n",
    "    return 1/(q-1) * sum([euler_phi(d)*(q^(ceil(n/d)-1)-1) for d in divisors(q-1) if d < n]) + c\n",
    "\n",
    "def numEquivClassF(F, deg): \n",
    "    \"\"\"\n",
    "    Given (F_q, deg) as input, returns the number of AGL-equivalence classes of \n",
    "    polynomials with degree deg in F_q. \n",
    "    \"\"\"\n",
    "    return numEquivClass(F.characteristic(), F.degree(), deg)"
   ]
  },
  {
   "cell_type": "code",
   "execution_count": null,
   "id": "66c299cd",
   "metadata": {},
   "outputs": [
    {
     "data": {
      "text/plain": [
       "20"
      ]
     },
     "execution_count": 91,
     "metadata": {},
     "output_type": "execute_result"
    }
   ],
   "source": [
    "\n",
    "len(AGL)"
   ]
  },
  {
   "cell_type": "code",
   "execution_count": null,
   "id": "26a0637e",
   "metadata": {},
   "outputs": [],
   "source": [
    "def equivalent(p, q):\n",
    "    for alpha in AGL:\n",
    "        for beta in AGL:\n",
    "            if q == alpha(p(beta)):\n",
    "                return True\n",
    "    return \n",
    "\n",
    "def normalize(p):\n",
    "    lead = p.list()[-1]\n",
    "    last = p.list()[0]\n",
    "    return (p - last) / lead\n",
    "\n",
    "def candidate_equivalent(p, q):\n",
    "    for beta in AGL:\n",
    "        if q == normalize(p(beta)):\n",
    "            return True\n",
    "    return False"
   ]
  },
  {
   "cell_type": "code",
   "execution_count": 7,
   "id": "7ba630df",
   "metadata": {},
   "outputs": [],
   "source": [
    "def polys(deg, coeffs=()):\n",
    "    if deg == 0:\n",
    "        yield sum([ci * x^i for i, ci in enumerate(coeffs + (1,))])\n",
    "        return\n",
    "    for c in F:\n",
    "        yield from polys(deg - 1, coeffs + (c,))\n",
    "\n",
    "def candidates(deg, coeffs=()):\n",
    "    if deg == 1:\n",
    "        yield sum([ci * x^i for i, ci in enumerate((0,) + coeffs + (1,))])\n",
    "        return\n",
    "    for c in F:\n",
    "        yield from candidates(deg - 1, coeffs + (c,))"
   ]
  },
  {
   "cell_type": "code",
   "execution_count": null,
   "id": "406f01ab",
   "metadata": {},
   "outputs": [
    {
     "name": "stdout",
     "output_type": "stream",
     "text": [
      "18\n"
     ]
    }
   ],
   "source": [
    "reps = set()\n",
    "for p in candidates(5):\n",
    "    if not any(candidate_equivalent(p, rep) for rep in reps):\n",
    "        reps.add(p)\n",
    "# pprint(reps)\n",
    "print(len(reps))"
   ]
  },
  {
   "cell_type": "code",
   "execution_count": 7,
   "id": "eb900bdb",
   "metadata": {},
   "outputs": [
    {
     "data": {
      "text/plain": [
       "48"
      ]
     },
     "execution_count": 7,
     "metadata": {},
     "output_type": "execute_result"
    }
   ],
   "source": [
    "numEquivClassF(GF(3), 6)"
   ]
  },
  {
   "cell_type": "code",
   "execution_count": null,
   "id": "793297bd",
   "metadata": {},
   "outputs": [],
   "source": [
    "def homogeneous(F, pdeg, max_deg):\n",
    "    p = F.characteristic()\n",
    "    pdeg_monomials = []\n",
    "    max_pow = floor(log(max_deg, p))\n",
    "    for partition in Partitions(pdeg, max_part=p-1, max_length=max_pow):\n",
    "        for subset in Subsets(range(1, max_pow+1), len(partition)):\n",
    "            exponent = sum(partition[i] * p^power for i, power in enumerate(subset))\n",
    "            pdeg_monomials.append(x^exponent)\n",
    "    return list(map(sum, cartesian_product([[a * monomial for a in F] for monomial in pdeg_monomials])))"
   ]
  },
  {
   "cell_type": "code",
   "execution_count": null,
   "id": "12cf8d15",
   "metadata": {},
   "outputs": [
    {
     "data": {
      "text/plain": [
       "[0, x^9, 2*x^9, x^3, x^9 + x^3, 2*x^9 + x^3, 2*x^3, x^9 + 2*x^3, 2*x^9 + 2*x^3]"
      ]
     },
     "execution_count": 183,
     "metadata": {},
     "output_type": "execute_result"
    }
   ],
   "source": [
    "list(homogeneous(F, pdeg=1, max_deg=9))"
   ]
  },
  {
   "cell_type": "code",
   "execution_count": 4,
   "id": "0253ec4f",
   "metadata": {},
   "outputs": [],
   "source": [
    "def weight(n, p):\n",
    "    w = 0\n",
    "    while n > 0:\n",
    "        w += n % p\n",
    "        n //= p\n",
    "    return w\n",
    "\n",
    "def part(f, w, p):\n",
    "    return sum(c * x^i for i, c in enumerate(f) if weight(i, p) == w)\n",
    "\n",
    "def part_ge(f, w, p):\n",
    "    return sum(c * x^i for i, c in enumerate(f) if weight(i, p) >= w)\n",
    "\n",
    "def pdeg(f, p):\n",
    "    return max([i for (i, c) in enumerate(f) if c != 0], key=lambda x: (weight(x, p), x))"
   ]
  },
  {
   "cell_type": "code",
   "execution_count": null,
   "id": "26eea825",
   "metadata": {},
   "outputs": [
    {
     "name": "stdout",
     "output_type": "stream",
     "text": [
      "2*x^5\n",
      "9\n",
      "[0, 2, 1, 2, 5]\n"
     ]
    }
   ],
   "source": [
    "f = x^9 + x^6 + 2*x^5 + 2*x^2 + 1\n",
    "print(part(f, 1, p))\n",
    "print(pdeg(f, p))\n",
    "print(list(map(lambda x: weight(x, p), f.exponents())))"
   ]
  },
  {
   "cell_type": "code",
   "execution_count": null,
   "id": "047172cf",
   "metadata": {},
   "outputs": [
    {
     "name": "stdout",
     "output_type": "stream",
     "text": [
      "x^28 + 3*x^27 + 4*x^26 + 2*x^25 + 3*x^18 + 4*x^17 + x^16 + x^14 + x^13 + 4*x^12 + 3*x^11 + 2*x^10 + x^9 + 3*x^8 + 3*x^7 + 4*x^6 + 2*x^5 + x^4 + 2*x^3 + x^2 + 2*x\n",
      "[3, 4, 4, 3, 5, 3, 3]\n",
      "[1, 2, 1, 2, 3, 2, 3, 4, 1, 2, 3, 2, 3, 4, 4, 5, 2, 5, 6, 1, 2]\n"
     ]
    }
   ],
   "source": [
    "g = 2*x^29 + x^19 + x^17 + x^15 + x^14 + 2*x^8 + x^5\n",
    "print(g(x + 2) - g)\n",
    "print(list(map(lambda x: weight(x, p), g.exponents())))\n",
    "print(list(map(lambda x: weight(x, p), (g(x + 2) - g).exponents())))"
   ]
  },
  {
   "cell_type": "code",
   "execution_count": 6,
   "id": "fe7bf7e3",
   "metadata": {},
   "outputs": [],
   "source": [
    "def canonical_form(f, p):\n",
    "    d = pdeg(f, p)\n",
    "    f /= f[d]\n",
    "    f -= f[0]\n",
    "    K = weight(d, p)\n",
    "\n",
    "    form = 0\n",
    "    f_partial = 0\n",
    "    f_parts = [part(f, i, p) for i in range(K + 1)]\n",
    "\n",
    "    candidates = AGL\n",
    "    # print(len(candidates))\n",
    "    for k in range(K, 0, -1):\n",
    "        f_partial += f_parts[k]\n",
    "        g_options = defaultdict(list)\n",
    "        for poly in candidates:\n",
    "            g_options[part(poly[1]^(-d) * f_partial(poly), k, p)].append(poly)\n",
    "        maximal = min(g_options)\n",
    "        form += maximal\n",
    "        candidates = g_options[maximal]\n",
    "        # print(form)\n",
    "        # print(len(candidates))\n",
    "    return form\n",
    "\n",
    "def canonical_form_hyp(f, p):\n",
    "    d = pdeg(f, p)\n",
    "    f /= f[d]\n",
    "    f -= f[0]\n",
    "    K = weight(d, p)\n",
    "\n",
    "    g = part(f, K, p)\n",
    "    a = min([a for a in F if a != 0], key=lambda a: a^(-d) * g(a * x))\n",
    "    form = a^(-d) * g(a * x)\n",
    "    poly = a * x\n",
    "    for k in range(K - 1, 0, -1):\n",
    "        # print(\"form:\", form)\n",
    "        # print(\"   f:\", part_ge(poly[1]^(-d) * f(poly), k + 1, p))\n",
    "        g = part(poly[1]^(-d) * f(poly), k, p)\n",
    "        alphas = [a for a in F if a != 0 and form == a^(-d) * form(a * x)]\n",
    "        ys = [y for y in F if part_ge(form(x + y) - form, k + 1, p) == 0]\n",
    "        pairs = [(a, y) for a in alphas for y in ys]\n",
    "        a, y = min(pairs, key=lambda pr: part(form(x + pr[1]) - form, k, p) + pr[0]^(-d) * g(pr[0] * x))\n",
    "        form += part(form(x + y) - form, k, p) + a^(-d) * g(a * x)\n",
    "        poly = poly(a * x + y * a)\n",
    "    return form"
   ]
  },
  {
   "cell_type": "code",
   "execution_count": null,
   "id": "b56c9446",
   "metadata": {},
   "outputs": [
    {
     "name": "stdout",
     "output_type": "stream",
     "text": [
      "x^9 + x^6 + 2*x^5 + 2*x^2\n",
      "x^9 + x^6 + 2*x^5 + 2*x^2\n",
      "x^9 + x^6 + 2*x^5 + 2*x^2\n",
      "x^9 + x^6 + 2*x^5 + 2*x^2\n"
     ]
    }
   ],
   "source": [
    "print(canonical_form(f, p))\n",
    "print(canonical_form(f(x + 1), p))\n",
    "print(canonical_form(f(x + (a^2 + 1)), p))\n",
    "print(canonical_form((a + 3) * f(x + (a^2 + 1)) - 4, p))"
   ]
  },
  {
   "cell_type": "code",
   "execution_count": null,
   "id": "0279c636",
   "metadata": {},
   "outputs": [
    {
     "name": "stdout",
     "output_type": "stream",
     "text": [
      "x^9 + x^6 + 2*x^5 + 2*x^2\n",
      "x^9 + x^6 + 2*x^5 + 2*x^2\n",
      "x^9 + x^6 + 2*x^5 + 2*x^2\n",
      "x^9 + x^6 + 2*x^5 + 2*x^2\n"
     ]
    }
   ],
   "source": [
    "print(canonical_form_hyp(f, p))\n",
    "print(canonical_form_hyp(f(x + 1), p))\n",
    "print(canonical_form_hyp(f(x + (a^2 + 1)), p))\n",
    "print(canonical_form_hyp((a + 3) * f(x + (a^2 + 1)) - 4, p))"
   ]
  },
  {
   "cell_type": "code",
   "execution_count": null,
   "id": "ed20441d",
   "metadata": {},
   "outputs": [],
   "source": [
    "def random_polynomial(max_deg, F):\n",
    "    return sum(F.random_element() * x^i for i in range(randint(2, max_deg)))"
   ]
  },
  {
   "cell_type": "code",
   "execution_count": null,
   "id": "98a4ba85",
   "metadata": {},
   "outputs": [
    {
     "name": "stdout",
     "output_type": "stream",
     "text": [
      "  f: (2*a^2 + 4*a + 2)*x^24 + (a^2 + 1)*x^23 + (3*a^2 + 2*a + 1)*x^22 + (2*a^2 + 2*a)*x^21 + (4*a^2 + 3*a + 4)*x^20 + a*x^19 + (3*a^2 + 3*a + 3)*x^18 + (a^2 + 3)*x^17 + (4*a^2 + a + 1)*x^16 + (3*a^2 + 4)*x^15 + 2*a*x^14 + 4*a^2*x^13 + (2*a^2 + 3*a + 2)*x^12 + (a^2 + 4*a + 3)*x^11 + 4*x^10 + (3*a^2 + 4*a)*x^9 + (3*a^2 + 4*a + 1)*x^8 + (3*a^2 + 4*a + 2)*x^7 + (2*a^2 + 2)*x^6 + (2*a^2 + 4*a + 1)*x^5 + (3*a^2 + 3*a + 4)*x^4 + (3*a^2 + 2*a + 2)*x^3 + (4*a^2 + 3*a)*x^2 + (a^2 + 3*a)*x + 2*a + 2\n",
      "  1: x^24 + (3*a^2 + 2*a + 4)*x^22 + (a^2 + 4*a + 4)*x^21 + a*x^20 + x^19 + 3*a*x^18 + (4*a + 4)*x^17 + (4*a^2 + 4*a)*x^16 + (3*a + 1)*x^15 + (2*a^2 + a + 1)*x^14 + 2*a^2*x^13 + a*x^12 + (3*a^2 + 4*a + 1)*x^11 + (3*a^2 + a)*x^10 + (3*a^2 + 4*a + 4)*x^9 + (2*a^2 + 2*a)*x^8 + (a^2 + a + 1)*x^7 + (3*a^2 + 3*a + 2)*x^6 + (3*a^2 + 3)*x^5 + (4*a + 4)*x^4 + (4*a + 4)*x^3 + 3*a^2*x^2 + (4*a + 2)*x\n",
      "  2: x^24 + (3*a^2 + 2*a + 4)*x^22 + (a^2 + 4*a + 4)*x^21 + a*x^20 + x^19 + 3*a*x^18 + (4*a + 4)*x^17 + (4*a^2 + 4*a)*x^16 + (3*a + 1)*x^15 + (2*a^2 + a + 1)*x^14 + 2*a^2*x^13 + a*x^12 + (3*a^2 + 4*a + 1)*x^11 + (3*a^2 + a)*x^10 + (3*a^2 + 4*a + 4)*x^9 + (2*a^2 + 2*a)*x^8 + (a^2 + a + 1)*x^7 + (3*a^2 + 3*a + 2)*x^6 + (3*a^2 + 3)*x^5 + (4*a + 4)*x^4 + (4*a + 4)*x^3 + 3*a^2*x^2 + (4*a + 2)*x\n",
      "---: True\n",
      "  f: (a^2 + 2*a + 4)*x^18 + (2*a^2 + 4*a + 2)*x^17 + 3*a^2*x^16 + (3*a + 1)*x^15 + (2*a^2 + a + 2)*x^14 + (2*a^2 + 4*a + 3)*x^13 + (3*a^2 + 3*a + 1)*x^12 + (2*a^2 + 3*a + 2)*x^11 + (2*a^2 + 4*a + 4)*x^10 + (4*a^2 + 2*a + 4)*x^9 + (a^2 + a + 4)*x^8 + (a^2 + a + 4)*x^7 + (2*a^2 + 3*a + 2)*x^6 + (4*a^2 + 4*a + 2)*x^5 + (2*a^2 + 4*a)*x^4 + (a^2 + 3*a)*x^3 + (a^2 + a + 1)*x^2 + (3*a^2 + 4*a + 4)*x + 4*a^2 + 2*a + 3\n",
      "  1: x^18 + (4*a^2 + 3*a + 1)*x^16 + (2*a^2 + 2*a + 2)*x^15 + 3*x^14 + (a^2 + 2*a + 2)*x^13 + (3*a^2 + a + 4)*x^12 + (3*a^2 + 3*a + 2)*x^11 + (a^2 + 4*a + 2)*x^10 + a^2*x^9 + (2*a^2 + 2*a + 1)*x^8 + (3*a^2 + 3*a)*x^7 + (2*a + 4)*x^6 + (4*a^2 + 4*a + 4)*x^5 + 4*a^2*x^4 + (4*a^2 + 4*a + 4)*x^3 + (4*a^2 + 2*a + 2)*x^2 + a^2*x\n",
      "  2: x^18 + (4*a^2 + 3*a + 1)*x^16 + (2*a^2 + 2*a + 2)*x^15 + 3*x^14 + (a^2 + 2*a + 2)*x^13 + (3*a^2 + a + 4)*x^12 + (3*a^2 + 3*a + 2)*x^11 + (a^2 + 4*a + 2)*x^10 + a^2*x^9 + (2*a^2 + 2*a + 1)*x^8 + (3*a^2 + 3*a)*x^7 + (2*a + 4)*x^6 + (4*a^2 + 4*a + 4)*x^5 + 4*a^2*x^4 + (4*a^2 + 4*a + 4)*x^3 + (4*a^2 + 2*a + 2)*x^2 + a^2*x\n",
      "---: True\n",
      "  f: (2*a^2 + 3*a)*x^28 + (2*a + 4)*x^27 + (2*a^2 + 3*a + 4)*x^26 + (a^2 + 3*a + 4)*x^25 + (4*a^2 + 4*a + 1)*x^24 + (a^2 + 4*a + 4)*x^23 + (2*a^2 + a + 4)*x^22 + (3*a^2 + 3*a + 2)*x^21 + (a^2 + 4*a)*x^20 + (3*a^2 + 2*a)*x^19 + (2*a^2 + a)*x^18 + (3*a + 4)*x^17 + (3*a^2 + 3)*x^16 + (4*a + 2)*x^15 + (a^2 + 2*a + 3)*x^14 + (a^2 + a + 3)*x^13 + (2*a^2 + 3*a + 4)*x^12 + (a^2 + 4*a + 3)*x^11 + (3*a + 2)*x^10 + (a + 3)*x^9 + (4*a^2 + 3*a + 2)*x^8 + (a^2 + 3*a)*x^7 + (2*a^2 + 3*a + 1)*x^6 + (4*a^2 + a)*x^5 + (2*a^2 + 4*a + 4)*x^4 + (3*a^2 + 2*a + 2)*x^3 + (4*a^2 + 4*a + 2)*x^2 + (a^2 + 2*a + 4)*x + 4*a^2 + a + 1\n",
      "  1: (3*a^2 + 3*a + 2)*x^28 + (4*a^2 + 4)*x^27 + (3*a + 1)*x^26 + (a^2 + 2*a + 4)*x^25 + x^24 + (3*a^2 + 2)*x^22 + (4*a^2 + a + 4)*x^21 + (4*a^2 + 1)*x^20 + x^19 + (a^2 + 3*a)*x^18 + (2*a^2 + a + 1)*x^17 + (a^2 + 2*a + 1)*x^16 + x^15 + (a^2 + 2*a + 4)*x^14 + (a^2 + a + 4)*x^13 + 4*a^2*x^12 + (4*a^2 + 3)*x^11 + 3*a^2*x^10 + (4*a + 2)*x^9 + (3*a^2 + 4*a + 2)*x^8 + (2*a^2 + 4*a + 3)*x^7 + (a^2 + 2*a + 3)*x^6 + (4*a + 3)*x^5 + (2*a^2 + 4*a + 1)*x^4 + (2*a^2 + 3*a + 1)*x^3 + (a^2 + 2*a)*x^2 + (2*a^2 + a + 3)*x\n",
      "  2: (3*a^2 + 3*a + 2)*x^28 + (4*a^2 + 4)*x^27 + (3*a + 1)*x^26 + (a^2 + 2*a + 4)*x^25 + x^24 + (3*a^2 + 2)*x^22 + (4*a^2 + a + 4)*x^21 + (4*a^2 + 1)*x^20 + x^19 + (a^2 + 3*a)*x^18 + (2*a^2 + a + 1)*x^17 + (a^2 + 2*a + 1)*x^16 + x^15 + (a^2 + 2*a + 4)*x^14 + (a^2 + a + 4)*x^13 + 4*a^2*x^12 + (4*a^2 + 3)*x^11 + 3*a^2*x^10 + (4*a + 2)*x^9 + (3*a^2 + 4*a + 2)*x^8 + (2*a^2 + 4*a + 3)*x^7 + (a^2 + 2*a + 3)*x^6 + (4*a + 3)*x^5 + (2*a^2 + 4*a + 1)*x^4 + (2*a^2 + 3*a + 1)*x^3 + (a^2 + 2*a)*x^2 + (2*a^2 + a + 3)*x\n",
      "---: True\n",
      "  f: (a^2 + 2*a)*x^17 + (2*a^2 + 4*a + 3)*x^16 + (a^2 + a + 4)*x^15 + 2*a^2*x^14 + (3*a^2 + a)*x^13 + (a^2 + a + 4)*x^12 + x^11 + (2*a^2 + 4*a + 3)*x^10 + (4*a + 1)*x^9 + (2*a^2 + 2*a + 3)*x^8 + (3*a^2 + 4*a + 4)*x^7 + 2*a^2*x^6 + (2*a^2 + a + 4)*x^5 + (4*a^2 + a)*x^4 + (2*a^2 + 4*a + 1)*x^3 + (a^2 + 3*a + 2)*x^2 + (2*a^2 + a + 2)*x + a^2 + 4*a + 4\n",
      "  1: x^17 + (a^2 + 4*a)*x^16 + a^2*x^15 + x^14 + (2*a + 4)*x^12 + (a^2 + 3*a)*x^11 + (4*a^2 + 3*a + 1)*x^10 + (2*a + 3)*x^9 + (a^2 + 2*a + 3)*x^8 + (a^2 + 2)*x^7 + (4*a^2 + 4*a + 1)*x^6 + (4*a^2 + a)*x^5 + 3*a*x^4 + (a^2 + 4*a)*x^3 + (a + 1)*x^2 + (4*a^2 + 3*a)*x\n",
      "  2: x^17 + (a^2 + 4*a)*x^16 + a^2*x^15 + x^14 + (2*a + 4)*x^12 + (a^2 + 3*a)*x^11 + (4*a^2 + 3*a + 1)*x^10 + (2*a + 3)*x^9 + (a^2 + 2*a + 3)*x^8 + (a^2 + 2)*x^7 + (4*a^2 + 4*a + 1)*x^6 + (4*a^2 + a)*x^5 + 3*a*x^4 + (a^2 + 4*a)*x^3 + (a + 1)*x^2 + (4*a^2 + 3*a)*x\n",
      "---: True\n",
      "  f: (4*a^2 + 4*a + 2)*x^9 + (3*a^2 + 3*a + 2)*x^8 + (a + 3)*x^7 + 3*a^2*x^6 + (3*a^2 + 4*a + 3)*x^5 + (3*a^2 + 2*a + 3)*x^4 + (3*a^2 + 3*a + 4)*x^3 + (4*a^2 + 2*a + 3)*x + a^2 + 3*a + 1\n",
      "  1: x^9 + (2*a + 4)*x^7 + (a^2 + 2*a + 1)*x^6 + (a + 4)*x^5 + x^4 + (a^2 + 1)*x^3 + (a^2 + 1)*x^2 + (2*a + 2)*x\n",
      "  2: x^9 + (2*a + 4)*x^7 + (a^2 + 2*a + 1)*x^6 + (a + 4)*x^5 + x^4 + (a^2 + 1)*x^3 + (a^2 + 1)*x^2 + (2*a + 2)*x\n",
      "---: True\n",
      "  f: (3*a^2 + 2*a)*x^17 + (a^2 + 3*a + 4)*x^16 + (4*a^2 + 2)*x^15 + (a^2 + 2*a + 1)*x^14 + 4*a^2*x^13 + (3*a^2 + a + 3)*x^12 + (4*a^2 + a + 2)*x^11 + (2*a^2 + 3)*x^10 + (4*a^2 + 3*a + 3)*x^9 + (3*a^2 + 4*a + 2)*x^8 + (a^2 + a + 2)*x^7 + (4*a^2 + a + 3)*x^6 + (2*a^2 + 3*a + 4)*x^5 + (a^2 + a + 4)*x^4 + (a^2 + 2)*x^3 + (2*a^2 + 4*a + 4)*x^2 + (3*a + 3)*x + 4*a + 1\n",
      "  1: x^17 + (2*a^2 + 4*a)*x^16 + (4*a^2 + 3*a + 4)*x^15 + x^14 + (2*a^2 + 4*a + 4)*x^12 + (3*a + 4)*x^11 + (a^2 + a + 4)*x^10 + (4*a^2 + 3*a)*x^9 + 4*a*x^8 + (4*a^2 + 2*a)*x^7 + (a^2 + 2*a + 1)*x^6 + 3*x^5 + (4*a^2 + 4*a)*x^4 + (a^2 + 2*a)*x^3 + (a^2 + 4*a + 2)*x^2 + (2*a^2 + a)*x\n",
      "  2: x^17 + (2*a^2 + 4*a)*x^16 + (4*a^2 + 3*a + 4)*x^15 + x^14 + (2*a^2 + 4*a + 4)*x^12 + (3*a + 4)*x^11 + (a^2 + a + 4)*x^10 + (4*a^2 + 3*a)*x^9 + 4*a*x^8 + (4*a^2 + 2*a)*x^7 + (a^2 + 2*a + 1)*x^6 + 3*x^5 + (4*a^2 + 4*a)*x^4 + (a^2 + 2*a)*x^3 + (a^2 + 4*a + 2)*x^2 + (2*a^2 + a)*x\n",
      "---: True\n",
      "  f: (2*a^2 + 2)*x^12 + (4*a^2 + 3*a)*x^11 + (4*a^2 + 4*a)*x^10 + (a^2 + 2*a + 3)*x^9 + (a + 1)*x^8 + (a^2 + 4*a + 3)*x^7 + (3*a^2 + 4*a + 3)*x^6 + (2*a^2 + 3*a + 4)*x^5 + (4*a^2 + 2*a + 3)*x^4 + (a^2 + 2*a + 2)*x^3 + (4*a^2 + 4*a + 2)*x^2 + (2*a^2 + 4*a + 2)*x + 3*a^2 + 4*a + 2\n",
      "  1: x^12 + (2*a + 4)*x^11 + (4*a^2 + 2*a + 3)*x^10 + x^9 + (3*a^2 + 4*a + 2)*x^7 + (2*a^2 + 1)*x^6 + (4*a^2 + 3*a + 1)*x^5 + (3*a^2 + a + 2)*x^4 + (4*a^2 + 2*a)*x^3 + (a^2 + 4*a + 2)*x^2 + (a + 2)*x\n",
      "  2: x^12 + (2*a + 4)*x^11 + (4*a^2 + 2*a + 3)*x^10 + x^9 + (3*a^2 + 4*a + 2)*x^7 + (2*a^2 + 1)*x^6 + (4*a^2 + 3*a + 1)*x^5 + (3*a^2 + a + 2)*x^4 + (4*a^2 + 2*a)*x^3 + (a^2 + 4*a + 2)*x^2 + (a + 2)*x\n",
      "---: True\n",
      "  f: (4*a + 3)*x^11 + (3*a^2 + a)*x^10 + (2*a^2 + 2*a + 2)*x^9 + (3*a + 3)*x^8 + (a^2 + a)*x^7 + (4*a^2 + 3*a + 3)*x^6 + (a^2 + 3*a + 3)*x^5 + (a^2 + 2*a + 1)*x^4 + (4*a^2 + 4*a + 2)*x^3 + (a^2 + 3*a + 1)*x^2 + (a^2 + 4*a + 1)*x + 2*a\n",
      "  1: (a^2 + 3)*x^11 + (a^2 + 4*a)*x^10 + x^9 + (a^2 + 2*a + 2)*x^7 + (a + 2)*x^6 + (3*a + 3)*x^5 + x^4 + (4*a^2 + 3*a + 3)*x^3 + (2*a^2 + 2*a)*x^2 + (4*a^2 + 4*a + 1)*x\n",
      "  2: (a^2 + 3)*x^11 + (a^2 + 4*a)*x^10 + x^9 + (a^2 + 2*a + 2)*x^7 + (a + 2)*x^6 + (3*a + 3)*x^5 + x^4 + (4*a^2 + 3*a + 3)*x^3 + (2*a^2 + 2*a)*x^2 + (4*a^2 + 4*a + 1)*x\n",
      "---: True\n",
      "  f: (2*a^2 + 4*a + 4)*x^4 + (4*a^2 + 4*a + 1)*x^3 + (a^2 + a + 2)*x^2 + a^2*x + 3*a^2 + 4*a + 4\n",
      "  1: x^4 + 2*x^2 + (a^2 + 4*a + 4)*x\n",
      "  2: x^4 + 2*x^2 + (a^2 + 4*a + 4)*x\n",
      "---: True\n",
      "  f: (4*a^2 + 1)*x^10 + (a + 3)*x^9 + 2*a*x^8 + (a^2 + 3*a + 2)*x^7 + (3*a^2 + 1)*x^6 + (2*a^2 + 3*a + 2)*x^5 + (4*a^2 + 4*a + 3)*x^4 + (4*a + 4)*x^3 + (4*a^2 + 4*a + 3)*x^2 + 4*a^2*x + 2*a^2 + 2*a\n",
      "  1: (2*a^2 + 3)*x^10 + x^9 + (3*a^2 + 4*a + 1)*x^7 + a*x^6 + (4*a^2 + 4*a + 1)*x^5 + x^4 + (3*a^2 + 3*a + 3)*x^3 + (a^2 + 3)*x^2 + (a^2 + a + 2)*x\n",
      "  2: (2*a^2 + 3)*x^10 + x^9 + (3*a^2 + 4*a + 1)*x^7 + a*x^6 + (4*a^2 + 4*a + 1)*x^5 + x^4 + (3*a^2 + 3*a + 3)*x^3 + (a^2 + 3)*x^2 + (a^2 + a + 2)*x\n",
      "---: True\n",
      "ALL TESTS PASSED\n"
     ]
    }
   ],
   "source": [
    "results = []\n",
    "for _ in range(10):\n",
    "    f = random_polynomial(30, F)\n",
    "    print(\"  f:\", f)\n",
    "    c1 = canonical_form(f, p)\n",
    "    print(\"  1:\", c1)\n",
    "    c2 = canonical_form_hyp(f, p)\n",
    "    print(\"  2:\", c2)\n",
    "    print(\"---:\", c1 == c2)\n",
    "    results.append(c1 == c2)\n",
    "print(\"ALL TESTS PASSED\" if all(results) else f\"!!! {len(results) - sum(results)} FAILURES !!!\")"
   ]
  },
  {
   "cell_type": "code",
   "execution_count": null,
   "id": "2c68ab00",
   "metadata": {},
   "outputs": [
    {
     "name": "stdout",
     "output_type": "stream",
     "text": [
      "#1: 5 loops, best of 5: 9.82 s per loop\n",
      "#2: 5 loops, best of 5: 5.62 s per loop\n"
     ]
    }
   ],
   "source": [
    "test_poly = (2*a^2 + 3*a)*x^28 + (2*a + 4)*x^27 + (2*a^2 + 3*a + 4)*x^26 + (a^2 + 3*a + 4)*x^25 + (4*a^2 + 4*a + 1)*x^24 + (a^2 + 4*a + 4)*x^23 + (2*a^2 + a + 4)*x^22 + (3*a^2 + 3*a + 2)*x^21 + (a^2 + 4*a)*x^20 + (3*a^2 + 2*a)*x^19 + (2*a^2 + a)*x^18 + (3*a + 4)*x^17 + (3*a^2 + 3)*x^16 + (4*a + 2)*x^15 + (a^2 + 2*a + 3)*x^14 + (a^2 + a + 3)*x^13 + (2*a^2 + 3*a + 4)*x^12 + (a^2 + 4*a + 3)*x^11 + (3*a + 2)*x^10 + (a + 3)*x^9 + (4*a^2 + 3*a + 2)*x^8 + (a^2 + 3*a)*x^7 + (2*a^2 + 3*a + 1)*x^6 + (4*a^2 + a)*x^5 + (2*a^2 + 4*a + 4)*x^4 + (3*a^2 + 2*a + 2)*x^3 + (4*a^2 + 4*a + 2)*x^2 + (a^2 + 2*a + 4)*x + 4*a^2 + a + 1\n",
    "print(\"#1:\", timeit(\"canonical_form(test_poly, p)\", number=5, repeat=5, globals=globals()))\n",
    "print(\"#2:\", timeit(\"canonical_form_hyp(test_poly, p)\", number=5, repeat=5, globals=globals()))"
   ]
  },
  {
   "cell_type": "code",
   "execution_count": null,
   "id": "40e1f161",
   "metadata": {},
   "outputs": [],
   "source": [
    "def polysOfDeg(n): \n",
    "    \"\"\"returns all monic polynomials of deg exactly n that have constant term 0 as a set\"\"\" \n",
    "    out = []\n",
    "    coeffs_set = cartesian_product([F for _ in range(n-1)])\n",
    "    pbar = tqdm(coeffs_set)\n",
    "    num_polys = 0 \n",
    "    total_polys = F.order()\n",
    "    for coeffs in pbar: \n",
    "        out.append(R([0] + list(coeffs) + [1]))\n",
    "        num_polys += 1\n",
    "        pbar.set_description(f\"Finding polys: {num_polys} done out of {}\")\n",
    "    return out\n",
    "\n",
    "def enumAllCanonicalForm(n):\n",
    "    \"\"\"enumerates all canonical forms of deg <= n by brute force search \"\"\"\n",
    "    forms = {}\n",
    "    candidates = polysOfDeg(n)\n",
    "    visited = set() \n",
    "    q = F.order()\n",
    "    pbar = tqdm(candidates)\n",
    "    polys_done = 0\n",
    "    total_polys = len(candidates)\n",
    "    total_equiv_classes = numEquivClass(p, r, n)\n",
    "    for f in pbar:\n",
    "        if f not in visited:\n",
    "            form = canonical_form(f, p)\n",
    "            d = pdeg(f, p)\n",
    "            allothers = [a^(-d) * form(a * x + y) for a in F if a != 0 for y in F]\n",
    "            constantcoeffs = {f - f[0] for f in allothers}\n",
    "            forms[form] = constantcoeffs\n",
    "            visited |= constantcoeffs\n",
    "            if len(visited) == len(candidates): \n",
    "                break\n",
    "        polys_done += 1\n",
    "        pbar.set_description(f\"Finding canonical forms: {polys_done} out of {total_polys} done, {len(forms)} out of {total_equiv_classes} found \")\n",
    "    return forms"
   ]
  },
  {
   "cell_type": "code",
   "execution_count": 155,
   "id": "dff0d880",
   "metadata": {},
   "outputs": [
    {
     "name": "stderr",
     "output_type": "stream",
     "text": [
      "57950 out of 390625 done, 682 out of 683 found :  15%|█▍        | 57950/390625 [3:23:24<19:27:41,  4.75it/s] \n"
     ]
    },
    {
     "ename": "KeyboardInterrupt",
     "evalue": "",
     "output_type": "error",
     "traceback": [
      "\u001b[0;31m---------------------------------------------------------------------------\u001b[0m",
      "\u001b[0;31mTypeError\u001b[0m                                 Traceback (most recent call last)",
      "File \u001b[0;32m~/anaconda3/envs/sage/lib/python3.12/site-packages/sage/rings/polynomial/polynomial_zz_pex.pyx:280\u001b[0m, in \u001b[0;36msage.rings.polynomial.polynomial_zz_pex.Polynomial_ZZ_pEX.__call__ (build/cythonized/sage/rings/polynomial/polynomial_zz_pex.cpp:21698)\u001b[0;34m()\u001b[0m\n\u001b[1;32m    279\u001b[0m     if a.parent() is not K:\n\u001b[0;32m--> 280\u001b[0m         a = K.coerce(a)\n\u001b[1;32m    281\u001b[0m except (TypeError, AttributeError, NotImplementedError):\n",
      "File \u001b[0;32m~/anaconda3/envs/sage/lib/python3.12/site-packages/sage/structure/parent.pyx:1190\u001b[0m, in \u001b[0;36msage.structure.parent.Parent.coerce (build/cythonized/sage/structure/parent.c:14544)\u001b[0;34m()\u001b[0m\n\u001b[1;32m   1189\u001b[0m \n\u001b[0;32m-> 1190\u001b[0m     cpdef coerce(self, x):\n\u001b[1;32m   1191\u001b[0m         \"\"\"\n",
      "File \u001b[0;32m~/anaconda3/envs/sage/lib/python3.12/site-packages/sage/structure/parent.pyx:1220\u001b[0m, in \u001b[0;36msage.structure.parent.Parent.coerce (build/cythonized/sage/structure/parent.c:14388)\u001b[0;34m()\u001b[0m\n\u001b[1;32m   1219\u001b[0m             _record_exception()\n\u001b[0;32m-> 1220\u001b[0m     raise TypeError(_LazyString(\"no canonical coercion from %s to %s\", (parent(x), self), {}))\n\u001b[1;32m   1221\u001b[0m else:\n",
      "\u001b[0;31mTypeError\u001b[0m: no canonical coercion from Univariate Polynomial Ring in x over Finite Field in a of size 5^2 to Finite Field in a of size 5^2",
      "\nDuring handling of the above exception, another exception occurred:\n",
      "\u001b[0;31mKeyboardInterrupt\u001b[0m                         Traceback (most recent call last)",
      "Cell \u001b[0;32mIn[155], line 1\u001b[0m\n\u001b[0;32m----> 1\u001b[0m \u001b[43menumAllCanonicalForm\u001b[49m\u001b[43m(\u001b[49m\u001b[43mInteger\u001b[49m\u001b[43m(\u001b[49m\u001b[38;5;241;43m5\u001b[39;49m\u001b[43m)\u001b[49m\u001b[43m)\u001b[49m\n",
      "Cell \u001b[0;32mIn[154], line 20\u001b[0m, in \u001b[0;36menumAllCanonicalForm\u001b[0;34m(n)\u001b[0m\n\u001b[1;32m     18\u001b[0m \u001b[38;5;28;01mfor\u001b[39;00m f \u001b[38;5;129;01min\u001b[39;00m pbar:\n\u001b[1;32m     19\u001b[0m     \u001b[38;5;28;01mif\u001b[39;00m f \u001b[38;5;129;01mnot\u001b[39;00m \u001b[38;5;129;01min\u001b[39;00m visited:\n\u001b[0;32m---> 20\u001b[0m         form \u001b[38;5;241m=\u001b[39m \u001b[43mcanonical_form\u001b[49m\u001b[43m(\u001b[49m\u001b[43mf\u001b[49m\u001b[43m,\u001b[49m\u001b[43m \u001b[49m\u001b[43mp\u001b[49m\u001b[43m)\u001b[49m\n\u001b[1;32m     21\u001b[0m         d \u001b[38;5;241m=\u001b[39m pdeg(f, p)\n\u001b[1;32m     22\u001b[0m         allothers \u001b[38;5;241m=\u001b[39m [a\u001b[38;5;241m*\u001b[39m\u001b[38;5;241m*\u001b[39m(\u001b[38;5;241m-\u001b[39md) \u001b[38;5;241m*\u001b[39m form(a \u001b[38;5;241m*\u001b[39m x \u001b[38;5;241m+\u001b[39m y) \u001b[38;5;28;01mfor\u001b[39;00m a \u001b[38;5;129;01min\u001b[39;00m F \u001b[38;5;28;01mif\u001b[39;00m a \u001b[38;5;241m!=\u001b[39m Integer(\u001b[38;5;241m0\u001b[39m) \u001b[38;5;28;01mfor\u001b[39;00m y \u001b[38;5;129;01min\u001b[39;00m F]\n",
      "Cell \u001b[0;32mIn[6], line 17\u001b[0m, in \u001b[0;36mcanonical_form\u001b[0;34m(f, p)\u001b[0m\n\u001b[1;32m     15\u001b[0m g_options \u001b[38;5;241m=\u001b[39m defaultdict(\u001b[38;5;28mlist\u001b[39m)\n\u001b[1;32m     16\u001b[0m \u001b[38;5;28;01mfor\u001b[39;00m poly \u001b[38;5;129;01min\u001b[39;00m candidates:\n\u001b[0;32m---> 17\u001b[0m     g_options[part(poly[Integer(\u001b[38;5;241m1\u001b[39m)]\u001b[38;5;241m*\u001b[39m\u001b[38;5;241m*\u001b[39m(\u001b[38;5;241m-\u001b[39md) \u001b[38;5;241m*\u001b[39m \u001b[43mf_partial\u001b[49m\u001b[43m(\u001b[49m\u001b[43mpoly\u001b[49m\u001b[43m)\u001b[49m, k, p)]\u001b[38;5;241m.\u001b[39mappend(poly)\n\u001b[1;32m     18\u001b[0m maximal \u001b[38;5;241m=\u001b[39m \u001b[38;5;28mmin\u001b[39m(g_options)\n\u001b[1;32m     19\u001b[0m form \u001b[38;5;241m+\u001b[39m\u001b[38;5;241m=\u001b[39m maximal\n",
      "File \u001b[0;32m~/anaconda3/envs/sage/lib/python3.12/site-packages/sage/rings/polynomial/polynomial_zz_pex.pyx:282\u001b[0m, in \u001b[0;36msage.rings.polynomial.polynomial_zz_pex.Polynomial_ZZ_pEX.__call__ (build/cythonized/sage/rings/polynomial/polynomial_zz_pex.cpp:21775)\u001b[0;34m()\u001b[0m\n\u001b[1;32m    280\u001b[0m         a = K.coerce(a)\n\u001b[1;32m    281\u001b[0m except (TypeError, AttributeError, NotImplementedError):\n\u001b[0;32m--> 282\u001b[0m     return Polynomial.__call__(self, a)\n\u001b[1;32m    283\u001b[0m \n\u001b[1;32m    284\u001b[0m _a = self._parent._modulus.ZZ_pE(list(a.polynomial()))\n",
      "File \u001b[0;32m~/anaconda3/envs/sage/lib/python3.12/site-packages/sage/rings/polynomial/polynomial_element.pyx:920\u001b[0m, in \u001b[0;36msage.rings.polynomial.polynomial_element.Polynomial.__call__ (build/cythonized/sage/rings/polynomial/polynomial_element.c:21033)\u001b[0;34m()\u001b[0m\n\u001b[1;32m    918\u001b[0m if pol._compiled is None:\n\u001b[1;32m    919\u001b[0m     if d < 4 or d > 50000:\n\u001b[0;32m--> 920\u001b[0m         result = pol.get_unsafe(d)\n\u001b[1;32m    921\u001b[0m         for i in range(d - 1, -1, -1):\n\u001b[1;32m    922\u001b[0m             result = result * a + pol.get_unsafe(i)\n",
      "File \u001b[0;32m~/anaconda3/envs/sage/lib/python3.12/site-packages/sage/rings/polynomial/polynomial_zz_pex.pyx:179\u001b[0m, in \u001b[0;36msage.rings.polynomial.polynomial_zz_pex.Polynomial_ZZ_pEX.get_unsafe (build/cythonized/sage/rings/polynomial/polynomial_zz_pex.cpp:20424)\u001b[0;34m()\u001b[0m\n\u001b[1;32m    177\u001b[0m     self._parent._modulus.restore()\n\u001b[1;32m    178\u001b[0m     cdef ZZ_pE_c c_pE = ZZ_pEX_coeff(self.x, i)\n\u001b[0;32m--> 179\u001b[0m     return self._parent._base(ZZ_pE_c_to_list(c_pE))\n\u001b[1;32m    180\u001b[0m \n\u001b[1;32m    181\u001b[0m cpdef list list(self, bint copy=True):\n",
      "File \u001b[0;32m~/anaconda3/envs/sage/lib/python3.12/site-packages/sage/structure/parent.pyx:900\u001b[0m, in \u001b[0;36msage.structure.parent.Parent.__call__ (build/cythonized/sage/structure/parent.c:12762)\u001b[0;34m()\u001b[0m\n\u001b[1;32m    898\u001b[0m if mor is not None:\n\u001b[1;32m    899\u001b[0m     if no_extra_args:\n\u001b[0;32m--> 900\u001b[0m         return mor._call_(x)\n\u001b[1;32m    901\u001b[0m     else:\n\u001b[1;32m    902\u001b[0m         return mor._call_with_args(x, args, kwds)\n",
      "File \u001b[0;32m~/anaconda3/envs/sage/lib/python3.12/site-packages/sage/structure/coerce_maps.pyx:159\u001b[0m, in \u001b[0;36msage.structure.coerce_maps.DefaultConvertMap_unique._call_ (build/cythonized/sage/structure/coerce_maps.c:6871)\u001b[0;34m()\u001b[0m\n\u001b[1;32m    157\u001b[0m cdef Parent C = self._codomain\n\u001b[1;32m    158\u001b[0m try:\n\u001b[0;32m--> 159\u001b[0m     return C._element_constructor(x)\n\u001b[1;32m    160\u001b[0m except Exception:\n\u001b[1;32m    161\u001b[0m     if print_warnings:\n",
      "File \u001b[0;32m~/anaconda3/envs/sage/lib/python3.12/site-packages/sage/rings/finite_rings/finite_field_givaro.py:223\u001b[0m, in \u001b[0;36mFiniteField_givaro._element_constructor_\u001b[0;34m(self, e)\u001b[0m\n\u001b[1;32m    205\u001b[0m \u001b[38;5;250m    \u001b[39m\u001b[38;5;124;03m\"\"\"\u001b[39;00m\n\u001b[1;32m    206\u001b[0m \u001b[38;5;124;03m    Return a random element of ``self``.\u001b[39;00m\n\u001b[1;32m    207\u001b[0m \n\u001b[0;32m   (...)\u001b[0m\n\u001b[1;32m    219\u001b[0m \u001b[38;5;124;03m        True\u001b[39;00m\n\u001b[1;32m    220\u001b[0m \u001b[38;5;124;03m    \"\"\"\u001b[39;00m\n\u001b[1;32m    221\u001b[0m     \u001b[38;5;28;01mreturn\u001b[39;00m \u001b[38;5;28mself\u001b[39m\u001b[38;5;241m.\u001b[39m_cache\u001b[38;5;241m.\u001b[39mrandom_element()\n\u001b[0;32m--> 223\u001b[0m \u001b[38;5;28;01mdef\u001b[39;00m\u001b[38;5;250m \u001b[39m\u001b[38;5;21m_element_constructor_\u001b[39m(\u001b[38;5;28mself\u001b[39m, e):\n\u001b[1;32m    224\u001b[0m \u001b[38;5;250m    \u001b[39m\u001b[38;5;124;03m\"\"\"\u001b[39;00m\n\u001b[1;32m    225\u001b[0m \u001b[38;5;124;03m    Coerces several data types to ``self``.\u001b[39;00m\n\u001b[1;32m    226\u001b[0m \n\u001b[0;32m   (...)\u001b[0m\n\u001b[1;32m    362\u001b[0m \u001b[38;5;124;03m        2*a4^3 + 2*a4^2 + 1\u001b[39;00m\n\u001b[1;32m    363\u001b[0m \u001b[38;5;124;03m    \"\"\"\u001b[39;00m\n\u001b[1;32m    364\u001b[0m     \u001b[38;5;28;01mreturn\u001b[39;00m \u001b[38;5;28mself\u001b[39m\u001b[38;5;241m.\u001b[39m_cache\u001b[38;5;241m.\u001b[39melement_from_data(e)\n",
      "File \u001b[0;32msignals.pyx:355\u001b[0m, in \u001b[0;36mcysignals.signals.python_check_interrupt\u001b[0;34m()\u001b[0m\n",
      "\u001b[0;31mKeyboardInterrupt\u001b[0m: "
     ]
    }
   ],
   "source": [
    "enumAllCanonicalForm(5)"
   ]
  }
 ],
 "metadata": {
  "kernelspec": {
   "display_name": "SageMath 10.6",
   "language": "sage",
   "name": "sagemath"
  },
  "language_info": {
   "codemirror_mode": {
    "name": "ipython",
    "version": 3
   },
   "file_extension": ".py",
   "mimetype": "text/x-python",
   "name": "sage",
   "nbconvert_exporter": "python",
   "pygments_lexer": "ipython3",
   "version": "3.12.10"
  }
 },
 "nbformat": 4,
 "nbformat_minor": 5
}
